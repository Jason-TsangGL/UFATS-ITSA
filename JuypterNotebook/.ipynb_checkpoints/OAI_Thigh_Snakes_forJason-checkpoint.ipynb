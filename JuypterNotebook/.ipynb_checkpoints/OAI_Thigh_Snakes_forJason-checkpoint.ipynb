{
 "cells": [
  {
   "cell_type": "code",
   "execution_count": null,
   "metadata": {},
   "outputs": [],
   "source": [
    "#apply the whites mask onto the filtered image to generate the image that the snake will be operating on\n",
    "\n",
    "def get_snakeim():\n",
    "    snake_im=Ivol8c_c_s.copy() #copy Ivol8c with enhanced sharpness - has darkened fascia lines\n",
    "    for i in range(j):\n",
    "        snake_im[i][whites[i]==1] = 255 #where the coordinates on white=1 (vessels), on snake_im make it make those coordaintes it 255 (make the vessel coordinates white to remove them)\n",
    "\n",
    "    return snake_im\n",
    "\n",
    "snake_im=get_snakeim()"
   ]
  },
  {
   "cell_type": "code",
   "execution_count": 1,
   "metadata": {},
   "outputs": [
    {
     "ename": "NameError",
     "evalue": "name 'np' is not defined",
     "output_type": "error",
     "traceback": [
      "\u001b[0;31m---------------------------------------------------------------------------\u001b[0m",
      "\u001b[0;31mNameError\u001b[0m                                 Traceback (most recent call last)",
      "\u001b[0;32m<ipython-input-1-8a4b1e7ebe30>\u001b[0m in \u001b[0;36m<module>\u001b[0;34m\u001b[0m\n\u001b[1;32m      7\u001b[0m     \u001b[0;32mreturn\u001b[0m \u001b[0mbilateral_t\u001b[0m\u001b[0;34m\u001b[0m\u001b[0;34m\u001b[0m\u001b[0m\n\u001b[1;32m      8\u001b[0m \u001b[0;34m\u001b[0m\u001b[0m\n\u001b[0;32m----> 9\u001b[0;31m \u001b[0mbilateral_t\u001b[0m\u001b[0;34m=\u001b[0m\u001b[0mbilat_fil_snake_im\u001b[0m\u001b[0;34m(\u001b[0m\u001b[0mnp\u001b[0m\u001b[0;34m.\u001b[0m\u001b[0muint8\u001b[0m\u001b[0;34m(\u001b[0m\u001b[0msnake_im\u001b[0m\u001b[0;34m)\u001b[0m\u001b[0;34m)\u001b[0m\u001b[0;34m\u001b[0m\u001b[0;34m\u001b[0m\u001b[0m\n\u001b[0m\u001b[1;32m     10\u001b[0m \u001b[0mstackimages\u001b[0m\u001b[0;34m(\u001b[0m\u001b[0mbilateral_t\u001b[0m\u001b[0;34m)\u001b[0m\u001b[0;34m\u001b[0m\u001b[0;34m\u001b[0m\u001b[0m\n",
      "\u001b[0;31mNameError\u001b[0m: name 'np' is not defined"
     ]
    }
   ],
   "source": [
    "#bilateral filter to remove excess noise, preserve edges\n",
    "\n",
    "def bilat_fil_snake_im(image):\n",
    "    bilateral_t=np.zeros([Ivol8c_roi.shape[0], Ivol8c_roi.shape[1], Ivol8c_roi.shape[2]], dtype='uint8')\n",
    "    for i in range(j):\n",
    "        bilateral_t[i] = cv2.bilateralFilter(image[i],20,35,35)\n",
    "    return bilateral_t\n",
    "\n",
    "bilateral_t=bilat_fil_snake_im(np.uint8(snake_im))\n",
    "stackimages(bilateral_t)"
   ]
  },
  {
   "cell_type": "code",
   "execution_count": null,
   "metadata": {},
   "outputs": [],
   "source": [
    "hull2vol=[]\n",
    "\n",
    "for i in range(5):\n",
    "    hull2vol.append([])\n",
    "    for i2 in range(len(fullcontoursvol[i][0][0])):\n",
    "        hull2vol[i].append(fullcontoursvol[i][0][0][i2][0])\n",
    "        \n",
    "\n",
    "    hull2vol[i]=np.array(hull2vol[i])\n",
    "    hull2vol[i]=hull2vol[i].astype(float)"
   ]
  },
  {
   "cell_type": "code",
   "execution_count": null,
   "metadata": {},
   "outputs": [],
   "source": [
    "#primary\n",
    "def primary_snake():\n",
    "\n",
    "    snakevol_p=[]\n",
    "    for i in range(j):\n",
    "        snakevol_p.append([])\n",
    "        snakevol_p[i]= active_contour(bilateral_t[i], hull2vol[i],alpha=0.0001,gamma=10,beta=0.05,w_edge=2,w_line=-5,convergence=0.5)\n",
    "        \n",
    "        #hull2vol[i] = coordinates for snake initiation \n",
    "        #alpha=snakes energy, tendency to move away from OG initiator (higher alpha=more freedom to move)-small here cus initiated snake close to fascia already \n",
    "        #beta= smoothness (higher beta = smoother) w_line = attraction the dark/white (- means attracted to DARK pixels, + to white pixels) w_edge - attraction to edges (higher=more attraction)\n",
    "\n",
    "\n",
    "    return snakevol_p #LIST of coordinates\n",
    "\n",
    "snakevol_p=primary_snake()\n",
    "\n",
    "fig, axs = plt.subplots(j, 3, figsize=(18,80))   \n",
    "for i in range(j):\n",
    "    axs[i,0].set_title(f\"slice {i+1}\", fontsize=14)\n",
    "    axs[i,0].imshow(bilateral_t[i], cmap='bone')\n",
    "\n",
    "    axs[i,1].imshow(bilateral_t[i], cmap='bone')\n",
    "    axs[i,1].plot(hull2vol[i][:, 0], hull2vol[i][:, 1], '--r', lw=1)\n",
    "\n",
    "    axs[i,2].imshow(bilateral_t[i], cmap='bone')\n",
    "    axs[i,2].plot(snakevol_p[i][:, 0], snakevol_p[i][:, 1], '-b', lw=1)\n",
    "    "
   ]
  },
  {
   "cell_type": "code",
   "execution_count": null,
   "metadata": {},
   "outputs": [],
   "source": [
    "#convert snakes coordinates to mask\n",
    "\n",
    "def snaketomask(coordinates): \n",
    "    \n",
    "    vol=[]\n",
    "\n",
    "    for i in range(j):\n",
    "        vol.append([])\n",
    "        for i2 in range(len(coordinates[i])):\n",
    "            vol[i].append([])\n",
    "#             print(coordinates[i][i2])\n",
    "            vol[i][i2].append(coordinates[i][i2])\n",
    "\n",
    "        vol[i]=np.rint(vol[i]).astype(int)\n",
    "\n",
    "    drawsnakevol= np.zeros((Ivol8c_subcfat.shape[0], Ivol8c_subcfat.shape[1], Ivol8c_subcfat.shape[2]), np.uint8)\n",
    "    \n",
    "    #polylines function connects the dots to make it one smooth contour\n",
    "    for i in range(j):\n",
    "        cv2.polylines(drawsnakevol[i], [vol[i]], isClosed=True, color = (1, 0, 0) , thickness=1) \n",
    "    \n",
    "    snakemaskvol=drawsnakevol.copy()\n",
    "\n",
    "    h, w = subcfatvol[i].shape[:2]\n",
    "\n",
    "    for i in range (j):\n",
    "        mask = np.zeros((h+2, w+2), np.uint8)\n",
    "        (x,y),radius = cv2.minEnclosingCircle(vol[i]) #(x, y) coordinates of the centre of the \"circle\"\n",
    "        cv2.floodFill(snakemaskvol[i], mask, (round(x),round(y)), 255)\n",
    "\n",
    "    ret, snakemaskvol = cv2.threshold(snakemaskvol,0,1,cv2.THRESH_BINARY)\n",
    "    return snakemaskvol\n",
    "\n",
    "snakemaskvol_p=snaketomask(snakevol_p)"
   ]
  },
  {
   "cell_type": "code",
   "execution_count": null,
   "metadata": {},
   "outputs": [],
   "source": [
    "#secondary snakes\n",
    "#pick up stuff primary snakes didn't pick up\n",
    "\n",
    "def secondary_snake(): \n",
    "    snakevol_s=[]\n",
    "\n",
    "    for i in range(j):\n",
    "        snakevol_s.append([])       \n",
    "        snakevol_s[i]= active_contour(snake_im[i], hull2vol[i],alpha=0.0005, beta=1,w_line=-1, w_edge=1,gamma=0.5)\n",
    "    return snakevol_s\n",
    "\n",
    "snakevol_s=secondary_snake() #COORDINATES\n",
    "\n",
    "fig, axs = plt.subplots(j, 3, figsize=(15,80))   #note that snakes is not following the textures on Ivol8c_roi but on snake_im!!\n",
    "for i in range(j):\n",
    "    axs[i,0].set_title(f\"slice {i+1}\", fontsize=14)\n",
    "    axs[i,0].imshow(Ivol8c_roi[i], cmap='bone')\n",
    "\n",
    "    axs[i,1].imshow(snake_im[i], cmap='bone')\n",
    "    axs[i,1].plot(hull2vol[i][:, 0], hull2vol[i][:, 1], '--r', lw=1)\n",
    "\n",
    "    axs[i,2].imshow(Ivol8c_roi[i], cmap='bone')\n",
    "    axs[i,2].plot(snakevol_s[i][:, 0], snakevol_s[i][:, 1], '-b', lw=1);\n",
    "    "
   ]
  },
  {
   "cell_type": "code",
   "execution_count": null,
   "metadata": {},
   "outputs": [],
   "source": [
    "#convert snakes coordinates to mask\n",
    "snakemaskvol_s=snaketomask(snakevol_s) \n",
    "stackimages(snakemaskvol_s)"
   ]
  },
  {
   "cell_type": "code",
   "execution_count": null,
   "metadata": {},
   "outputs": [],
   "source": [
    "#add two snake masks together\n",
    "add=snakemaskvol_p+snakemaskvol_s  \n",
    "ret, add = cv2.threshold(add,0,1,cv2.THRESH_BINARY) "
   ]
  },
  {
   "cell_type": "code",
   "execution_count": null,
   "metadata": {},
   "outputs": [],
   "source": [
    "#get contour of added snakes - will be new hull for final snakes\n",
    "fullcontours_im, drawing3vol, fullcontoursvol=get_contours(add) \n",
    "hull4vol=compatible_coordlist(fullcontoursvol)"
   ]
  },
  {
   "cell_type": "code",
   "execution_count": null,
   "metadata": {},
   "outputs": [],
   "source": [
    "#final snakes - fine tune - use hull from ADDED snake masks (should be more accurate)\n",
    "\n",
    "def snake_finetune(): #initiate snake with ADDED snakes\n",
    "    snakevol3=[]\n",
    "    for i in range(j):\n",
    "        snakevol3.append([])\n",
    "        snakevol3[i]= active_contour(snake_im[i], hull4vol[i],alpha=0.0001,gamma=20,w_line=-1,w_edge=4)\n",
    "    return snakevol3\n",
    "\n",
    "snakevol3=snake_finetune()\n",
    "    \n",
    "\n",
    "    \n",
    "fig, axs = plt.subplots(j, 3, figsize=(18,200))   \n",
    "for i in range(j):\n",
    "    axs[i, 0].set_title(f\"slice {i+1}\", fontsize=14)\n",
    "    axs[i,0].imshow(Ivol8c_roi[i], cmap='bone')\n",
    "\n",
    "    axs[i,1].imshow(Ivol8c_roi[i], cmap='bone')\n",
    "    axs[i,1].plot(hull4vol[i][:, 0], hull4vol[i][:, 1], '-r', lw=1) #??\n",
    "\n",
    "    axs[i,2].imshow(Ivol8c_roi[i], cmap='bone')\n",
    "    axs[i,2].plot(snakevol3[i][:, 0], snakevol3[i][:, 1], '-b', lw=1);\n"
   ]
  },
  {
   "cell_type": "code",
   "execution_count": null,
   "metadata": {},
   "outputs": [],
   "source": [
    "#convert snakes coordinates to mask\n",
    "snakemaskvol=snaketomask(snakevol3)"
   ]
  },
  {
   "cell_type": "code",
   "execution_count": null,
   "metadata": {},
   "outputs": [],
   "source": [
    "#add snake mask and rough muscle mask to account for any missed pieces\n",
    "musclemaskvol2=snakemaskvol+t2 #t2 was muscle mask without snakes\n",
    "ret, musclemaskvol2 = cv2.threshold(musclemaskvol2,0,1,cv2.THRESH_BINARY)\n",
    "\n"
   ]
  },
  {
   "cell_type": "code",
   "execution_count": null,
   "metadata": {},
   "outputs": [],
   "source": [
    "#makes edges smoother- shave off extra snake bits \n",
    "def snake_postprocessing(image): \n",
    "    closed=np.zeros([Ivol8c_roi.shape[0], Ivol8c_roi.shape[1], Ivol8c_roi.shape[2]], dtype='uint8')\n",
    "    snakemask_premerge=np.zeros([Ivol8c_roi.shape[0], Ivol8c_roi.shape[1], Ivol8c_roi.shape[2]], dtype='uint8')\n",
    "    for i in range(j):\n",
    "        closed[i]=cv2.morphologyEx(image[i], cv2.MORPH_CLOSE, np.ones((13,13),np.uint8))\n",
    "        snakemask_premerge[i]=cv2.morphologyEx(closed[i], cv2.MORPH_OPEN, np.ones((5,5),np.uint8))\n",
    "        snakemask_premerge[i]= (morphology.remove_small_objects(label(snakemask_premerge[i]),min_size=800, connectivity=1))\n",
    "    ret, snakemask_premerge = cv2.threshold(snakemask_premerge,0,1,cv2.THRESH_BINARY) \n",
    "    return snakemask_premerge\n",
    "\n",
    "snakemask_premerge=snake_postprocessing(musclemaskvol2)\n"
   ]
  },
  {
   "cell_type": "code",
   "execution_count": null,
   "metadata": {},
   "outputs": [],
   "source": [
    "#check snakes overlaps\n",
    "#keep the overlapping portions in a slice's 2 adjacent slices (3 slices total) in order to account for pieces missed\n",
    "def get_snakeoverlap():\n",
    "    \n",
    "    snake_merge=np.zeros([Ivol8c_roi.shape[0], Ivol8c_roi.shape[1], Ivol8c_roi.shape[2]], dtype='uint8')\n",
    "    for i in range(j):\n",
    "\n",
    "        if i==0:\n",
    "            snake_merge[i]=snakemask_premerge[i]+snakemask_premerge[i+1]\n",
    "            snake_merge[i][snake_merge[i]==2]=3\n",
    "        elif i==(j-1):\n",
    "            snake_merge[i]=snakemask_premerge[i-1]+snakemask_premerge[i]\n",
    "            snake_merge[i][snake_merge[i]==2]=3\n",
    "        else:\n",
    "            snake_merge[i]=snakemask_premerge[i-1]+snakemask_premerge[i]+snakemask_premerge[i+1]\n",
    "\n",
    "\n",
    "    #keeping the overlap\n",
    "    ret, snake_merge= cv2.threshold(snake_merge,1,1,cv2.THRESH_BINARY)\n",
    "    return snake_merge\n",
    "\n",
    "snake_merge=get_snakeoverlap() #final muscle mask\n",
    "stackimages(snake_merge)"
   ]
  }
 ],
 "metadata": {
  "kernelspec": {
   "display_name": "Python 3",
   "language": "python",
   "name": "python3"
  },
  "language_info": {
   "codemirror_mode": {
    "name": "ipython",
    "version": 3
   },
   "file_extension": ".py",
   "mimetype": "text/x-python",
   "name": "python",
   "nbconvert_exporter": "python",
   "pygments_lexer": "ipython3",
   "version": "3.8.8"
  }
 },
 "nbformat": 4,
 "nbformat_minor": 2
}
