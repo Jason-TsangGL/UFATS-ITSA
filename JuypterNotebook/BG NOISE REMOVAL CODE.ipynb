{
 "cells": [
  {
   "cell_type": "code",
   "execution_count": null,
   "metadata": {},
   "outputs": [],
   "source": [
    "imageI=inputs[:, :, :, 0] #Inputs Variable \n",
    "ArrayI = np.zeros((1755, 256, 256, 1)) \n",
    "for x in range (1755): \n",
    "    for i in range (9):\n",
    "        ArrayI[x,:,:,0]+=mask[x,:,:,i] #Merged MSK Mask\n",
    "ArrayII=ArrayI[:, :, :, 0] # Get rid of [:,:,:,1]\n",
    "INVArrayI=1-ArrayII #Invered Mask\n",
    "INVArrayII=INVArrayI*imageI #Mask multipled with array\n",
    "INVArrayIII=np.where(INVArrayII > 80, 1 , 0) #Get rid of magnetic background noise\n",
    "ArrayIII = INVArrayIII+ArrayII #Add both the merged msk and inv msk together\n",
    "FINALArray=ArrayIII*imageI #Multiply new mask with original image\n",
    "for i in range (2):\n",
    "    plt.imshow(FINALArray[i],cmap=plt.cm.bone,vmin=0,vmax=255)\n",
    "    plt.show()"
   ]
  }
 ],
 "metadata": {
  "kernelspec": {
   "display_name": "Python 3",
   "language": "python",
   "name": "python3"
  },
  "language_info": {
   "codemirror_mode": {
    "name": "ipython",
    "version": 3
   },
   "file_extension": ".py",
   "mimetype": "text/x-python",
   "name": "python",
   "nbconvert_exporter": "python",
   "pygments_lexer": "ipython3",
   "version": "3.8.5"
  }
 },
 "nbformat": 4,
 "nbformat_minor": 4
}
