{
 "cells": [
  {
   "cell_type": "code",
   "execution_count": 22,
   "metadata": {},
   "outputs": [],
   "source": [
    "import matplotlib.pyplot as plt\n",
    "import numpy as np\n",
    "import SimpleITK as sitk\n",
    "import os as os\n",
    "import nrrd as reader\n",
    "#from sklearn.preprocessing import Normalizer\n",
    "import cv2  \n",
    "from skimage import morphology\n",
    "from skimage.measure import label\n",
    "from skimage.segmentation import active_contour\n",
    "from skimage import data, io, img_as_ubyte,filters\n",
    "\n",
    "j = 5"
   ]
  },
  {
   "cell_type": "code",
   "execution_count": 23,
   "metadata": {},
   "outputs": [],
   "source": [
    "def join(one, two):\n",
    "    return os.path.join(one, two)"
   ]
  },
  {
   "cell_type": "code",
   "execution_count": 24,
   "metadata": {},
   "outputs": [],
   "source": [
    "def check_path(path):\n",
    "    count=0\n",
    "    for files in sorted(os.listdir(path)):\n",
    "        image_path = os.path.join(path,files)\n",
    "        count+=1\n",
    "    return count"
   ]
  },
  {
   "cell_type": "code",
   "execution_count": 25,
   "metadata": {},
   "outputs": [],
   "source": [
    "# (patient count* 15) check_path function will return total patient count \n",
    "folder_path = join(os.getcwd(), \"dataset\")\n",
    "test_path = join(os.getcwd(),\"Test\")\n",
    "length = check_path(folder_path)\n",
    "inputs = np.zeros((length*15,256,256, 1))\n",
    "inputsFLE = np.zeros((length*15,256,256, 1))\n",
    "outputs = np.zeros((length*15,256,256 , 9))"
   ]
  },
  {
   "cell_type": "code",
   "execution_count": 26,
   "metadata": {},
   "outputs": [],
   "source": [
    "#Inhomogeneity Correction\n",
    "def correct_roi(image):\n",
    "    inputImage=sitk.GetImageFromArray(image)\n",
    "    inputImage = sitk.Cast(inputImage, sitk.sitkFloat32 )\n",
    "    corrector = sitk.N4BiasFieldCorrectionImageFilter()\n",
    "    output = corrector.Execute( inputImage)\n",
    "    image_c= sitk.GetArrayFromImage(output)\n",
    "    image_c=cv2.normalize(src=image_c, dst=None, alpha=0.0, beta=255.0, norm_type=cv2.NORM_MINMAX, dtype=cv2.CV_8U) #need to normalize, not direct conversion by \"np.uint8\"\n",
    "    return image_c"
   ]
  },
  {
   "cell_type": "code",
   "execution_count": 27,
   "metadata": {},
   "outputs": [],
   "source": [
    "def dcm_to_np(path):\n",
    "    global dic_count\n",
    "    try:\n",
    "        slice_filenames = sitk.ImageSeriesReader_GetGDCMSeriesFileNames(path)\n",
    "        image = sitk.ReadImage(slice_filenames)\n",
    "        for x in range(15):\n",
    "            current_slice = image[:, :, x]\n",
    "            current_array = sitk.GetArrayFromImage(current_slice)\n",
    "            split_array = current_array[:,:-256]\n",
    "            inputs[dic_count] = split_array[:, :, np.newaxis]\n",
    "            dic_count+=1\n",
    "        print(dic_count)\n",
    "    except Exception as e:\n",
    "        print(e)"
   ]
  },
  {
   "cell_type": "code",
   "execution_count": 28,
   "metadata": {},
   "outputs": [],
   "source": [
    "def nrrd_to_np(meta_object):\n",
    "    global ann_count\n",
    "    try:\n",
    "        data = sitk.GetArrayFromImage(meta_object)\n",
    "        for p in range(15):\n",
    "            outputs[ann_count] = np.expand_dims(np.where(data[p, :, :256] == 2, 1, 0), axis=2)\n",
    "            ann_count+=1\n",
    "        print(ann_count)\n",
    "    except Exception as e:\n",
    "        print(e)"
   ]
  },
  {
   "cell_type": "code",
   "execution_count": 29,
   "metadata": {},
   "outputs": [
    {
     "name": "stdout",
     "output_type": "stream",
     "text": [
      "[Errno 2] No such file or directory: '/Users/jasontsang/Desktop/[TBD] RAMER/JuypterNotebook/dataset/123456/FLE'\n"
     ]
    }
   ],
   "source": [
    "dic_count = 0\n",
    "ann_count = 0\n",
    "try:\n",
    "    for patient in sorted(os.listdir(folder_path)):\n",
    "            patient_path = join(folder_path, patient)\n",
    "            fle_folder = join(patient_path, \"FLE\")\n",
    "            for fle in os.listdir(fle_folder):\n",
    "                if(\".nrrd\" in fle):\n",
    "                    flesegmentation = sitk.ReadImage(join(fle_folder, fle))\n",
    "                    nrrd_to_np(flesegmentation)\n",
    "                    \n",
    "except Exception as e:\n",
    "    print(e)"
   ]
  },
  {
   "cell_type": "code",
   "execution_count": null,
   "metadata": {},
   "outputs": [],
   "source": []
  }
 ],
 "metadata": {
  "kernelspec": {
   "display_name": "Python 3",
   "language": "python",
   "name": "python3"
  },
  "language_info": {
   "codemirror_mode": {
    "name": "ipython",
    "version": 3
   },
   "file_extension": ".py",
   "mimetype": "text/x-python",
   "name": "python",
   "nbconvert_exporter": "python",
   "pygments_lexer": "ipython3",
   "version": "3.8.5"
  }
 },
 "nbformat": 4,
 "nbformat_minor": 4
}
