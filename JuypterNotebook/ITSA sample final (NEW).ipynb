{
 "cells": [
  {
   "cell_type": "code",
   "execution_count": null,
   "metadata": {
    "colab": {},
    "colab_type": "code",
    "id": "oOGr5S-Wh1Gl"
   },
   "outputs": [],
   "source": [
    "import pandas as pd\n",
    "import os\n",
    "import pydicom as dicom\n",
    "import cv2\n",
    "import matplotlib.pyplot as plt\n",
    "import numpy as np\n",
    "import SimpleITK as sitk\n",
    "import sys\n",
    "import morphsnakes as ms\n",
    "from skimage import morphology\n",
    "from skimage.measure import label\n",
    "from skimage.segmentation import active_contour\n",
    "from skimage import data, io, img_as_ubyte,filters\n",
    "import matplotlib as mpl\n",
    "%matplotlib inline\n",
    "mpl.rc('image', interpolation='none')\n"
   ]
  },
  {
   "cell_type": "markdown",
   "metadata": {
    "colab_type": "text",
    "id": "UJzmVRIUh1Gr"
   },
   "source": [
    "# SINGLE SLICE\n",
    "\n",
    "\n"
   ]
  },
  {
   "cell_type": "markdown",
   "metadata": {
    "colab_type": "text",
    "id": "D846PzqSh1Gv"
   },
   "source": [
    "## Get image"
   ]
  },
  {
   "cell_type": "code",
   "execution_count": null,
   "metadata": {
    "colab": {},
    "colab_type": "code",
    "id": "zfoaFyH3h1Gr"
   },
   "outputs": [],
   "source": [
    "image_path = os.path.join(\"123456Annotated\") #diff directory than jupyter\n",
    "slice_filenames = sitk.ImageSeriesReader_GetGDCMSeriesFileNames(image_path)\n",
    "image = sitk.ReadImage(slice_filenames)"
   ]
  },
  {
   "cell_type": "code",
   "execution_count": null,
   "metadata": {
    "colab": {
     "base_uri": "https://localhost:8080/",
     "height": 286
    },
    "colab_type": "code",
    "id": "fVOUqv__h1Gv",
    "outputId": "82858bd4-50e3-46ee-b4bf-3171279b019c"
   },
   "outputs": [],
   "source": [
    "MidI = sitk.GetArrayFromImage(image[100:260, 50:200, image.GetSize()[2]//2]) \n",
    "MidI8=cv2.normalize(src=MidI, dst=None, alpha=0.0, beta=255.0, norm_type=cv2.NORM_MINMAX, dtype=cv2.CV_8U)\n",
    "\n",
    "plt.imshow(MidI8, cmap=\"bone\")"
   ]
  },
  {
   "cell_type": "markdown",
   "metadata": {
    "colab_type": "text",
    "id": "Xp10Fkof7VOk"
   },
   "source": [
    "##Inhomogeneity correction"
   ]
  },
  {
   "cell_type": "code",
   "execution_count": null,
   "metadata": {
    "colab": {},
    "colab_type": "code",
    "id": "elqddZ1s-JI4"
   },
   "outputs": [],
   "source": [
    "#functions for inhomogeneity correction \n",
    "def correct_subcfat(image,mask):\n",
    "    inputImage=sitk.GetImageFromArray(image)\n",
    "    inputImage = sitk.Cast(inputImage, sitk.sitkFloat32 )\n",
    "    corrector = sitk.N4BiasFieldCorrectionImageFilter()\n",
    "    output = corrector.Execute( inputImage, mask)\n",
    "    image_c= sitk.GetArrayFromImage(output)\n",
    "    image_c=cv2.normalize(src=image_c, dst=None, alpha=0.0, beta=255.0, norm_type=cv2.NORM_MINMAX, dtype=cv2.CV_8U) #need to normalize, not direct conversion by \"np.uint8\"\n",
    "    fig, axs = plt.subplots (1, 2, figsize=(10,8))\n",
    "    axs[0].imshow(image, cmap='bone')\n",
    "    axs[0].set_title(\"Before Correction\")\n",
    "    axs[1].imshow(image_c, cmap='bone')\n",
    "    axs[1].set_title(\"After Correction\")\n",
    "    return image_c\n",
    "\n",
    "def correct_roi(image):\n",
    "    inputImage=sitk.GetImageFromArray(image)\n",
    "    inputImage = sitk.Cast(inputImage, sitk.sitkFloat32 )\n",
    "    corrector = sitk.N4BiasFieldCorrectionImageFilter()\n",
    "    output = corrector.Execute( inputImage)\n",
    "    image_c= sitk.GetArrayFromImage(output)\n",
    "    image_c=cv2.normalize(src=image_c, dst=None, alpha=0.0, beta=255.0, norm_type=cv2.NORM_MINMAX, dtype=cv2.CV_8U) #need to normalize, not direct conversion by \"np.uint8\"\n",
    "    fig, axs = plt.subplots (1, 2, figsize=(10,8))\n",
    "    axs[0].imshow(image, cmap='bone')\n",
    "    axs[0].set_title(\"Before Correction\")\n",
    "    axs[1].imshow(image_c, cmap='bone')\n",
    "    axs[1].set_title(\"After Correction\")\n",
    "    return image_c\n",
    "\n",
    "#only difference between the two is in the use of a mask for the corrector\n"
   ]
  },
  {
   "cell_type": "markdown",
   "metadata": {
    "colab_type": "text",
    "id": "cgeYU-5W2--x"
   },
   "source": [
    "####For Subcutaneous Fat\n",
    "- for creating subcfat mask"
   ]
  },
  {
   "cell_type": "code",
   "execution_count": null,
   "metadata": {
    "colab": {},
    "colab_type": "code",
    "id": "qUh66CiZ0e0k"
   },
   "outputs": [],
   "source": [
    "def multi_otsu_slice(image):\n",
    "    motsuth=filters.threshold_multiotsu(image, classes=3)\n",
    "    print(motsuth)\n",
    "    print (motsuth[1])\n",
    "    \n",
    "    regions=np.digitize(image,bins=motsuth)\n",
    "    output=img_as_ubyte(regions)\n",
    "\n",
    "    fig, ax=plt.subplots (1,4, figsize=(10,5))\n",
    "    ax[0].imshow(image, cmap=\"bone\")\n",
    "    ax[0].set_title(\"Original\")\n",
    "    ax[0].axis(\"off\")\n",
    "    ax[1].hist(image.ravel(),bins=255)\n",
    "\n",
    "    for th in motsuth:\n",
    "            ax[1].axvline(th,color=\"r\")\n",
    "    ax[2].imshow(regions,cmap=\"Accent\")\n",
    "    ax[2].set_title(\"Multi-Otsu Result\")\n",
    "    ax[2].axis (\"off\")\n",
    "    ax[3].imshow(image>motsuth[1],cmap=\"bone\")\n",
    "    ax[3].set_title(\"Threshold Applied\")\n",
    "    ax[3].axis (\"off\")\n",
    "    return motsuth[1] #(fat+ muscle th)\n"
   ]
  },
  {
   "cell_type": "code",
   "execution_count": null,
   "metadata": {
    "colab": {
     "base_uri": "https://localhost:8080/",
     "height": 388
    },
    "colab_type": "code",
    "id": "6EQtY8WQo8Bt",
    "outputId": "9ce4e772-e501-4ede-c33f-0c7b90f14889"
   },
   "outputs": [],
   "source": [
    "#Get subfat mask to use for inhomogoneity correction\n",
    "#need this mask or else shadow on top right won't be corrected and prevent proper creation of subcfat mask\n",
    "\n",
    "def IH_mask_slice(image):\n",
    "  IH_th=multi_otsu_slice(image) #apply multiotsu to get subcutaneous fat threshold\n",
    "  IH_mask=label(image>IH_th)\n",
    "  IH_mask= (morphology.remove_small_objects(IH_mask,min_size=800, connectivity=1)) #should we remove holes too or nah??\n",
    "  IH_mask= cv2.normalize(src=IH_mask, dst=None, alpha=0.0, beta=255.0, norm_type=cv2.NORM_MINMAX, dtype=cv2.CV_8U)\n",
    "  ret, IH_mask = cv2.threshold(IH_mask,0,1,cv2.THRESH_BINARY) \n",
    "\n",
    "  plt.imshow(IH_mask)\n",
    " \n",
    "  IH_mask=sitk.GetImageFromArray(IH_mask) #convert to sitk image\n",
    "\n",
    "  return IH_mask\n",
    "\n",
    "IH1_mask=IH_mask_slice(MidI8)\n"
   ]
  },
  {
   "cell_type": "code",
   "execution_count": null,
   "metadata": {
    "colab": {
     "base_uri": "https://localhost:8080/",
     "height": 302
    },
    "colab_type": "code",
    "id": "z9_xZ2qvh1G0",
    "outputId": "5141355d-a18e-4fad-c087-f05767a21d6d"
   },
   "outputs": [],
   "source": [
    "#Apply inhomogeneity correction with subcfat mask on MidI8  \n",
    "\n",
    "preMidI8c_roi=correct_subcfat(MidI8,IH1_mask)\n"
   ]
  },
  {
   "cell_type": "code",
   "execution_count": null,
   "metadata": {
    "colab": {
     "base_uri": "https://localhost:8080/",
     "height": 388
    },
    "colab_type": "code",
    "id": "uBQnGxfW7GZY",
    "outputId": "2f890292-f1d2-4953-c9d4-4e892126d32f"
   },
   "outputs": [],
   "source": [
    "#From corrected image get another subcfat mask-generates better mask to be used for correction\n",
    "IH2_mask=IH_mask_slice(preMidI8c_roi)"
   ]
  },
  {
   "cell_type": "code",
   "execution_count": null,
   "metadata": {
    "colab": {
     "base_uri": "https://localhost:8080/",
     "height": 302
    },
    "colab_type": "code",
    "id": "BVk5WWlHxoq2",
    "outputId": "ec9da8a9-e518-47a7-d792-ee97626d567d"
   },
   "outputs": [],
   "source": [
    "#Apply inhomogeneity correction new (better) subcfat mask to MidI8\n",
    "MidI8c_subcfat=correct_subcfat(MidI8,IH2_mask) # MidI8 and not preMidI8; MidI8 has the original bias field, applying to preMidI8c doesn't correct roi area correctly (top right too bright)"
   ]
  },
  {
   "cell_type": "markdown",
   "metadata": {
    "colab_type": "text",
    "id": "lfIA1O4t1O5t"
   },
   "source": [
    "####For ROI \n",
    "- will be multiplying roimask later with corrected image below to create roi\n"
   ]
  },
  {
   "cell_type": "code",
   "execution_count": null,
   "metadata": {
    "colab": {
     "base_uri": "https://localhost:8080/",
     "height": 302
    },
    "colab_type": "code",
    "id": "x8TLXB3v2iO7",
    "outputId": "7c7f3e4c-7b44-4716-c3d7-c1ae6d204e2a"
   },
   "outputs": [],
   "source": [
    "#Apply inhomogeneity correction without mask - need for proper correction of roi area (too bright if use mask to correct)\n",
    "#use this pic to obtain roi later\n",
    "\n",
    "MidI8c_roi=correct_roi(MidI8) "
   ]
  },
  {
   "cell_type": "markdown",
   "metadata": {
    "colab_type": "text",
    "id": "T_1xOA1p046g"
   },
   "source": [
    "##Muscle Mask"
   ]
  },
  {
   "cell_type": "code",
   "execution_count": null,
   "metadata": {
    "colab": {
     "base_uri": "https://localhost:8080/",
     "height": 707
    },
    "colab_type": "code",
    "id": "TeckBXRGh1G5",
    "outputId": "12973abe-847b-4e64-caae-3012a8d663b9",
    "scrolled": false
   },
   "outputs": [],
   "source": [
    "#Use otsu, island removal, and morphological closing to generate subcutaneous fat mask\n",
    "\n",
    "subcfat_th=multi_otsu_slice(MidI8c_subcfat) #get threshold for subcutaneous fat \n",
    "\n",
    "def subcfatmask(image):\n",
    "    subcfatmask=label(image>subcfat_th)\n",
    "    subcfatmask = morphology.remove_small_objects(subcfatmask,min_size=600, connectivity=1)\n",
    "    subcfatmask = (morphology.remove_small_holes(subcfatmask,area_threshold=200, connectivity=1))\n",
    "    subcfatmask = np.uint8(subcfatmask)\n",
    "    fig, axs = plt.subplots (1, 2, figsize=(10,8))\n",
    "    axs[0].imshow(image, cmap='bone')\n",
    "    axs[0].set_title(\"Corrected\")\n",
    "    axs[1].imshow(subcfatmask, cmap='bone')\n",
    "    axs[1].set_title(\"Subcfat Mask\")\n",
    "    return subcfatmask\n",
    "\n",
    "subcfatmask=subcfatmask(MidI8c_subcfat)"
   ]
  },
  {
   "cell_type": "code",
   "execution_count": null,
   "metadata": {
    "colab": {
     "base_uri": "https://localhost:8080/",
     "height": 218
    },
    "colab_type": "code",
    "id": "gXaL-CGJUDyg",
    "outputId": "36f39eb5-423e-48b2-fe4f-e39164c8f86b"
   },
   "outputs": [],
   "source": [
    "def musclemask(image):\n",
    "    im_ff=image.copy()\n",
    "    h, w = im_ff.shape[:2]\n",
    "    mask = np.zeros((h+2, w+2), np.uint8)\n",
    "    cv2.floodFill(im_ff, mask, (0,0), 1);\n",
    "    th, premusclemask = cv2.threshold(im_ff, 0, 1, cv2.THRESH_BINARY_INV)\n",
    "    kernel = np.ones((15,15),np.uint8)\n",
    "    musclemask = cv2.morphologyEx(premusclemask, cv2.MORPH_CLOSE, kernel)\n",
    "    fig, axs = plt.subplots (1, 3, figsize=(10,8))\n",
    "    axs[0].imshow(im_ff, cmap='bone')\n",
    "    axs[0].set_title(f\"im_ff\")\n",
    "    axs[1].imshow(premusclemask, cmap='bone')\n",
    "    axs[1].set_title(f\"premusclemask\")\n",
    "    axs[2].imshow(musclemask, cmap='bone')\n",
    "    axs[2].set_title(f\"musclemask\")\n",
    "    return premusclemask,musclemask\n",
    "premusclemask,musclemask=musclemask(subcfatmask)"
   ]
  },
  {
   "cell_type": "markdown",
   "metadata": {
    "colab_type": "text",
    "id": "EPs_jkQl3S9E"
   },
   "source": [
    "##Bone removal + Histograms"
   ]
  },
  {
   "cell_type": "code",
   "execution_count": null,
   "metadata": {
    "colab": {
     "base_uri": "https://localhost:8080/",
     "height": 269
    },
    "colab_type": "code",
    "id": "V41Y5pFlzUsM",
    "outputId": "04d41194-f7d0-4614-c6b9-d1a7202e8580"
   },
   "outputs": [],
   "source": [
    "#Filter image prior to edge detection to reduce boundary heterogeneity\n",
    "\n",
    "def gaussian_filter(x=0, y=0):\n",
    "\n",
    "  MidI8c_roi_im=sitk.GetImageFromArray(MidI8c_roi)#convert array back to image\n",
    "\n",
    "  gaussian_im = sitk.SmoothingRecursiveGaussian(MidI8c_roi_im, 1)\n",
    "  gaussian_im = sitk.GetArrayFromImage(gaussian_im)\n",
    "  gaussian_im =cv2.normalize(src=gaussian_im, dst=None, alpha=0.0, beta=10.0, norm_type=cv2.NORM_MINMAX, dtype=cv2.CV_8U)\n",
    "  gaussian=gaussian_im\n",
    "\n",
    "  plt.imshow(gaussian, cmap='bone')\n",
    "        \n",
    "  return gaussian\n",
    "  \n",
    "gaussian_filter()\n",
    "filtered=gaussian_filter()"
   ]
  },
  {
   "cell_type": "code",
   "execution_count": null,
   "metadata": {
    "colab": {
     "base_uri": "https://localhost:8080/",
     "height": 258
    },
    "colab_type": "code",
    "id": "E0BRuB9Czc4I",
    "outputId": "f67b1519-2a21-41b9-f8aa-5c949bf64538"
   },
   "outputs": [],
   "source": [
    "#Generate edges prior to locating marrow\n",
    "\n",
    "kernel = np.ones((5,5),np.uint8)\n",
    "\n",
    "edges=cv2.Canny(filtered, 15, 20) \n",
    "edges= cv2.morphologyEx(edges, cv2.MORPH_CLOSE, np.ones((5,5),np.uint8))\n",
    "\n",
    "edges = cv2.dilate(edges,np.ones((4,5),np.uint8),iterations = 1)\n",
    "edges = cv2.erode(edges,np.ones((4,4),np.uint8),iterations = 1)\n",
    "\n",
    "fig, ax = plt.subplots(1,2, figsize=(8, 4))\n",
    "ax[0].imshow(MidI8c_roi, cmap='bone')\n",
    "ax[1].imshow(edges)"
   ]
  },
  {
   "cell_type": "code",
   "execution_count": null,
   "metadata": {
    "colab": {
     "base_uri": "https://localhost:8080/",
     "height": 286
    },
    "colab_type": "code",
    "id": "YOVIzkKLh1HH",
    "outputId": "9b005d5c-fbb1-4ecc-f156-1e2036a83d5f"
   },
   "outputs": [],
   "source": [
    "#generate marrow mask\n",
    "\n",
    "\n",
    "r=np.zeros([MidI8c_roi.shape[0], MidI8c_roi.shape[1]], dtype='uint8')\n",
    "contours, hierc = cv2.findContours(edges, cv2.RETR_TREE, cv2.CHAIN_APPROX_SIMPLE) #generates list of contours and hierarchy\n",
    "\n",
    "contour_list = [] # empty list\n",
    "for contour in contours: # for each item in the contours list\n",
    "    approx = cv2.approxPolyDP(contour,0.01*cv2.arcLength(contour,True),True) #approximates polygonal curves\n",
    "    area = cv2.contourArea(contour) #determines the area inside the contour\n",
    "    if ((len(approx) > 8) & (area > 30) ): \n",
    "        contour_list.append(contour) #appends to contour_list if the contour is longer and area is larger than their specified values\n",
    "  \n",
    "boneROI = []              \n",
    "for i in range (len(contour_list)): #for each item in the contour_list (4 items were appended here)\n",
    "    (x,y),radius = cv2.minEnclosingCircle(contour_list[i]) #finds a circle of the minimum area enclosing a 2d point set\n",
    "    center = (int(x),int(y))\n",
    "    radius = int(radius)\n",
    "    #cv2.circle(MidI82,center,radius,(0,255,0),2) #draws a circle\n",
    "    if radius < 10: #appends to boneROI if the radius is less than the specified number (indicating bone)\n",
    "        boneROI.append(contour_list[i])  \n",
    "\n",
    "bonemw = cv2.drawContours(r, boneROI,  -1, (1,0,0), 2) #contour parameters\n",
    "\n",
    "# fill in bone marrow\n",
    "im_floodfill = bonemw.copy()\n",
    "\n",
    "h, w = im_floodfill.shape[:2]\n",
    "mask = np.zeros((h+2, w+2), np.uint8) # Create 0's mask \n",
    "\n",
    "cv2.floodFill(im_floodfill, mask, (0,0), 255);    # Floodfill from point (0, 0) with 255 value \n",
    " \n",
    "im_floodfill_inv = cv2.bitwise_not(im_floodfill)   # Invert floodfilled image\n",
    " \n",
    "bonemwff = bonemw | im_floodfill_inv # Combine the two images to get the foreground.\n",
    "\n",
    "th, bonem = cv2.threshold(bonemwff, 0, 1, cv2.THRESH_BINARY)\n",
    "\n",
    "fig, axs = plt.subplots (1, 2, figsize=(12,4))\n",
    "axs[0].imshow(bonemw,cmap=\"bone\")\n",
    "axs[1].imshow(bonem,\"bone\")"
   ]
  },
  {
   "cell_type": "code",
   "execution_count": null,
   "metadata": {
    "colab": {
     "base_uri": "https://localhost:8080/",
     "height": 289
    },
    "colab_type": "code",
    "id": "cHDyMt2qh1HK",
    "outputId": "16d51d17-354c-46c6-8801-b9fda49c60cc"
   },
   "outputs": [],
   "source": [
    "#Superimpose marrow mask on MRI to check validity\n",
    "\n",
    "fig, axs = plt.subplots (1, 2, figsize=(10,5))\n",
    "def check(im, roi, x):\n",
    "    overlay = np.ma.masked_where(roi == 0, roi)\n",
    "    axs[x].imshow(im, cmap=\"bone\")\n",
    "    axs[x].imshow(overlay, cmap=\"hsv\", vmin=0, vmax=1, alpha=0.5)\n",
    "axs[0].imshow(MidI8c_roi, cmap='bone')\n",
    "check(MidI8c_roi, bonem, 1)"
   ]
  },
  {
   "cell_type": "code",
   "execution_count": null,
   "metadata": {
    "colab": {
     "base_uri": "https://localhost:8080/",
     "height": 286
    },
    "colab_type": "code",
    "id": "pST1xqX7h1HN",
    "outputId": "c1c9629d-1417-45c0-eb2b-d1c366b681cf"
   },
   "outputs": [],
   "source": [
    "#Generate final ROI\n",
    "\n",
    "roimask=musclemask-bonem \n",
    "plt.imshow(roimask, cmap='bone')"
   ]
  },
  {
   "cell_type": "code",
   "execution_count": null,
   "metadata": {
    "colab": {
     "base_uri": "https://localhost:8080/",
     "height": 495
    },
    "colab_type": "code",
    "id": "rDA5eucnh1HQ",
    "outputId": "6d8bf327-6954-479e-b48c-4484d7c3e3f7"
   },
   "outputs": [],
   "source": [
    "#Comparing visuals and histograms of inhomogeneity corrected and non-corrected thigh image and ROI\n",
    "\n",
    "roi=roimask*MidI8c_roi\n",
    "\n",
    "fig, axs = plt.subplots (2, 4, figsize=(16,8))\n",
    "axs[0,0].imshow(MidI8, cmap='bone')\n",
    "axs[0,1].imshow(MidI8c_roi, cmap='bone')\n",
    "axs[0,2].imshow(roimask*MidI8, cmap='bone')\n",
    "axs[0,3].imshow(roi, cmap='bone')\n",
    "axs[1,0].hist(MidI8.ravel(),256,[20,256]) #supressing the first 20 pixels (which represent the outer black region)\n",
    "axs[1,1].hist(MidI8c_roi.ravel(),256,[20,256])\n",
    "axs[1,2].hist((roimask*MidI8).ravel(),256,[1,256]) #supressing the 0 pixel (representing the outer black region)\n",
    "axs[1,3].hist(roi.ravel(),256,[1,256])\n",
    "\n",
    "plt.show"
   ]
  },
  {
   "cell_type": "markdown",
   "metadata": {
    "colab_type": "text",
    "id": "Ctjd3tsv4B-g"
   },
   "source": [
    "##Fat segmentation "
   ]
  },
  {
   "cell_type": "markdown",
   "metadata": {
    "colab_type": "text",
    "id": "IPxIG2QmkvpT"
   },
   "source": [
    "### Threshold Optimization #1"
   ]
  },
  {
   "cell_type": "code",
   "execution_count": null,
   "metadata": {
    "colab": {
     "base_uri": "https://localhost:8080/",
     "height": 388
    },
    "colab_type": "code",
    "id": "KDsI9CdH7t_q",
    "outputId": "6e4d0bad-ca93-4927-8718-6342ea55e9d3"
   },
   "outputs": [],
   "source": [
    "#Get ITSA initiating threshold\n",
    "\n",
    "initial_th1=multi_otsu_slice(roi)"
   ]
  },
  {
   "cell_type": "code",
   "execution_count": null,
   "metadata": {
    "colab": {
     "base_uri": "https://localhost:8080/",
     "height": 1000
    },
    "colab_type": "code",
    "id": "Ntr-BVVPz_mE",
    "outputId": "9a8fc620-a786-4343-95da-d340e9437ab9"
   },
   "outputs": [],
   "source": [
    "#Display threshold evolution and image evolution\n",
    "\n",
    "k=1\n",
    "ThPrev=0 #previous\n",
    "ThRev=initial_th1 #starting point! we compare newest threshold to prev one\n",
    "\n",
    "#apply threshold\n",
    "while ThRev!=ThPrev: #while new threshold is NOT equal to prev threshold\n",
    "\n",
    "    ThPrev=ThRev #update the previous threshold for comparison in subsequent iterations\n",
    "    \n",
    "    prefatmask = label(roi>ThRev)\n",
    "    \n",
    "    fatmask = (morphology.remove_small_objects(prefatmask,min_size=8, connectivity=1))\n",
    "    \n",
    "    fatmask = cv2.normalize(src=fatmask, dst=None, alpha=0.0, beta=255.0, norm_type=cv2.NORM_MINMAX, dtype=cv2.CV_8U)\n",
    "    ret, fatseg1_mask = cv2.threshold(fatmask,0,1,cv2.THRESH_BINARY) \n",
    "    fatseg1 = fatseg1_mask*MidI8c_roi \n",
    "\n",
    "    preMuscSegM=roi-fatseg1  #ROI-fat=muscle\n",
    "\n",
    "    #masking the 0's in the image to exclude in the mean calculations\n",
    "    MuscSegM=np.ma.masked_where(preMuscSegM == 0, preMuscSegM)\n",
    "    FatSegM=np.ma.masked_where(fatseg1==0,fatseg1) \n",
    "\n",
    "    #Calculate mean signal intensities\n",
    "    MuscSegI=np.mean(MuscSegM)\n",
    "    FatSegI=np.mean(FatSegM)\n",
    "    \n",
    "    #Threshold optimization equation\n",
    "    ThRev=(1+((FatSegI-MuscSegI)/FatSegI))*MuscSegI \n",
    "\n",
    "    fig, axs = plt.subplots (1,4, figsize=(12,4))  \n",
    "    axs[0].imshow(preMuscSegM, cmap='bone', vmin=0, vmax=255) \n",
    "    axs[1].imshow(MuscSegM,cmap=\"bone\", vmin=0, vmax=255)\n",
    "    axs[2].imshow(fatseg1,cmap=\"bone\", vmin=0, vmax=255)\n",
    "    axs[3].imshow(FatSegM,cmap=\"bone\", vmin=0, vmax=255) \n",
    "    \n",
    "    print(f\"Revised Threshold={ThRev}\\n\\tMean MUSCLE Intensity={MuscSegI} pixels\\n\\tMean FAT Intensity={FatSegI} pixels\\n\\n\")\n",
    "\n",
    "    k+=1\n",
    "    if k==50:\n",
    "        break\n",
    "    "
   ]
  },
  {
   "cell_type": "markdown",
   "metadata": {
    "colab_type": "text",
    "id": "hKkooqQ8sJ2N"
   },
   "source": [
    "### Threshold Optimization #2"
   ]
  },
  {
   "cell_type": "code",
   "execution_count": null,
   "metadata": {
    "colab": {
     "base_uri": "https://localhost:8080/",
     "height": 376
    },
    "colab_type": "code",
    "id": "hBNDaxZqsj-q",
    "outputId": "5f0ac8b9-1ec4-473e-8f02-b19b18d5b90c"
   },
   "outputs": [],
   "source": [
    "#Remove first round of fat\n",
    "\n",
    "roi2 = roi-fatseg1\n",
    "\n",
    "fig, ax = plt.subplots (1, 3, figsize=(20,8))\n",
    "ax[0].imshow(roi, vmin=0, vmax=255, cmap='bone') \n",
    "ax[1].imshow(fatseg1, vmin=0, vmax=255,cmap='bone')\n",
    "ax[2].imshow(roi2, vmin=0, vmax=255,cmap='bone')"
   ]
  },
  {
   "cell_type": "code",
   "execution_count": null,
   "metadata": {
    "colab": {
     "base_uri": "https://localhost:8080/",
     "height": 388
    },
    "colab_type": "code",
    "id": "VudzvzKigGgY",
    "outputId": "30ecd9ac-69ba-4637-ae0c-5bbcae57e335"
   },
   "outputs": [],
   "source": [
    "# initial threshold for optimization loop using multi-otsu\n",
    "\n",
    "initial_th2=multi_otsu_slice(roi2)"
   ]
  },
  {
   "cell_type": "code",
   "execution_count": null,
   "metadata": {
    "colab": {
     "base_uri": "https://localhost:8080/",
     "height": 1000
    },
    "colab_type": "code",
    "id": "RPxUNN5Jzxyz",
    "outputId": "bbbdedb3-f0c8-4797-be7d-72c3950e0602"
   },
   "outputs": [],
   "source": [
    "k=1\n",
    "\n",
    "ThPrev2=0 #previous \n",
    "ThRev2=initial_th2 #revised\n",
    "\n",
    "while ThRev2!=ThPrev2: \n",
    "\n",
    "    ThPrev2=ThRev2  #update the previous threshold for comparison in subsequent iterations\n",
    "    \n",
    "    prefatmask2 = label(roi2>ThRev2)\n",
    "    \n",
    "    fatmask2 = (morphology.remove_small_objects(prefatmask2,min_size=8, connectivity=1))\n",
    "    fatmask2 = cv2.normalize(src=fatmask2, dst=None, alpha=0.0, beta=255.0, norm_type=cv2.NORM_MINMAX, dtype=cv2.CV_8U)\n",
    "    ret, fatseg2_mask = cv2.threshold(fatmask2,0,1,cv2.THRESH_BINARY) \n",
    "    fatseg2 = fatseg2_mask*roi2\n",
    "\n",
    "    preMuscSegM2=roi2-fatseg2  #ROI-fat=muscle\n",
    "\n",
    "    #masking the 0's in the image to exclude in the mean calculations\n",
    "    MuscSegM2=np.ma.masked_where(preMuscSegM2 == 0, preMuscSegM2)\n",
    "    FatSegM2=np.ma.masked_where(fatseg2==0,fatseg2)\n",
    "\n",
    "    #Calculate mean signal intensities\n",
    "    MuscSegI2=np.mean(MuscSegM2)\n",
    "    FatSegI2=np.mean(FatSegM2)\n",
    "\n",
    "    #Threshold optimization equation   \n",
    "    ThRev2=(1+((FatSegI2-MuscSegI2)/FatSegI2))*MuscSegI2 \n",
    "\n",
    "    fig, axs = plt.subplots (1,4, figsize=(12,4))  \n",
    "    axs[0].imshow(preMuscSegM2, cmap='bone', vmin=0, vmax=255) \n",
    "    axs[1].imshow(MuscSegM2,cmap=\"bone\", vmin=0, vmax=255)#took mean intensity of this\n",
    "    axs[2].imshow(fatseg2,cmap=\"bone\", vmin=0, vmax=255) #threshold for this is based on the manual threshold (85)\n",
    "    axs[3].imshow(FatSegM2,cmap=\"bone\", vmin=0, vmax=255) #took mean intensity of this\n",
    "    \n",
    "    print(f\"Revised Threshold={ThRev2}\\n\\tMean MUSCLE Intensity={MuscSegI2} pixels\\n\\tMean FAT Intensity={FatSegI2} pixels\\n\\n\")\n",
    "   \n",
    "    k+=1\n",
    "    if k==50:\n",
    "        break\n",
    "\n"
   ]
  },
  {
   "cell_type": "code",
   "execution_count": null,
   "metadata": {
    "colab": {
     "base_uri": "https://localhost:8080/",
     "height": 286
    },
    "colab_type": "code",
    "id": "vdZPYa4pQZRB",
    "outputId": "52edfa26-6947-4eed-a58d-8619ee64df6d"
   },
   "outputs": [],
   "source": [
    "plt.imshow(fatseg2_mask, cmap='bone')"
   ]
  },
  {
   "cell_type": "code",
   "execution_count": null,
   "metadata": {
    "colab": {
     "base_uri": "https://localhost:8080/",
     "height": 189
    },
    "colab_type": "code",
    "id": "ORQ-04xri4Ko",
    "outputId": "164eda0d-b1fe-4666-ce26-75cd368f8c52"
   },
   "outputs": [],
   "source": [
    "#For visualization\n",
    "\n",
    "#combining the first and second fat segmentations\n",
    "combined=fatseg1+fatseg2\n",
    "\n",
    "#Refine fatseg2: allow object connectivity with fatseg1\n",
    "fatsegfinal_mask = label(roi>ThRev2)\n",
    "fatsegfinal_mask = (morphology.remove_small_objects(fatsegfinal_mask,min_size=8, connectivity=1))\n",
    "fatsegfinal_mask = cv2.normalize(src=fatsegfinal_mask, dst=None, alpha=0.0, beta=255.0, norm_type=cv2.NORM_MINMAX, dtype=cv2.CV_8U)\n",
    "ret, fatsegfinal_mask = cv2.threshold(fatsegfinal_mask,0,1,cv2.THRESH_BINARY) \n",
    "fatsegfinal = fatsegfinal_mask*roi               \n",
    "\n",
    "fatseg2_refined_mask = (fatsegfinal != fatseg1).astype(int) #Isolate refined second fat segmentation\n",
    "fatseg2_refined=fatseg2_refined_mask*roi\n",
    "\n",
    "fig, axs = plt.subplots (1,5, figsize=(12,4))  \n",
    "axs[0].imshow(fatseg1, cmap='bone', vmin=0, vmax=255) \n",
    "axs[0].set_title(\"fatseg1\")\n",
    "axs[1].imshow(fatseg2,cmap=\"bone\", vmin=0, vmax=255)\n",
    "axs[1].set_title(\"fatseg2\")\n",
    "axs[2].imshow(fatseg2_refined,cmap=\"bone\", vmin=0, vmax=255)\n",
    "axs[2].set_title(\"fatseg2 refined\")\n",
    "axs[3].imshow(combined,cmap=\"bone\", vmin=0, vmax=255)\n",
    "axs[3].set_title(\"fatseg1+fatseg2\")\n",
    "axs[4].imshow(fatsegfinal,cmap=\"bone\", vmin=0, vmax=255) #XY connectivity between fatseg1 and fatseg2 considered in island removal\n",
    "axs[4].set_title(\"refined\")"
   ]
  },
  {
   "cell_type": "markdown",
   "metadata": {
    "colab_type": "text",
    "id": "zgwxNhj8lUT5"
   },
   "source": [
    "### Final Product\n"
   ]
  },
  {
   "cell_type": "code",
   "execution_count": null,
   "metadata": {
    "colab": {
     "base_uri": "https://localhost:8080/",
     "height": 713
    },
    "colab_type": "code",
    "id": "WQhLabJ_vdua",
    "outputId": "6ac5494f-8221-43da-cbaf-dc109fbbab53"
   },
   "outputs": [],
   "source": [
    "def check2(im, roi,x,y): \n",
    "    overlay = np.ma.masked_where(roi == 0, roi)\n",
    "    axs[x,y].imshow(im, cmap=\"bone\")\n",
    "    axs[x,y].imshow(overlay, cmap=\"hsv\", vmin=0, vmax=1, alpha=0.6)\n",
    "\n",
    "def check3(im, fat1, fat2,x,y):  \n",
    "    overlay1 = np.ma.masked_where(fat1 == 0, fat1)\n",
    "    overlay2 = np.ma.masked_where(fat2 == 0, fat2)\n",
    "\n",
    "    axs[x,y].imshow(im, cmap=\"bone\")\n",
    "    axs[x,y].imshow(overlay2, cmap=\"bwr\", vmin=0, vmax=1)\n",
    "    axs[x,y].imshow(overlay1, cmap=\"autumn\", vmin=0, vmax=1 )\n",
    "\n",
    "fig, axs = plt.subplots (3, 3, figsize=(12,12))\n",
    "\n",
    "check3(fatseg1vol_mask_R3_ken[7], fatseg1vol_mask_R3_ken[7], fatseg2_refinedvol_mask_R3_ken[7],2,1) \n"
   ]
  },
  {
   "cell_type": "markdown",
   "metadata": {
    "colab_type": "text",
    "id": "eT3FIBc0UeIP"
   },
   "source": [
    "## Fat/Muscle Data"
   ]
  },
  {
   "cell_type": "markdown",
   "metadata": {
    "colab_type": "text",
    "id": "K-8njxUyLng4"
   },
   "source": [
    "### Calculations"
   ]
  },
  {
   "cell_type": "markdown",
   "metadata": {
    "colab_type": "text",
    "id": "3CKf7-LpY7nN"
   },
   "source": [
    "#####Threshold 1 + 2 Separate"
   ]
  },
  {
   "cell_type": "code",
   "execution_count": null,
   "metadata": {
    "colab": {
     "base_uri": "https://localhost:8080/",
     "height": 340
    },
    "colab_type": "code",
    "id": "HtoXfhdPURFp",
    "outputId": "89b13a0b-bf86-418b-dc12-b33d9a1b449e"
   },
   "outputs": [],
   "source": [
    "#run calculations for Th1 + Th2 separately (for checking with bigger function below)\n",
    "\n",
    "from tabulate import tabulate #for table multiple headers\n",
    "def calc_slice(fat):\n",
    "  im_spacing = image.GetSpacing() #get spacing for original image - for calculations later\n",
    "  muscleroi=roi-fat \n",
    "  #MUSCLE AND FAT AREA\n",
    "  MuscFatAreaPix=np.sum(roi>0) \n",
    "  MuscFatAreaMM=MuscFatAreaPix*im_spacing[0]*im_spacing[1] #multiply by x and y to convert to mm:  1 pixel = spacing 0.9765625,0.9765625,5.0\n",
    "  #FAT AREA\n",
    "  FatAreaPix=np.sum(fat>0) \n",
    "  FatAreaMM=FatAreaPix*im_spacing[0]*im_spacing[1]\n",
    "  #MUSCLE AREA\n",
    "  MuscAreaPix=np.sum(muscleroi>0)\n",
    "  MuscAreaMM=MuscAreaPix*im_spacing[0]*im_spacing[1]\n",
    "  #FAT PERCENTAGE\n",
    "  FatPerc=FatAreaPix*100/MuscFatAreaPix #adding 2 dashes rounds it DOWN to whole number\n",
    "  #VOLUME OF EACH SLICE\n",
    "  MuscFatVolMM=MuscFatAreaMM*im_spacing[2]\n",
    "  FatVolMM=FatAreaMM*im_spacing[2] #multiply by z -slice thickness\n",
    "  MuscVolMM=MuscAreaMM*im_spacing[2]\n",
    "  print(f\"\\nSlice 8 Threshold #1 \\n\")\n",
    "  print(tabulate([['Musc + Fat Area 1', \"%.1f\" % MuscFatAreaPix,'pixels'], ['Musc + Fat Area 1',\"%.1f\" % MuscFatAreaMM,'mm^2'],['Musc + Fat Vol 1', \"%.1f\" % MuscFatVolMM,'mm^3'],[],\n",
    "          ['Musc Area 1',\"%.1f\" % MuscAreaPix,'pixels'],['Musc Area 1',\"%.1f\" % MuscAreaMM,'mm^2'],['Musc Vol 1', \"%.1f\" % MuscVolMM,'mm^3'],[],\n",
    "          ['Fat Area 1', \"%.1f\" % FatAreaPix,'pixels'],  ['Fat Area 1', \"%.1f\" % FatAreaMM,'mm^2'], \n",
    "          ['Fat Perc 1', \"%.1f\" % FatPerc,'%'],['Fat Vol', \"%.1f\" % FatVolMM,'mm^3']],\n",
    "          headers=['Data', 'Value','Units']))\n",
    "  print (f\"\\n\")\n",
    "#calc_slice(fatseg1) #threshold 1 fat\n",
    "calc_slice(fatsegfinal) #threshold 2 fat"
   ]
  },
  {
   "cell_type": "markdown",
   "metadata": {
    "colab_type": "text",
    "id": "MeSHPtL1Yy4B"
   },
   "source": [
    "#####Threshold 1 + 2 Combined + Fat Correction"
   ]
  },
  {
   "cell_type": "code",
   "execution_count": null,
   "metadata": {
    "colab": {
     "base_uri": "https://localhost:8080/",
     "height": 1000
    },
    "colab_type": "code",
    "id": "nx-jsb4N5gWw",
    "outputId": "fde0efa3-f7ac-43dc-ace3-1569a364b1b1"
   },
   "outputs": [],
   "source": [
    "def calc_slice(fat1,fat2,fat3):\n",
    "    im_spacing = image.GetSpacing() #get spacing for original image - for calculations later\n",
    "   \n",
    "  #MUSCLE + FAT AREA\n",
    "    MuscFatAreaPix=np.sum(roi>0)   #not roi2vol cus has no fat there! - don't need this line for 2nd round (taken care of in first round) #same result as roimask>0 #not musclemask>0 cus musclemask INCLUDES bone area! roi is ONLY muscle+fat. #Also don’t just do roi, need roi>0\n",
    "    MuscFatAreaMM=MuscFatAreaPix*im_spacing[0]*im_spacing[1] #multiply by x and y to convert to mm:  1 pixel = spacing 0.9765625,0.9765625,5.0\n",
    "    MuscFatVolMM=MuscFatAreaMM*im_spacing[2]\n",
    "  \n",
    "  #THRESHOLD 1 FAT\n",
    "    muscleroi1=roi-fat1 #muscleroi=preMuscSegM from loop\n",
    " \n",
    "    #FAT AREA\n",
    "    FatAreaPix1=np.sum(fat1>0) \n",
    "    FatAreaMM1=FatAreaPix1*im_spacing[0]*im_spacing[1]\n",
    "    \n",
    "    #MUSCLE AREA\n",
    "    MuscAreaPix1=np.sum(muscleroi1>0)\n",
    "    MuscAreaMM1=MuscAreaPix1*im_spacing[0]*im_spacing[1]\n",
    "    \n",
    "    #FAT PERCENTAGE\n",
    "    FatPerc1=FatAreaPix1*100/MuscFatAreaPix #adding 2 dashes rounds it DOWN to whole number\n",
    "    \n",
    "    #VOLUME OF EACH SLICE\n",
    "    FatVolMM1=FatAreaMM1*im_spacing[2] #multiply by z -slice thickness\n",
    "    MuscVolMM1=MuscAreaMM1*im_spacing[2]\n",
    "    print(f\"\\nThreshold #1 \\n\")\n",
    "\n",
    "    print(tabulate([['Musc + Fat Area', \"%.1f\" % MuscFatAreaPix,'pixels'], ['Musc + Fat Area',\"%.1f\" % MuscFatAreaMM,'mm^2'],['Musc + Fat Vol', \"%.1f\" % MuscFatVolMM,'mm^3'],[],\n",
    "            ['Musc Area 1',\"%.1f\" % MuscAreaPix1,'pixels'],['Musc Area 1',\"%.1f\" % MuscAreaMM1,'mm^2'],['Musc Vol 1', \"%.1f\" % MuscVolMM1,'mm^3'],[],\n",
    "            ['Fat Area 1', \"%.1f\" % FatAreaPix1,'pixels'],  ['Fat Area 1', \"%.1f\" % FatAreaMM1,'mm^2'], \n",
    "            ['Fat Perc 1', \"%.1f\" % FatPerc1,'%'],['Fat Vol 1', \"%.1f\" % FatVolMM1,'mm^3']],\n",
    "            headers=['Data', 'Value','Units']))\n",
    "    print (f\"\\n\")\n",
    "        \n",
    "  #THRESHOLD 2 FAT\n",
    "    #NOT including threshold 1 fat----------------------------------------------\n",
    "    muscleroi2=roi-fat2 \n",
    "    \n",
    "    #FAT AREA\n",
    "    FatAreaPix2=np.sum(fat2>0)\n",
    "    FatAreaMM2=FatAreaPix2*im_spacing[0]*im_spacing[1]\n",
    "    \n",
    "    #MUSCLE AREA\n",
    "    MuscAreaPix2=np.sum(muscleroi2>0)\n",
    "    MuscAreaMM2=MuscAreaPix2*im_spacing[0]*im_spacing[1]\n",
    "    \n",
    "    #FAT PERCENTAGE\n",
    "    FatPerc2=FatAreaPix2*100/MuscFatAreaPix\n",
    "    \n",
    "    #VOLUME OF EACH SLICE\n",
    "    FatVolMM2=FatAreaMM2*im_spacing[2]\n",
    "    MuscVolMM2=MuscAreaMM2*im_spacing[2]\n",
    "  \n",
    "    #FAT CORRECTION\n",
    "    Fat1masked=np.ma.masked_where(fat1==0,fat1) #brighter fat\n",
    "    Fat2masked=np.ma.masked_where(fat2==0,fat2) #less bright fat\n",
    "    FatSegI_1=np.mean(Fat1masked)\n",
    "    FatSegI_2=np.mean(Fat2masked)\n",
    "    cfactor=(FatSegI_2/FatSegI_1) #fat correction factor\n",
    "    \n",
    "    FatVolCombined=FatVolMM1+FatVolMM2 #final volume not corrected\n",
    "    FatVolMM2_C=FatVolMM2*cfactor \n",
    "    FatVolCombined_C=FatVolMM1+FatVolMM2_C #final volume corrected\n",
    "    FatPerc2_C=FatPerc2*cfactor\n",
    "    \n",
    "    print(f\"\\nThreshold #2 NOT including fat 1  \\n\")\n",
    "    print(tabulate([['Musc Area 2',\"%.1f\" % MuscAreaPix2,'pixels'],['Musc Area 2',\"%.1f\" % MuscAreaMM2,'mm^2'],['Musc Vol 2', \"%.1f\" % MuscVolMM2,'mm^3'],[],\n",
    "            ['Fat Area 2', \"%.1f\" % FatAreaPix2,'pixels'],['Fat Area 2 ', \"%.1f\" % FatAreaMM2,'mm^2'],\n",
    "            ['Fat Perc 2', \"%.1f\" % FatPerc2,'%'],['Fat Perc 2 Corrected', FatPerc2_C,'%'],['Fat Vol 2 Not Corrected', \"%.1f\" % FatVolMM2,'mm^3'],['Fat Vol 2 Corrected', \"%.1f\" % FatVolMM2_C,'mm^3']],\n",
    "            headers=['Data', 'Value','Units']))\n",
    "    print (f\"\\n\")\n",
    "    print(f\"\\nFat Correction \\n\")\n",
    "    print(tabulate([['Fat 1 Intensity', FatSegI_1,'pixels'],['Fat 2 Intensity', FatSegI_2,'mm^2'],['Fat Correction Factor', cfactor],[],],\n",
    "            headers=['Data', 'Value','Units']))\n",
    "    print (f\"\\n\")\n",
    "\n",
    "    #INCLUDES threshold 1 fat----------------------------------------------------\n",
    "    muscleroi3=roi-fat3\n",
    "    \n",
    "    #FAT AREA\n",
    "    FatAreaPix3=np.sum(fat3>0)\n",
    "    FatAreaMM3=FatAreaPix3*im_spacing[0]*im_spacing[1]\n",
    "    \n",
    "    #MUSCLE AREA\n",
    "    MuscAreaPix3=np.sum(muscleroi3>0)\n",
    "    MuscAreaMM3=MuscAreaPix3*im_spacing[0]*im_spacing[1]\n",
    "        \n",
    "    #FAT PERCENTAGE\n",
    "    FatPerc3=FatAreaPix3*100/MuscFatAreaPix\n",
    "    \n",
    "    #VOLUME OF EACH SLICE\n",
    "    FatVolMM3=FatAreaMM3*im_spacing[2] #this is same as FatVolCombined NOT corrected, use this to confirm same volume\n",
    "    MuscVolMM3=MuscAreaMM3*im_spacing[2]    \n",
    "    print(f\"\\nThreshold #2 INCLUDING fat 1 \\n\")\n",
    "    print(tabulate([['Musc Area 3',\"%.1f\" % MuscAreaPix3,'pixels'],['Musc Area 3',\"%.1f\" % MuscAreaMM3,'mm^2'],['Musc Vol 3', \"%.1f\" % MuscVolMM3,'mm^3'],[],\n",
    "            ['Fat Area 3', \"%.1f\" % FatAreaPix3,'pixels'],['Fat Area 3 ', \"%.1f\" % FatAreaMM3,'mm^2'],\n",
    "            ['Fat Perc 3', \"%.1f\" % FatPerc3,'%'],['Fat Vol 3', \"%.1f\" % FatVolMM3,'mm^3'],[],\n",
    "            ['Fat Volume Combined Not Corrected', \"%.1f\" % FatVolCombined,'MM^3'],['Fat Volume Combined Corrected', \"%.1f\" % FatVolCombined_C,'MM^3']],\n",
    "            headers=['Data', 'Value','Units']))\n",
    "    print (\"------------------------------------------------------------\")\n",
    "   \n",
    "calc_slice(fatseg1,fatseg2_refined,fatsegfinal)\n"
   ]
  },
  {
   "cell_type": "markdown",
   "metadata": {
    "colab_type": "text",
    "id": "SA8D4URmlXov"
   },
   "source": [
    "### Summary tables + Graphs"
   ]
  },
  {
   "cell_type": "markdown",
   "metadata": {
    "colab_type": "text",
    "id": "b4KLPv7Zh1Hh"
   },
   "source": [
    "# VOLUME"
   ]
  },
  {
   "cell_type": "markdown",
   "metadata": {
    "colab_type": "text",
    "id": "-_-d48rzQASs"
   },
   "source": [
    "##Get Images"
   ]
  },
  {
   "cell_type": "markdown",
   "metadata": {
    "colab_type": "text",
    "id": "atwTBGqFGtMt"
   },
   "source": []
  },
  {
   "cell_type": "code",
   "execution_count": null,
   "metadata": {
    "colab": {},
    "colab_type": "code",
    "id": "I0V34UyQh1Hh"
   },
   "outputs": [],
   "source": [
    "Ivol=sitk.GetArrayFromImage(image[100:260, 50:200, :]) #get all slices\n",
    "\n",
    "Ivol8= np.zeros([Ivol.shape[0], Ivol.shape[1], Ivol.shape[2]], dtype='uint8') \n",
    "for i in range(Ivol.shape[0]):\n",
    "  Ivol8[i]=cv2.normalize(src=Ivol[i], dst=None, alpha=0.0, beta=255.0, norm_type=cv2.NORM_MINMAX, dtype=cv2.CV_8U) #!note if put x[i] then when calling function put Ivol8t not Ivol8t[i]"
   ]
  },
  {
   "cell_type": "code",
   "execution_count": null,
   "metadata": {
    "colab": {},
    "colab_type": "code",
    "id": "thKjXgNAbaBL"
   },
   "outputs": [],
   "source": [
    "j=Ivol8.shape[0]\n",
    "plotx=5\n",
    "\n",
    "def stackimages(image, x=0, y=0):\n",
    "    fig, axs = plt.subplots (j//plotx, plotx, figsize=(17,10))\n",
    "    for i in range(j):\n",
    "        axs[y, x].imshow(image[i], cmap='bone')\n",
    "        axs[y, x].set_title(f\"slice {i+1}\", fontsize=12)\n",
    "        if x <(plotx-1):\n",
    "            x+=1\n",
    "        else:\n",
    "            x=0\n",
    "            y+=1"
   ]
  },
  {
   "cell_type": "markdown",
   "metadata": {
    "colab_type": "text",
    "id": "1QE-ue9tYgi6"
   },
   "source": [
    "### Inhomogeneity Correction"
   ]
  },
  {
   "cell_type": "markdown",
   "metadata": {
    "colab_type": "text",
    "id": "xKOXHzi4F6kQ"
   },
   "source": [
    "####For Subcutaneous Fat"
   ]
  },
  {
   "cell_type": "code",
   "execution_count": null,
   "metadata": {
    "colab": {},
    "colab_type": "code",
    "id": "6YPnFXhDb0kq"
   },
   "outputs": [],
   "source": [
    "def multi_otsu(image): #only difference from multi_otsu_slice is title (includes slice # here)\n",
    "    motsuth=filters.threshold_multiotsu(image, classes=3)\n",
    "    print(motsuth)\n",
    "    print (f\"Slice {i+1} otsu threshold={motsuth[1]}\")\n",
    "    \n",
    "    regions=np.digitize(image,bins=motsuth)\n",
    "    output=img_as_ubyte(regions)\n",
    "\n",
    "    fig, ax=plt.subplots (1,4, figsize=(10,5))\n",
    "    ax[0].imshow(image, cmap=\"bone\")\n",
    "    ax[0].set_title(f\"Slice {i+1} Original\")\n",
    "    ax[0].axis(\"off\")\n",
    "    ax[1].hist(image.ravel(),bins=255)\n",
    "\n",
    "    for th in motsuth:\n",
    "            ax[1].axvline(th,color=\"r\")\n",
    "    ax[2].imshow(regions,cmap=\"Accent\")\n",
    "    ax[2].set_title(\"Multi-Otsu Result\")\n",
    "    ax[2].axis (\"off\")\n",
    "    ax[3].imshow(image>motsuth[1],cmap=\"bone\")\n",
    "    ax[3].set_title(\"Threshold Applied\")\n",
    "    ax[3].axis (\"off\")\n",
    "    return motsuth[1] #(fat+ muscle th)"
   ]
  },
  {
   "cell_type": "code",
   "execution_count": null,
   "metadata": {
    "colab": {},
    "colab_type": "code",
    "id": "Q5NJaDMccVcQ"
   },
   "outputs": [],
   "source": [
    "def IH_mask(image):\n",
    "  IH_th=multi_otsu(image) #apply multiotsu to get subcutaneous fat threshold\n",
    "  IH_mask=label(image>IH_th)\n",
    "  IH_mask= (morphology.remove_small_objects(IH_mask,min_size=800, connectivity=1)) #should we remove holes too or nah??\n",
    "  IH_mask= cv2.normalize(src=IH_mask, dst=None, alpha=0.0, beta=255.0, norm_type=cv2.NORM_MINMAX, dtype=cv2.CV_8U)\n",
    "  ret, IH_mask = cv2.threshold(IH_mask,0,1,cv2.THRESH_BINARY) \n",
    "\n",
    "  plt.imshow(IH_mask)\n",
    " \n",
    "  IH_mask=sitk.GetImageFromArray(IH_mask) #convert to sitk image\n",
    "\n",
    "  return IH_mask\n"
   ]
  },
  {
   "cell_type": "code",
   "execution_count": null,
   "metadata": {
    "colab": {
     "base_uri": "https://localhost:8080/",
     "height": 601
    },
    "colab_type": "code",
    "id": "rsAbbzFwh1Hq",
    "outputId": "bd52572f-548c-48d7-da87-f6efe6adcbfa",
    "scrolled": false
   },
   "outputs": [],
   "source": [
    "stackimages(Ivol8)"
   ]
  },
  {
   "cell_type": "code",
   "execution_count": null,
   "metadata": {
    "colab": {
     "base_uri": "https://localhost:8080/",
     "height": 1000
    },
    "colab_type": "code",
    "id": "wc48rJ-w56Ol",
    "outputId": "39ecffa2-2ba4-4c01-f158-8ce6d81f16d3"
   },
   "outputs": [],
   "source": [
    "#Get subfat mask to use for inhomogoneity correction\n",
    "#need this mask or else shadow on top right won't be corrected and prevent proper creation of subcfat mask\n",
    "\n",
    "IH1vol_mask=[] \n",
    "for i in range(j):\n",
    "  IH1vol_mask.append([])\n",
    "  IH1vol_mask[i]=IH_mask(Ivol8[i])\n",
    " "
   ]
  },
  {
   "cell_type": "code",
   "execution_count": null,
   "metadata": {
    "colab": {
     "base_uri": "https://localhost:8080/",
     "height": 601
    },
    "colab_type": "code",
    "id": "XOZtUQxUAtR1",
    "outputId": "d4c11d8f-f7e7-49dc-f09d-85f146e97ddb"
   },
   "outputs": [],
   "source": [
    "#convert from image to array to view masks\n",
    "show_IH1vol_mask= np.zeros([Ivol.shape[0], Ivol.shape[1], Ivol.shape[2]], dtype='uint8')\n",
    "\n",
    "for i in range(j):\n",
    "  show_IH1vol_mask[i]=sitk.GetArrayFromImage(IH1vol_mask[i])\n",
    "\n",
    "stackimages(show_IH1vol_mask)"
   ]
  },
  {
   "cell_type": "code",
   "execution_count": null,
   "metadata": {
    "colab": {
     "base_uri": "https://localhost:8080/",
     "height": 1000
    },
    "colab_type": "code",
    "id": "gIUMf1A6-kAQ",
    "outputId": "76c35318-0884-4e2a-ff23-f45cd7a6557c"
   },
   "outputs": [],
   "source": [
    "#Apply inhomogeneity correction with subcfat masks on Ivol8 slices\n",
    "\n",
    "preIvol8c_roi= np.zeros([Ivol8.shape[0], Ivol8.shape[1], Ivol8.shape[2]], dtype='uint8')\n",
    "\n",
    "for i in range(j):\n",
    "  preIvol8c_roi[i]=correct_subcfat(Ivol8[i],IH1vol_mask[i])"
   ]
  },
  {
   "cell_type": "code",
   "execution_count": null,
   "metadata": {
    "colab": {
     "base_uri": "https://localhost:8080/",
     "height": 1000
    },
    "colab_type": "code",
    "id": "QiXfIQ8VU7qD",
    "outputId": "9b57f41d-d203-47be-ce6d-4f2e4a16c469"
   },
   "outputs": [],
   "source": [
    "#From corrected images get another subcfat mask for each slice - generates better masks to be used for correction\n",
    "\n",
    "IH2vol_mask=[]\n",
    "for i in range(j):\n",
    "  IH2vol_mask.append([])\n",
    "  IH2vol_mask[i]=IH_mask(preIvol8c_roi[i])"
   ]
  },
  {
   "cell_type": "code",
   "execution_count": null,
   "metadata": {
    "colab": {
     "base_uri": "https://localhost:8080/",
     "height": 1000
    },
    "colab_type": "code",
    "id": "_HYG74FrCuwc",
    "outputId": "d4d7d580-51ec-456d-abf8-8e35a7dd70f0"
   },
   "outputs": [],
   "source": [
    "#Apply inhomogeneity correction new (better) subcfat mask to Ivol8c slices\n",
    "Ivol8c_subcfat= np.zeros([Ivol.shape[0], Ivol.shape[1], Ivol.shape[2]], dtype='uint8')\n",
    "\n",
    "for i in range(j):  \n",
    "  Ivol8c_subcfat[i]=correct_subcfat(Ivol8[i],IH2vol_mask[i])"
   ]
  },
  {
   "cell_type": "markdown",
   "metadata": {
    "colab_type": "text",
    "id": "AFs7PEyXK6Ag"
   },
   "source": [
    "####For ROI"
   ]
  },
  {
   "cell_type": "code",
   "execution_count": null,
   "metadata": {
    "colab": {
     "base_uri": "https://localhost:8080/",
     "height": 1000
    },
    "colab_type": "code",
    "id": "Sd5BFBslGM6b",
    "outputId": "60f94094-5713-4384-b0ab-aa1f34551385"
   },
   "outputs": [],
   "source": [
    "#Apply inhomogeneity correction without mask - need for proper correction of roi area (too bright if use mask to correct)\n",
    "#use these images to obtain roi later\n",
    "\n",
    "Ivol8c_roi= np.zeros([Ivol.shape[0], Ivol.shape[1], Ivol.shape[2]], dtype='uint8')\n",
    "\n",
    "for i in range(j):\n",
    "  Ivol8c_roi[i]=correct_roi(Ivol8[i])"
   ]
  },
  {
   "cell_type": "markdown",
   "metadata": {
    "colab_type": "text",
    "id": "to68TcWXYxXK"
   },
   "source": [
    "### Histograms - Uncorrected vs. Corrected images"
   ]
  },
  {
   "cell_type": "code",
   "execution_count": null,
   "metadata": {
    "colab": {
     "base_uri": "https://localhost:8080/",
     "height": 1000
    },
    "colab_type": "code",
    "id": "dmfgSXfih1Hu",
    "outputId": "2fd074fa-ed55-460f-9cb2-90a5fb8b81a0",
    "scrolled": true
   },
   "outputs": [],
   "source": [
    "fig, axs = plt.subplots (j, 4, figsize=(17,63.75))\n",
    "\n",
    "def hist(image):\n",
    "\n",
    "    for i in range(j):\n",
    "        axs[i, 0].set_title(f\"slice {i+1}\", fontsize=12)\n",
    "        axs[i, 0].imshow(Ivol8[i], cmap='bone')\n",
    "        axs[i, 1].hist(Ivol8.ravel(),256,[17,256]) #pixels<17 suppressed\n",
    "        axs[i, 2].imshow(image[i], cmap='bone')\n",
    "        axs[i, 3].hist(image[i].ravel(),256,[17,256]) #pixels<17 suppressed\n",
    "\n",
    "hist(Ivol8c_roi)"
   ]
  },
  {
   "cell_type": "markdown",
   "metadata": {
    "colab_type": "text",
    "id": "QLkpehe7SiU2"
   },
   "source": [
    "##Muscle Mask"
   ]
  },
  {
   "cell_type": "code",
   "execution_count": null,
   "metadata": {
    "colab": {
     "base_uri": "https://localhost:8080/",
     "height": 1000
    },
    "colab_type": "code",
    "id": "vxpMghSSh1Hx",
    "outputId": "d149bf6a-6a5b-4a3d-bf40-253be3600d32",
    "scrolled": false
   },
   "outputs": [],
   "source": [
    "def subcfat(image, x=0, y=0):\n",
    "    \n",
    "    fatotsvol=subcfatvol=presubcfatvol=np.zeros([Ivol8.shape[0], Ivol8.shape[1], Ivol8.shape[2]], dtype='uint8')\n",
    "    subcfatvol_th=[]\n",
    "\n",
    "    for i in range(j):\n",
    "        subcfatvol_th.append([])\n",
    "        subcfatvol_th[i]=multi_otsu(image[i])\n",
    "\n",
    "        otsuth, fatotsvol[i] = cv2.threshold(image[i],subcfatvol_th[i],255,cv2.THRESH_BINARY)\n",
    "        presubcfatvol[i] = label(fatotsvol[i])\n",
    "        subcfatvol[i] = morphology.remove_small_objects(presubcfatvol[i],min_size=600, connectivity=1)\n",
    "        subcfatvol[i] = (morphology.remove_small_holes(subcfatvol[i],area_threshold=16, connectivity=1)).astype(int) #or min_size (gets warning)\n",
    "        subcfatvol[i]=cv2.normalize(src=subcfatvol[i], dst=None, alpha=0.0, beta=1.0, norm_type=cv2.NORM_MINMAX, dtype=cv2.CV_8U)\n",
    "            \n",
    "        if i==(j-1):\n",
    "            return subcfatvol\n",
    "            \n",
    "subcfatvol=subcfat(Ivol8c_subcfat)\n",
    "stackimages(subcfatvol)"
   ]
  },
  {
   "cell_type": "code",
   "execution_count": null,
   "metadata": {
    "colab": {
     "base_uri": "https://localhost:8080/",
     "height": 601
    },
    "colab_type": "code",
    "id": "0Ww1Ebi5W0sT",
    "outputId": "5aa4f000-137f-43c0-960a-8f03fae90274"
   },
   "outputs": [],
   "source": [
    "kernel = np.ones((3,3),np.uint8)\n",
    "subcfat2vol=subcfat3vol=np.empty([Ivol8.shape[0], Ivol8.shape[1], Ivol8.shape[2]], dtype='uint8')\n",
    "\n",
    "for i in range(j):\n",
    "    subcfat2vol[i]= cv2.dilate(subcfatvol[i],kernel,iterations = 2)\n",
    "    subcfat2vol[i] = cv2.erode(subcfat2vol[i],kernel,iterations = 2)\n",
    "\n",
    "stackimages(subcfat2vol)"
   ]
  },
  {
   "cell_type": "code",
   "execution_count": null,
   "metadata": {
    "colab": {
     "base_uri": "https://localhost:8080/",
     "height": 601
    },
    "colab_type": "code",
    "id": "lxf0VA5Oh1H0",
    "outputId": "25ab6c97-2537-43c1-9224-8f3aa8c3c2ca"
   },
   "outputs": [],
   "source": [
    "def musclemask(x=0, y=0):\n",
    "    \n",
    "    premusclemaskvol=musclemaskvol=np.zeros([Ivol8.shape[0], Ivol8.shape[1], Ivol8.shape[2]], dtype='uint8')\n",
    "    im_floodfillvol=subcfat2vol.copy()\n",
    "    \n",
    "    for i in range(j):      \n",
    "        h, w = subcfatvol[i].shape[:2]\n",
    "        mask = np.zeros((h+2, w+2), np.uint8)\n",
    "        cv2.floodFill(im_floodfillvol[i], mask, (0,0), 1);\n",
    "        \n",
    "        th, premusclemaskvol[i] = cv2.threshold(im_floodfillvol[i], 0, 1, cv2.THRESH_BINARY_INV)\n",
    "        kernel = np.ones((15,15),np.uint8)\n",
    "        \n",
    "        musclemaskvol[i] = cv2.morphologyEx(premusclemaskvol[i], cv2.MORPH_CLOSE, kernel)\n",
    "            \n",
    "        if i==j-1:\n",
    "            return musclemaskvol\n",
    "            \n",
    "musclemaskvol = musclemask()\n",
    "stackimages(musclemaskvol)"
   ]
  },
  {
   "cell_type": "markdown",
   "metadata": {
    "colab_type": "text",
    "id": "ylRdKj5N_Rcw"
   },
   "source": [
    "###Overall"
   ]
  },
  {
   "cell_type": "markdown",
   "metadata": {
    "colab_type": "text",
    "id": "m6AzOIG2Oyaa"
   },
   "source": [
    "##Refine Muscle Mask: Snakes\n"
   ]
  },
  {
   "cell_type": "code",
   "execution_count": null,
   "metadata": {
    "colab": {
     "base_uri": "https://localhost:8080/",
     "height": 601
    },
    "colab_type": "code",
    "id": "zDp3HdV2PCRz",
    "outputId": "f2a1e20c-052a-4f04-d36a-bdac0b4edb00"
   },
   "outputs": [],
   "source": [
    "contoursvol=[]\n",
    "hiercvol=[]\n",
    "contour_listvol=[]\n",
    "maskoutlinevol=[]\n",
    "contoursvol=[]\n",
    "r=np.zeros([Ivol8c_roi.shape[0], Ivol8c_roi.shape[1], Ivol8c_roi.shape[2]], dtype='uint8')\n",
    "contour_listvol=[]\n",
    "maskoutlinevol=[]\n",
    "contoursvol=[]\n",
    "for i in range(j):\n",
    "    contoursvol.append([])\n",
    "\n",
    "    contour_listvol.append([])\n",
    "    maskoutlinevol.append([])\n",
    "    \n",
    "for i in range (j):\n",
    "    a, b =  cv2.findContours(musclemaskvol[i], cv2.RETR_TREE, cv2.CHAIN_APPROX_SIMPLE)\n",
    "    contoursvol[i].append(a)\n",
    "\n",
    "    \n",
    "    for contour in contoursvol[i][0]:      \n",
    "        contour_listvol[i].append(contour)\n",
    "\n",
    "    maskoutlinevol[i] = cv2.drawContours(r[i], contour_listvol[i],  -1, (1,0,0), 1)\n",
    "    \n",
    "stackimages(maskoutlinevol)"
   ]
  },
  {
   "cell_type": "code",
   "execution_count": null,
   "metadata": {
    "colab": {
     "base_uri": "https://localhost:8080/",
     "height": 1000
    },
    "colab_type": "code",
    "id": "arRL7owvQ6V5",
    "outputId": "568932f2-a2f3-4309-a6a2-70e576d3b834"
   },
   "outputs": [],
   "source": [
    "hullvol=[]\n",
    "drawingvol = np.zeros((musclemaskvol.shape[0], musclemaskvol.shape[1], musclemaskvol.shape[2], 3), np.uint8)\n",
    "drawing2vol = np.zeros((musclemaskvol.shape[0], musclemaskvol.shape[1], musclemaskvol.shape[2]), np.uint8)\n",
    "for i in range(j):\n",
    "    hullvol.append([])  \n",
    "    \n",
    "    for i2 in range(len(contoursvol[i])):\n",
    "        hullvol[i].append(cv2.convexHull(contoursvol[i][i2][0], False))\n",
    "\n",
    "    for i2 in range(len(contoursvol[i])):\n",
    "        color_contours = (0, 255, 0) # green - color for contours\n",
    "        color_hull = (255, 0, 0) # red - color for convex hull\n",
    "        cv2.drawContours(drawingvol[i], contoursvol[i][0], i2, color_contours, 1, 8)\n",
    "        cv2.drawContours(drawingvol[i], hullvol[i], i2, color_hull, 1, 8)\n",
    "\n",
    "    \n",
    "    for i2 in range(len(contours)):\n",
    "        color_hull = (255, 0, 0) # blue - color for convex hull\n",
    "        cv2.drawContours(drawing2vol[i], hullvol[i],  -1, (1,0,0), 1)\n",
    "\n",
    "fig, axs = plt.subplots(j, 3, figsize= (18, 64))\n",
    "for i in range(j):\n",
    "    axs[i, 0].set_title(f\"slice {i+1}\", fontsize=18)\n",
    "    axs[i, 0].imshow(maskoutlinevol[i])\n",
    "    axs[i, 1].imshow(drawingvol[i])\n",
    "    axs[i, 2].imshow(drawing2vol[i])"
   ]
  },
  {
   "cell_type": "code",
   "execution_count": null,
   "metadata": {
    "colab": {
     "base_uri": "https://localhost:8080/",
     "height": 601
    },
    "colab_type": "code",
    "id": "aTBs4b8xhshk",
    "outputId": "974f9723-0b0b-4bf3-eb94-647b7b871713"
   },
   "outputs": [],
   "source": [
    "#generate full contour list\n",
    "fullcontoursvol=[]\n",
    "\n",
    "drawing3vol = np.zeros((musclemaskvol.shape[0], musclemaskvol.shape[1], musclemaskvol.shape[2]), np.uint8)\n",
    "\n"
   ]
  },
  {
   "cell_type": "code",
   "execution_count": null,
   "metadata": {
    "colab": {},
    "colab_type": "code",
    "id": "msy2jebyhzZC"
   },
   "outputs": [],
   "source": [
    "hull2vol=[]\n",
    "\n",
    "for i in range(j):\n",
    "    hull2vol.append([])\n",
    "    for i2 in range(len(fullcontoursvol[i][0][0])):\n",
    "        hull2vol[i].append(fullcontoursvol[i][0][0][i2][0])\n",
    "        \n",
    "\n",
    "    hull2vol[i]=np.array(hull2vol[i])\n",
    "    hull2vol[i]=hull2vol[i].astype(float)"
   ]
  },
  {
   "cell_type": "code",
   "execution_count": null,
   "metadata": {
    "colab": {
     "base_uri": "https://localhost:8080/",
     "height": 1000
    },
    "colab_type": "code",
    "id": "GUSRvIBWh9kS",
    "outputId": "f330705f-c52a-44ba-ca34-5c6332160968"
   },
   "outputs": [],
   "source": [
    "snakevol=[]\n",
    "\n",
    "fig, axs = plt.subplots(j, 3, figsize=(18,64))\n",
    "\n",
    "for i in range(j):\n",
    "    snakevol.append([])\n",
    "    snakevol[i]= active_contour(Ivol8c_roi[i], hull2vol[i],alpha=0.005, beta=8, w_line=-0.1, w_edge=1.4,gamma=0.15, convergence=0.01)\n",
    "    \n",
    "    axs[i, 0].set_title(f\"slice {i+1}\", fontsize=14)\n",
    "    axs[i,0].imshow(Ivol8c_roi[i], cmap='bone')\n",
    "\n",
    "    axs[i,1].imshow(Ivol8c_roi[i], cmap='bone')\n",
    "    axs[i,1].plot(hull2vol[i][:, 0], hull2vol[i][:, 1], '--r', lw=1)\n",
    "\n",
    "    axs[i,2].imshow(Ivol8c_roi[i], cmap='bone')\n",
    "    axs[i,2].plot(snakevol[i][:, 0], snakevol[i][:, 1], '-b', lw=1);\n"
   ]
  },
  {
   "cell_type": "code",
   "execution_count": null,
   "metadata": {
    "colab": {
     "base_uri": "https://localhost:8080/",
     "height": 1000
    },
    "colab_type": "code",
    "id": "tTE1tIXQveHr",
    "outputId": "985ebf81-12bf-4720-f5b6-051faf5524e9"
   },
   "outputs": [],
   "source": [
    "snakevol2=[]\n",
    "\n",
    "fig, axs = plt.subplots(j, 3, figsize=(18,64))\n",
    "\n",
    "for i in range(j):\n",
    "    snakevol2.append([])\n",
    "    snakevol2[i]= active_contour(Ivol8c_roi[i], snakevol[i],alpha=0.1, beta=1, w_line=-0.6, w_edge=1,gamma=0.5, convergence=0.8)\n",
    "    \n",
    "    axs[i, 0].set_title(f\"slice {i+1}\", fontsize=14)\n",
    "    axs[i,0].imshow(Ivol8c_roi[i], cmap='bone')\n",
    "\n",
    "    axs[i,1].imshow(Ivol8c_roi[i], cmap='bone')\n",
    "    axs[i,1].plot(snakevol[i][:, 0], snakevol[i][:, 1], '-r', lw=1)\n",
    "\n",
    "    axs[i,2].imshow(Ivol8c_roi[i], cmap='bone')\n",
    "    axs[i,2].plot(snakevol2[i][:, 0], snakevol2[i][:, 1], '-b', lw=1);\n"
   ]
  },
  {
   "cell_type": "code",
   "execution_count": null,
   "metadata": {
    "colab": {
     "base_uri": "https://localhost:8080/",
     "height": 1000
    },
    "colab_type": "code",
    "id": "X9I4bBl3oVpe",
    "outputId": "10ab9bc7-0d61-43eb-e6eb-9dc1547adfde"
   },
   "outputs": [],
   "source": [
    "drawing3vol = np.zeros((musclemaskvol.shape[0], musclemaskvol.shape[1], musclemaskvol.shape[2]), np.uint8)\n",
    "vol=[]\n",
    "\n",
    "for i in range(j):\n",
    "    vol.append([])\n",
    "    for i2 in range(len(snakevol2[i])):\n",
    "        vol[i].append([])\n",
    "        vol[i][i2].append(snakevol2[i][i2])\n",
    "    \n",
    "    vol[i]=np.rint(vol[i]).astype(int)\n",
    "\n",
    "    cv2.drawContours(drawing3vol[i], vol[i],  -1, (1,0,0), 1)   \n",
    "\n",
    "    \n",
    "drawsnakevol= np.zeros((musclemaskvol.shape[0], musclemaskvol.shape[1], musclemaskvol.shape[2]), np.uint8)\n",
    "\n",
    "for i in range(j):\n",
    "    cv2.polylines(drawsnakevol[i], [vol[i]], isClosed=True, color = (255, 0, 0) , thickness=1) \n",
    "\n",
    "\n",
    "stackimages(drawing3vol)\n",
    "stackimages(drawsnakevol)"
   ]
  },
  {
   "cell_type": "code",
   "execution_count": null,
   "metadata": {
    "colab": {
     "base_uri": "https://localhost:8080/",
     "height": 601
    },
    "colab_type": "code",
    "id": "Py03jIIEo554",
    "outputId": "a26eed09-d29a-4418-86df-837fead07054"
   },
   "outputs": [],
   "source": [
    "snakemaskvol=drawsnakevol.copy()\n",
    "\n",
    "h, w = subcfatvol[i].shape[:2]\n",
    "\n",
    "for i in range (j):\n",
    "    mask = np.zeros((h+2, w+2), np.uint8)\n",
    "    (x,y),radius = cv2.minEnclosingCircle(vol[i]) #(x, y) coordinates of the centre of the \"circle\"\n",
    "    cv2.floodFill(snakemaskvol[i], mask, (round(x),round(y)), 255)\n",
    "    \n",
    "\n",
    "ret, snakemaskvol = cv2.threshold(snakemaskvol,0,1,cv2.THRESH_BINARY)\n",
    "stackimages(snakemaskvol)"
   ]
  },
  {
   "cell_type": "code",
   "execution_count": null,
   "metadata": {
    "colab": {
     "base_uri": "https://localhost:8080/",
     "height": 1000
    },
    "colab_type": "code",
    "id": "QgAbthL6oken",
    "outputId": "001ef634-3477-4e7d-af58-0d75bd61337e"
   },
   "outputs": [],
   "source": [
    "#ADDING SNAKE ROI AND MUSCLE ROI\n",
    "\n",
    "musclemaskvol2=snakemaskvol+musclemaskvol\n",
    "ret, musclemaskvol2 = cv2.threshold(musclemaskvol2,0,1,cv2.THRESH_BINARY)\n",
    "\n",
    "fig, axs = plt.subplots (j, 4, figsize=(15,60))\n",
    "for i in range(j):\n",
    "\n",
    "    def check2(im, roi):    \n",
    "        overlay = np.ma.masked_where(roi[i] == 0, roi[i])\n",
    "        axs[i,1].imshow(im[i], cmap=\"bone\")\n",
    "        axs[i,1].imshow(overlay, cmap=\"hsv\", vmin=0, vmax=1, alpha=0.4)\n",
    "    def check3(im, roi):    \n",
    "        overlay = np.ma.masked_where(roi[i] == 0, roi[i])\n",
    "        axs[i,2].imshow(im[i], cmap=\"bone\")\n",
    "        axs[i,2].imshow(overlay, cmap=\"hsv\", vmin=0, vmax=1, alpha=0.4)\n",
    "    def check4(im, roi):    \n",
    "        overlay = np.ma.masked_where(roi[i] == 0, roi[i])\n",
    "        axs[i,3].imshow(im[i], cmap=\"bone\")\n",
    "        axs[i,3].imshow(overlay, cmap=\"hsv\", vmin=0, vmax=1, alpha=0.4)\n",
    "\n",
    "        \n",
    "    axs[i, 0].set_title(f\"slice {i+1}\", fontsize=12)   \n",
    "    axs[i,0].imshow(Ivol8c_roi[i], cmap='bone')\n",
    "    check2(Ivol8c_roi, musclemaskvol)\n",
    "    check3(Ivol8c_roi, snakemaskvol)\n",
    "    check4(Ivol8c_roi, musclemaskvol2)"
   ]
  },
  {
   "cell_type": "code",
   "execution_count": null,
   "metadata": {
    "colab": {},
    "colab_type": "code",
    "id": "IdBivrnHlgwg"
   },
   "outputs": [],
   "source": [
    "#island removal from above to account for overshooting... \n",
    "\n",
    "#s_dif_refined = np.zeros([Ivol8.shape[0], Ivol8.shape[1], Ivol8.shape[2]], dtype='uint8')\n",
    "#for i in range(j):\n",
    "#    s_dif_refined[i]=label(s_dif[i])\n",
    "#    s_dif_refined[i] = morphology.remove_small_objects(s_dif_refined[i],min_size=2, connectivity=1)\n",
    "#    ret, s_dif_refined[i] = cv2.threshold(s_dif_refined[i],0,1,cv2.THRESH_BINARY)\n",
    "\n",
    "#stackimages(s_dif_refined)"
   ]
  },
  {
   "cell_type": "code",
   "execution_count": null,
   "metadata": {
    "colab": {},
    "colab_type": "code",
    "id": "IqsiOesQSuio"
   },
   "outputs": [],
   "source": [
    "h, w = subcfatvol[i].shape[:2]\n",
    "\n",
    "t=t_final=t2=np.empty([Ivol8c_roi.shape[0], Ivol8c_roi.shape[1], Ivol8c_roi.shape[2]], dtype='uint8')\n",
    "\n",
    "for i in range (j):\n",
    "\n",
    "    t[i]=cv2.Canny(musclemaskvol2[i], 1, 2) \n",
    "    ret, t[i] = cv2.threshold(t[i],0,1,cv2.THRESH_BINARY)\n",
    "    t[i]=cv2.normalize(src=t[i], dst=None, alpha=0.0, beta=1.0, norm_type=cv2.NORM_MINMAX, dtype=cv2.CV_8U)\n",
    "\n",
    "    t_fill=t[i].copy()\n",
    "\n",
    "    t_coord= np.argwhere(t[i] ==1)\n",
    "    mask = np.zeros((h+2, w+2), np.uint8)\n",
    "    (x,y),radius = cv2.minEnclosingCircle(t_coord)\n",
    "    cv2.floodFill(t_fill, mask, (round(x),round(y)), 2)\n",
    "\n",
    "    ret, t_final[i] = cv2.threshold(t_fill,1,1,cv2.THRESH_BINARY)\n",
    "    \n"
   ]
  },
  {
   "cell_type": "code",
   "execution_count": null,
   "metadata": {
    "colab": {
     "base_uri": "https://localhost:8080/",
     "height": 601
    },
    "colab_type": "code",
    "id": "9XivFNXXTJzd",
    "outputId": "8e059d0e-20f6-4a1a-fb00-15bd2640596f"
   },
   "outputs": [],
   "source": [
    "t2=(t_final!=musclemaskvol2).astype(int)\n",
    "t2=np.uint8(t2)\n",
    "stackimages(t2)"
   ]
  },
  {
   "cell_type": "code",
   "execution_count": null,
   "metadata": {
    "colab": {
     "base_uri": "https://localhost:8080/",
     "height": 601
    },
    "colab_type": "code",
    "id": "vuT6cOkU2xQk",
    "outputId": "d02b2cc9-7324-4713-a853-a3a8526d63b0"
   },
   "outputs": [],
   "source": [
    "g=musclemaskvol2-t2\n",
    "stackimages(g)"
   ]
  },
  {
   "cell_type": "code",
   "execution_count": null,
   "metadata": {
    "colab": {
     "base_uri": "https://localhost:8080/",
     "height": 635
    },
    "colab_type": "code",
    "id": "md9kYxCITScX",
    "outputId": "d60f3719-4aff-472e-cf9f-de8542e6de66"
   },
   "outputs": [],
   "source": [
    "erodesnake=musclemaskvol2-t2\n",
    "\n",
    "print(t2.dtype)\n",
    "print(musclemaskvol2.dtype)\n",
    "stackimages(erodesnake)\n",
    "\n",
    "#stackimages(musclemaskvol2)"
   ]
  },
  {
   "cell_type": "code",
   "execution_count": null,
   "metadata": {
    "colab": {
     "base_uri": "https://localhost:8080/",
     "height": 618
    },
    "colab_type": "code",
    "id": "ghrCyZoTUGqB",
    "outputId": "3fe55233-dbd1-47bb-d637-05e83d34e132"
   },
   "outputs": [],
   "source": [
    "s_diff=musclemaskvol-erodesnake\n",
    "th, s_diff = cv2.threshold(s_diff, 1, 1, cv2.THRESH_BINARY)\n",
    "\n",
    "print(np.amax(s_diff))\n",
    "\n",
    "stackimages(s_diff)\n",
    "\n"
   ]
  },
  {
   "cell_type": "code",
   "execution_count": null,
   "metadata": {
    "colab": {
     "base_uri": "https://localhost:8080/",
     "height": 1000
    },
    "colab_type": "code",
    "id": "rD0OakwZlka6",
    "outputId": "c4a467f6-69cc-43b1-a4a0-139d513dbbdc"
   },
   "outputs": [],
   "source": [
    "fig, axs = plt.subplots (j, 1, figsize=(15,120))\n",
    "for i in range(j):\n",
    "\n",
    "    def check2(im, roi):    \n",
    "        overlay = np.ma.masked_where(roi[i] == 0, roi[i])\n",
    "        axs[i].imshow(im[i], cmap=\"bone\")\n",
    "        axs[i].imshow(overlay, cmap=\"hsv\", vmin=0, vmax=1, alpha=0.4) \n",
    "        \n",
    "    axs[i].set_title(f\"slice {i+1}\", fontsize=12)   \n",
    "    check2(Ivol8c_roi, s_diff)\n",
    "    "
   ]
  },
  {
   "cell_type": "markdown",
   "metadata": {
    "colab_type": "text",
    "id": "W1g3bY23TDqh"
   },
   "source": [
    "##Bone removal"
   ]
  },
  {
   "cell_type": "markdown",
   "metadata": {
    "colab_type": "text",
    "id": "7YVLD_6fqI4O"
   },
   "source": [
    "Gaussian Filter"
   ]
  },
  {
   "cell_type": "code",
   "execution_count": null,
   "metadata": {
    "colab": {
     "base_uri": "https://localhost:8080/",
     "height": 601
    },
    "colab_type": "code",
    "id": "wew_qwTnqLiY",
    "outputId": "f018f8c9-559c-4c66-819d-6a4070861fb6"
   },
   "outputs": [],
   "source": [
    "gaussianvol =np.empty([Ivol8c_roi.shape[0], Ivol8c_roi.shape[1], Ivol8c_roi.shape[2]], dtype='uint8')\n",
    "\n",
    "def gaussian_filter(x=0, y=0):\n",
    "  for i in range(j):\n",
    "\n",
    "      gaussian_im = sitk.SmoothingRecursiveGaussian(image[100:260, 50:200, i], 1)\n",
    "      gaussian_im = sitk.GetArrayFromImage(gaussian_im)\n",
    "      gaussian_im =cv2.normalize(src=gaussian_im, dst=None, alpha=0.0, beta=10.0, norm_type=cv2.NORM_MINMAX, dtype=cv2.CV_8U)\n",
    "      gaussianvol[i]=gaussian_im\n",
    "      \n",
    "      if i==14:\n",
    "          return gaussianvol  #change return to processed image\n",
    "          \n",
    "gaussianvol=gaussian_filter()\n",
    "stackimages(gaussianvol)"
   ]
  },
  {
   "cell_type": "code",
   "execution_count": null,
   "metadata": {
    "colab": {
     "base_uri": "https://localhost:8080/",
     "height": 601
    },
    "colab_type": "code",
    "id": "CEae1YW-h1H2",
    "outputId": "95e48c6b-02af-4ec7-a7e2-79834d4341e7"
   },
   "outputs": [],
   "source": [
    "fig, axs = plt.subplots (j//plotx, plotx, figsize=(17,10))\n",
    "\n",
    "def stackedges(image, x=0, y=0):\n",
    "    \n",
    "    edges=edges2=dilation=erosion=np.empty([Ivol8c_roi.shape[0], Ivol8c_roi.shape[1], Ivol8c_roi.shape[2]], dtype='uint8')\n",
    "    \n",
    "    for i in range(j):\n",
    "        \n",
    "        kernel = np.ones((5,5),np.uint8)\n",
    "        \n",
    "        edges[i]=cv2.Canny(image[i], 15, 20) #Changed this\n",
    "        edges[i]= cv2.morphologyEx(edges[i], cv2.MORPH_CLOSE, kernel)\n",
    "        \n",
    "        edges[i] = cv2.dilate(edges[i],kernel,iterations = 1)\n",
    "        edges[i] = cv2.erode(edges[i],kernel,iterations = 1)\n",
    "        \n",
    "        axs[y, x].imshow(edges[i], vmin=0, vmax=10)\n",
    "        axs[y, x].set_title(f\"slice {i+1}\", fontsize=12)\n",
    "        \n",
    "        if x <(plotx-1):            \n",
    "            x+=1\n",
    "        \n",
    "        else:          \n",
    "            x=0\n",
    "            y+=1\n",
    "        \n",
    "        if i==14:\n",
    "            return edges2  #change return to processed image\n",
    "            \n",
    "stackedges(gaussianvol)\n",
    "edgesvol=stackedges(gaussianvol)"
   ]
  },
  {
   "cell_type": "code",
   "execution_count": null,
   "metadata": {
    "colab": {
     "base_uri": "https://localhost:8080/",
     "height": 601
    },
    "colab_type": "code",
    "id": "oKk2my7Fh1H8",
    "outputId": "30e0d79b-9a3d-40b7-daa2-f1e2b5cd8d47"
   },
   "outputs": [],
   "source": [
    "contoursvol=[]\n",
    "hiercvol=[]\n",
    "contour_listvol=[]\n",
    "boneROIvol=[]\n",
    "bonemwvol=[]\n",
    "\n",
    "r=np.zeros([Ivol8c_roi.shape[0], Ivol8c_roi.shape[1], Ivol8c_roi.shape[2]], dtype='uint8')\n",
    "\n",
    "for i in range(j):\n",
    "    contoursvol.append([])\n",
    "    hiercvol.append([])\n",
    "    contour_listvol.append([])\n",
    "    boneROIvol.append([])\n",
    "    bonemwvol.append([])\n",
    "    \n",
    "for i in range (j):\n",
    "    a, b =  cv2.findContours(edgesvol[i], cv2.RETR_TREE, cv2.CHAIN_APPROX_SIMPLE)\n",
    "    contoursvol[i].append(a)\n",
    "    hiercvol[i].append(b)\n",
    "    \n",
    "    for contour in contoursvol[i][0]:\n",
    "        approx = cv2.approxPolyDP(contour,0.01*cv2.arcLength(contour,True),True)\n",
    "        area = cv2.contourArea(contour) #determines the area inside the contour\n",
    "        if ((len(approx) > 5) & (area > 100) ):  #Changed Here\n",
    "            contour_listvol[i].append(contour)\n",
    "\n",
    "    for i2 in range (len(contour_listvol[i])): \n",
    "        (x,y),radius = cv2.minEnclosingCircle(contour_listvol[i][i2]) #finds a circle of the minimum area enclosing a 2d point set\n",
    "        center = (int(x),int(y))\n",
    "        radius = int(radius)\n",
    "        #cv2.circle(MidI82,center,radius,(0,255,0),2) #draws a circle            \n",
    "        if radius < 10: #appends to boneROI if the radius is less than the specified number (indicating bone)\n",
    "            boneROIvol[i].append(contour_listvol[i][i2])\n",
    "\n",
    "    bonemwvol[i] = cv2.drawContours(r[i], boneROIvol[i],  -1, (1,0,0), 2)\n",
    "    \n",
    "stackimages(bonemwvol)"
   ]
  },
  {
   "cell_type": "code",
   "execution_count": null,
   "metadata": {
    "colab": {
     "base_uri": "https://localhost:8080/",
     "height": 601
    },
    "colab_type": "code",
    "id": "fDpgtROnh1IC",
    "outputId": "a8d0fbcc-c511-43e0-ed6a-d547c4f9c426"
   },
   "outputs": [],
   "source": [
    "bonemwffvol=bonemvol=np.zeros([Ivol8c_roi.shape[0], Ivol8c_roi.shape[1], Ivol8c_roi.shape[2]], dtype='uint8')\n",
    "\n",
    "for i in range(j):\n",
    "    im_floodfill = bonemwvol[i].copy()\n",
    "    h, w = im_floodfill.shape[:2]\n",
    "    mask = np.zeros((h+2, w+2), np.uint8)\n",
    "    cv2.floodFill(im_floodfill, mask, (0,0), 255);\n",
    "    im_floodfill_inv = cv2.bitwise_not(im_floodfill)\n",
    "    bonemwffvol[i] = bonemwvol[i] | im_floodfill_inv\n",
    "    th, bonemvol[i] = cv2.threshold(bonemwffvol[i], 0, 1, cv2.THRESH_BINARY) \n",
    "        \n",
    "stackimages(bonemvol)   \n",
    "\n"
   ]
  },
  {
   "cell_type": "code",
   "execution_count": null,
   "metadata": {
    "colab": {
     "base_uri": "https://localhost:8080/",
     "height": 601
    },
    "colab_type": "code",
    "id": "bYXEQDPDh1IG",
    "outputId": "32a99208-9025-4198-aa7b-92dd8e08e414",
    "scrolled": false
   },
   "outputs": [],
   "source": [
    "#musclemaskvol=no snake\n",
    "#musclemaskvol2= with snake\n",
    "\n",
    "roimaskvol=erodesnake-bonemvol\n",
    "              \n",
    "stackimages(roimaskvol)"
   ]
  },
  {
   "cell_type": "code",
   "execution_count": null,
   "metadata": {
    "colab": {
     "base_uri": "https://localhost:8080/",
     "height": 601
    },
    "colab_type": "code",
    "id": "ebNR85wQcotG",
    "outputId": "a123d306-edc5-4c43-f73a-4e0f83ca378b"
   },
   "outputs": [],
   "source": [
    "roivol=roimaskvol*Ivol8c_roi\n",
    "       \n",
    "stackimages(roivol)"
   ]
  },
  {
   "cell_type": "markdown",
   "metadata": {
    "colab_type": "text",
    "id": "tSaSKvX2TMF8"
   },
   "source": [
    "##Round 1: Fat segmentation"
   ]
  },
  {
   "cell_type": "markdown",
   "metadata": {
    "colab_type": "text",
    "id": "ikfKMkQeozt3"
   },
   "source": [
    "###Threshold optimization #1"
   ]
  },
  {
   "cell_type": "code",
   "execution_count": null,
   "metadata": {
    "colab": {
     "base_uri": "https://localhost:8080/",
     "height": 1000
    },
    "colab_type": "code",
    "id": "U4qU5y0IMF9d",
    "outputId": "caddded5-c9f2-43d7-cd7f-b26c500d6033"
   },
   "outputs": [],
   "source": [
    "#initial threshold for optimization loop using multi-otsu\n",
    "\n",
    "initial_th1_R1=[]\n",
    "\n",
    "for i in range(j):\n",
    "  initial_th1_R1.append([])\n",
    "  initial_th1_R1[i]=multi_otsu(roivol[i])"
   ]
  },
  {
   "cell_type": "code",
   "execution_count": null,
   "metadata": {
    "colab": {},
    "colab_type": "code",
    "id": "vtXylw2bHF5D"
   },
   "outputs": [],
   "source": [
    "from astropy.table import QTable\n",
    "from tabulate import tabulate\n",
    "\n",
    "thresholds=[] \n",
    "def optimize_threshold(roi, ots): #not (fatth,roi) cus fatth needs to change with every slice\n",
    "  \n",
    "    k=1\n",
    "    ThPrev=0\n",
    "    ThRev=ots  #starting point! we compare newest threshold to prev one\n",
    "\n",
    "    #New lists\n",
    "    ThPrevlist=[ThPrev]  #include starting ThPrev - for table later\n",
    "    ThRevlist=[ThRev] #include starting ThRev  - for table and graph later\n",
    "\n",
    "    klist=[0] #iteratios - include 0th iteration - for table and graph later\n",
    "    matchlist=[] #ThRev=ThPrev yes or no - for table later\n",
    "    while ThRev!=ThPrev:  #while new threshold is NOT equal to prev threshold\n",
    "        \n",
    "        ThPrev=ThRev#make new threshold=prev threshold, new new threshold will be created at the end of loop\n",
    "        \n",
    "        prefatmask = label(roi>ThRev) \n",
    "        prefatmask = np.uint8(prefatmask) \n",
    "        prefatmask = (morphology.remove_small_objects(prefatmask,min_size=8, connectivity=1))\n",
    "        ret, fatmask = cv2.threshold(prefatmask,0,1,cv2.THRESH_BINARY)\n",
    "\n",
    "        fatseg = fatmask*roi #roi=roivol[i] later\n",
    "        preMuscSegM=roi-fatseg #muscle-fat=muscle\n",
    "        MuscSegM=np.ma.masked_where(preMuscSegM == 0, preMuscSegM)#muscle peeled\n",
    "        FatSegM=np.ma.masked_where(fatseg==0,fatseg) #fat peeled\n",
    "        MuscSegI=np.mean(MuscSegM) #mean signal intensity\n",
    "        FatSegI=np.mean(FatSegM)\n",
    "        ThRev=(1+((FatSegI-MuscSegI)/FatSegI))*MuscSegI #NOT MUSCLE-FAT\n",
    "        \n",
    "        ThPrevlist.append(ThPrev) \n",
    "        ThRevlist.append(ThRev) #append ThRev, starting from first iteration\n",
    "        klist.append(k) #append k value, starting k=1 (first iteration)\n",
    "        matchlist.append(\"No\") \n",
    "        k+=1\n",
    "        if k==50:\n",
    "            break\n",
    "       \n",
    "        if ThRev==ThPrev:\n",
    "          matchlist.append(\"Yes\")\n",
    "          table=QTable([klist,ThPrevlist,ThRevlist,matchlist],\n",
    "          names=('Iteration','ThPrev','ThRev','ThRev=ThPrev?'))\n",
    "          print (table)\n",
    "\n",
    "          x=klist #iterations\n",
    "          y=ThRevlist\n",
    "          plt.plot(x,y)\n",
    "\n",
    "          plt.xlabel ('Iterations')\n",
    "          plt.ylabel('Fat Threshold')\n",
    "          plt.show()\n",
    "    return fatmask, fatseg, ThRev, MuscSegI\n",
    "      "
   ]
  },
  {
   "cell_type": "code",
   "execution_count": null,
   "metadata": {
    "colab": {
     "base_uri": "https://localhost:8080/",
     "height": 1000
    },
    "colab_type": "code",
    "id": "5r2NsiDeMOof",
    "outputId": "aa7f14f9-6dba-4051-b331-87ffb69e988d"
   },
   "outputs": [],
   "source": [
    "fatseg1vol_mask_R1=np.empty([Ivol8c_roi.shape[0], Ivol8c_roi.shape[1], Ivol8c_roi.shape[2]], dtype='uint8')\n",
    "fatseg1vol_R1=np.empty([Ivol8c_roi.shape[0], Ivol8c_roi.shape[1], Ivol8c_roi.shape[2]], dtype='uint8')\n",
    "\n",
    "for i in range(j): \n",
    "    fatseg1vol_mask_R1[i],fatseg1vol_R1[i], ThRev, MuscSegI=optimize_threshold(roivol[i], initial_th1_R1[i])\n",
    "    thresholds.append(ThRev) \n",
    "    print(f\"\\nSlice {i+1} Optimized Threshold #1 ={thresholds[i]}\\n--------------------------------------------------------------------\\n\") #i+1 cus slice 1=index0, slice 15=index 14\n",
    "\n",
    "for i in range(j):\n",
    "  print (f\"Slice {i+1} Optimized Threshold #1 ={thresholds[i]}\")"
   ]
  },
  {
   "cell_type": "code",
   "execution_count": null,
   "metadata": {
    "colab": {
     "base_uri": "https://localhost:8080/",
     "height": 601
    },
    "colab_type": "code",
    "id": "QR4tBS_rNagp",
    "outputId": "46bfc8ef-e517-4a8c-bd17-e21ab7e27d55"
   },
   "outputs": [],
   "source": [
    "stackimages(fatseg1vol_R1)"
   ]
  },
  {
   "cell_type": "markdown",
   "metadata": {
    "colab_type": "text",
    "id": "6E2TAdsykqZR"
   },
   "source": [
    "###Threshold optimization #2"
   ]
  },
  {
   "cell_type": "code",
   "execution_count": null,
   "metadata": {
    "colab": {
     "base_uri": "https://localhost:8080/",
     "height": 601
    },
    "colab_type": "code",
    "id": "Y48Lp_XAm8gD",
    "outputId": "4f40847d-e4bb-4dac-c58f-306f0a72ed69"
   },
   "outputs": [],
   "source": [
    "#Remove the first round of fat\n",
    "\n",
    "fig, axs = plt.subplots (j//plotx, plotx, figsize=(17,10))\n",
    "roi2vol=np.empty([Ivol8c_roi.shape[0], Ivol8c_roi.shape[1], Ivol8c_roi.shape[2]], dtype='uint8')\n",
    "\n",
    "def stackroi2(x=0, y=0):\n",
    "  for i in range(j):\n",
    "    roi2vol[i]=roivol[i]-fatseg1vol_R1[i]\n",
    "\n",
    "    axs[y, x].imshow(roi2vol[i], cmap='bone', vmin=0, vmax=255) #don't need index here\n",
    "    axs[y, x].set_title(f\"slice {i+1}\", fontsize=12)\n",
    "\n",
    "    if x <(plotx-1):            \n",
    "      x+=1\n",
    "    else:          \n",
    "      x=0\n",
    "      y+=1    \n",
    "  return roi2vol\n",
    "\n",
    "stackroi2()\n",
    "roi2vol=stackroi2()"
   ]
  },
  {
   "cell_type": "code",
   "execution_count": null,
   "metadata": {
    "colab": {
     "base_uri": "https://localhost:8080/",
     "height": 1000
    },
    "colab_type": "code",
    "id": "SAW-oaKsFzxQ",
    "outputId": "192d0a9c-a910-435a-9483-036f49e10c88"
   },
   "outputs": [],
   "source": [
    "initial_th2_R1=[]\n",
    "for i in range(j):\n",
    "  initial_th2_R1.append([])\n",
    "  initial_th2_R1[i]=multi_otsu(roi2vol[i])\n"
   ]
  },
  {
   "cell_type": "code",
   "execution_count": null,
   "metadata": {
    "colab": {
     "base_uri": "https://localhost:8080/",
     "height": 1000
    },
    "colab_type": "code",
    "id": "B4uLgoZnwSpj",
    "outputId": "6881aadb-b458-435d-8704-2fd54c5b13db"
   },
   "outputs": [],
   "source": [
    "fatseg2vol_mask=np.empty([Ivol8.shape[0], Ivol8.shape[1], Ivol8.shape[2]], dtype='uint8')\n",
    "fatseg2vol=np.empty([Ivol8.shape[0], Ivol8.shape[1], Ivol8.shape[2]], dtype='uint8')\n",
    "\n",
    "thresholds2=[]\n",
    "for i in range(j): \n",
    "    fatseg2vol_mask[i],fatseg2vol[i], ThRev, MuscSegI=optimize_threshold(roi2vol[i], initial_th2_R1[i])\n",
    "    thresholds2.append(ThRev) #fatth will be its own list item later. fatth is just a place-holder\n",
    "    print(f\"\\nSlice {i+1} Optimized Threshold #2 ={thresholds2[i]}\\n--------------------------------------------------------------------\\n\") #i+1 cus slice 1=index0, slice 15=index 14\n",
    "\n",
    "\n",
    "for i in range(j):\n",
    "  print(f\"Slice {i+1} Optimized Threshold #2 ={thresholds2[i]}\")\n"
   ]
  },
  {
   "cell_type": "code",
   "execution_count": null,
   "metadata": {
    "colab": {
     "base_uri": "https://localhost:8080/",
     "height": 856
    },
    "colab_type": "code",
    "id": "4YwjegGtXcfW",
    "outputId": "6f434566-45a7-4c3f-ad45-5c9be73c6a3d"
   },
   "outputs": [],
   "source": [
    "#apply Th2 to get fat from Th1\n",
    "\n",
    "# fatsegfinalvol_mask_R1\n",
    "# fatsegfinalvol_R1\n",
    "\n",
    "fatsegfinalvol_mask_R1=np.empty([Ivol8.shape[0], Ivol8.shape[1], Ivol8.shape[2]], dtype='uint8')\n",
    "fatsegfinalvol_R1=np.empty([Ivol8.shape[0], Ivol8.shape[1], Ivol8.shape[2]], dtype='uint8')\n",
    "for i in range(j):\n",
    "    fatsegfinalvol_mask_R1[i] = label(roivol[i]>thresholds2[i])\n",
    "    fatsegfinalvol_mask_R1[i] = np.uint8(fatsegfinalvol_mask_R1[i]) \n",
    "    fatsegfinalvol_mask_R1[i] = (morphology.remove_small_objects(fatsegfinalvol_mask_R1[i],min_size=8, connectivity=1)).astype(int)\n",
    "    ret, fatsegfinalvol_mask_R1[i] = cv2.threshold(fatsegfinalvol_mask_R1[i],0,1,cv2.THRESH_BINARY) \n",
    "   \n",
    "    fatsegfinalvol_R1[i]= fatsegfinalvol_mask_R1[i]*roivol[i]   \n",
    "    print (f\"Slice {i+1} Area= {np.sum(fatsegfinalvol_R1[i]>0)}\")\n",
    "stackimages(fatsegfinalvol_R1)\n"
   ]
  },
  {
   "cell_type": "code",
   "execution_count": null,
   "metadata": {
    "colab": {
     "base_uri": "https://localhost:8080/",
     "height": 601
    },
    "colab_type": "code",
    "id": "Km-W9iKiw8FE",
    "outputId": "990d776c-6151-4132-83dd-50fc6ad28abd"
   },
   "outputs": [],
   "source": [
    "fatseg2_refinedvol_mask= (fatsegfinalvol_mask_R1 != fatseg1vol_mask_R1) #finer fat from Th2 loop not captured in Th1 loop\n",
    "\n",
    "\n",
    "fatseg2_refinedvol=np.empty([Ivol8.shape[0], Ivol8.shape[1], Ivol8.shape[2]], dtype='uint8') #added!\n",
    "for i in range(j):\n",
    "    fatseg2_refinedvol[i]=fatseg2_refinedvol_mask[i]*roivol[i]\n",
    "     \n",
    "\n",
    "stackimages(fatseg2_refinedvol)\n"
   ]
  },
  {
   "cell_type": "markdown",
   "metadata": {
    "colab_type": "text",
    "id": "U44T2wA-amQU"
   },
   "source": [
    "##Round 2: Fat Segmention + Z-Connectivity Check"
   ]
  },
  {
   "cell_type": "code",
   "execution_count": null,
   "metadata": {
    "colab": {
     "base_uri": "https://localhost:8080/",
     "height": 353
    },
    "colab_type": "code",
    "id": "IN6BwbFMw86V",
    "outputId": "fd994b12-691a-4fab-f382-23e3b279d02c"
   },
   "outputs": [],
   "source": [
    "zcheck1vol=np.zeros([Ivol8c_roi.shape[0], Ivol8c_roi.shape[1], Ivol8c_roi.shape[2]], dtype='uint8')\n",
    "zcheck_Th2R1=np.zeros([Ivol8c_roi.shape[0], Ivol8c_roi.shape[1], Ivol8c_roi.shape[2]], dtype='uint8')\n",
    "\n",
    "overlay1=[]\n",
    "overlay2=[]\n",
    "\n",
    "for i in range(j):\n",
    "    overlay1.append([])\n",
    "    overlay2.append([])\n",
    "    \n",
    "    zcheck1vol[i]=(roivol[i]>thresholds[i]).astype(int)\n",
    "    zcheck_Th2R1[i]=(roivol[i]>thresholds2[i]).astype(int)\n",
    "      \n",
    "    overlay1[i]= np.ma.masked_where(zcheck1vol[i] == 0, zcheck1vol[i])\n",
    "    overlay2[i]= np.ma.masked_where(zcheck_Th2R1[i] == 0, zcheck_Th2R1[i])  \n",
    "    \n",
    "num=7\n",
    "\n",
    "fig, axs = plt.subplots(1, 2, figsize=(12, 6))\n",
    "axs[0].imshow(roivol[num], cmap='bone')\n",
    "axs[1].imshow(roivol[num], cmap='bone')\n",
    "axs[1].imshow(overlay2[num], cmap=\"bwr\", vmin=0, vmax=1)\n",
    "axs[1].imshow(overlay1[num], cmap=\"autumn\", vmin=0, vmax=1) "
   ]
  },
  {
   "cell_type": "markdown",
   "metadata": {
    "colab_type": "text",
    "id": "U8kKEQV9M8RR"
   },
   "source": [
    "####Single Slice"
   ]
  },
  {
   "cell_type": "code",
   "execution_count": null,
   "metadata": {
    "colab": {
     "base_uri": "https://localhost:8080/",
     "height": 230
    },
    "colab_type": "code",
    "id": "FyqK6mLv2X7N",
    "outputId": "8f7b8d8d-5819-42a5-a1c9-9a646dc4fc77"
   },
   "outputs": [],
   "source": [
    "#Test for one slice\n",
    "#1. Get Z connections\n",
    "\n",
    "num=0\n",
    "\n",
    "fatcombined_prev=zcheck_Th2R1[num-1]+zcheck_Th2R1[num]\n",
    "fatcombined_next=zcheck_Th2R1[num]+zcheck_Th2R1[num+1]\n",
    "ret, fatconnectedparts_prev= cv2.threshold(fatcombined_prev,1,1,cv2.THRESH_BINARY)\n",
    "ret, fatconnectedparts_next= cv2.threshold(fatcombined_next,1,1,cv2.THRESH_BINARY)\n",
    "\n",
    "fatconnected_either=fatconnectedparts_prev+fatconnectedparts_next\n",
    "ret, fatconnectedparts_either_mask= cv2.threshold(fatconnected_either,0,1,cv2.THRESH_BINARY)\n",
    "\n",
    "\n",
    "fig, axs=plt.subplots (1,6,figsize=(20,20))\n",
    "axs[0].imshow(zcheck_Th2R1[num-1])\n",
    "axs[0].set_title(f\"slice 7 raw threshold #2\", fontsize=12)\n",
    "axs[1].imshow(zcheck_Th2R1[num],cmap=\"bone\")\n",
    "axs[1].set_title(\"slice 8 raw threshold #1\", fontsize=12) \n",
    "axs[2].imshow(zcheck_Th2R1[num+1])\n",
    "axs[2].set_title(\"slice 9 raw threshold #2\", fontsize=12) \n",
    "axs[3].imshow(fatconnectedparts_prev)\n",
    "axs[3].set_title(\"z-connection-prev #1\", fontsize=12) \n",
    "axs[4].imshow(fatconnectedparts_next)\n",
    "axs[4].set_title(\"z-connection-next #1\", fontsize=12) \n",
    "axs[5].imshow(fatconnectedparts_either_mask)\n",
    "axs[5].set_title(\"combine next and prev\", fontsize=12) \n"
   ]
  },
  {
   "cell_type": "code",
   "execution_count": null,
   "metadata": {
    "colab": {},
    "colab_type": "code",
    "id": "js1mU-8Q-nP3"
   },
   "outputs": [],
   "source": [
    "#2. Put Z-connection coordinates into list \n",
    "coordinates= np.argwhere(fatconnectedparts_either_mask ==1)"
   ]
  },
  {
   "cell_type": "code",
   "execution_count": null,
   "metadata": {
    "colab": {
     "base_uri": "https://localhost:8080/",
     "height": 1000
    },
    "colab_type": "code",
    "id": "SS6psNFBTb8W",
    "outputId": "e1e1d76c-ca3a-49bd-fabd-d9157afa1842"
   },
   "outputs": [],
   "source": [
    "#this is separate from the above.\n",
    "#need to establish teh Z-connection for every iteration, instead of just pulling from the thresholds[i]\n",
    "#OG\n",
    "def optimize_threshold1_R2(i,roivar,zcheck):\n",
    "    pixels=[]\n",
    "\n",
    "    for a in range(len(roivar)):\n",
    "        for b in range(len(roivar[a])):\n",
    "            if roivar[a,b]!=0:          \n",
    "                pixels.append(roivar[a,b])\n",
    "    pixels=np.array(pixels)\n",
    "    pixels=np.uint8(pixels)\n",
    "\n",
    "    otsuth2_R2, fatots = cv2.threshold(pixels,0,1,cv2.THRESH_BINARY+cv2.THRESH_OTSU)   \n",
    "    \n",
    "    print (\"Otsu Threshold =\",otsuth2_R2)\n",
    "    \n",
    "    \n",
    "    k=1\n",
    "    ThPrev_R2=0\n",
    "    ThRev_R2=otsuth2_R2\n",
    "    while ThRev_R2!=ThPrev_R2:\n",
    "        ThPrev_R2=ThRev_R2\n",
    "        prefatmask_R2 = label(roivar>ThRev_R2)\n",
    "        fatmask_R2 = np.uint8(prefatmask_R2)\n",
    "        ret, fatmask_R2 = cv2.threshold(fatmask_R2,0,1,cv2.THRESH_BINARY)\n",
    "        #NEW: find Z-connection\n",
    "        fatcombined_prev=zcheck[i-1]+fatmask_R2 #note can't use zcheck[i] cus ThRev changes with each iteration\n",
    "        fatcombined_next=fatmask_R2+zcheck[i+1]\n",
    "        ret, fatconnectedparts_prev= cv2.threshold(fatcombined_prev,1,1,cv2.THRESH_BINARY)\n",
    "        ret, fatconnectedparts_next= cv2.threshold(fatcombined_next,1,1,cv2.THRESH_BINARY)\n",
    "        z_connection=fatconnectedparts_prev+fatconnectedparts_next\n",
    "        ret, z_connection= cv2.threshold(z_connection,0,1,cv2.THRESH_BINARY)\n",
    "        #NEW: find XY connections to Z connected parts\n",
    "        coordinates= np.argwhere(z_connection ==1) #put coordinates of Z-connections into a list\n",
    "        im_ff=fatmask_R2.copy()\n",
    "        mask = np.zeros((h+2, w+2), np.uint8)\n",
    "        for item in range(len(coordinates)):\n",
    "            cv2.floodFill(im_ff, mask, (coordinates[item][1],coordinates[item][0]), 2)\n",
    "        #Remove small islands for Non-Z parts\n",
    "        nonZ =(im_ff==1)\n",
    "        Z = (im_ff==2)\n",
    "        nonZ_keep = (morphology.remove_small_objects(nonZ,min_size=8, connectivity=1))\n",
    "        prefatseg1_R2=Z+nonZ_keep #change name??\n",
    "        fatseg1_R2=prefatseg1_R2*Ivol8c_roi[i] #don't need to make a mask first\n",
    "        #Fat and Muscle Quantification\n",
    "        preMuscSegM_R2=roivar-fatseg1_R2\n",
    "        MuscSegM_R2=np.ma.masked_where(preMuscSegM_R2 == 0, preMuscSegM_R2)\n",
    "        FatSegM_R2=np.ma.masked_where(fatseg1_R2==0,fatseg1_R2)\n",
    "        MuscSegI_R2=np.mean(MuscSegM_R2)\n",
    "        FatSegI_R2=np.mean(FatSegM_R2)\n",
    "        ThRev_R2=(1+((FatSegI_R2-MuscSegI_R2)/FatSegI_R2))*MuscSegI_R2\n",
    "        def check(im,to_overlay,x):\n",
    "            overlay = np.ma.masked_where(to_overlay == 0, roi)\n",
    "            axs[x].imshow(im, cmap=\"bone\")\n",
    "            axs[x].imshow(overlay, cmap=\"hsv\", vmin=0, vmax=1)\n",
    "        print (f\"Iteration={k}\\n\\tThPrev={ThPrev_R2}\\n\\tThRev={ThRev_R2}\")\n",
    "        # fig, axs = plt.subplots (1,7, figsize=(27,20))\n",
    "        # axs[0].imshow(zcheck[i-1], cmap='bone')\n",
    "        # axs[0].set_title(f\"Slice {i} R1\")\n",
    "        # axs[1].imshow(fatmask_R2,cmap=\"bone\")\n",
    "        # axs[1].set_title(f\"Slice {i+1} raw threshold\")\n",
    "        # axs[2].imshow(zcheck[i+1],cmap=\"bone\")\n",
    "        # axs[2].set_title(f\"Slice {i+2} R1\")\n",
    "        # axs[3].imshow(z_connection,cmap=\"bone\")\n",
    "        # axs[3].set_title(f\"Slice{i},{i+1},{i+2} Z-connections\")\n",
    "        # check(fatmask_R2, z_connection,4)\n",
    "        # axs[4].set_title(f\"connected_on_soi\")\n",
    "        # axs[5].imshow(im_ff)\n",
    "        # axs[5].set_title(f\"Slice {i+1} SOI FF\")\n",
    "        # axs[6].imshow(prefatseg1_R2)\n",
    "        # axs[6].set_title(f\"Slice {i+1} R2 Final Mask\")\n",
    "        fig, axs = plt.subplots (1,6, figsize=(15,15))\n",
    "        axs[0].imshow(im_ff)\n",
    "        axs[0].set_title(f\"Slice {i+1} SOI FF\")\n",
    "        axs[1].imshow(Z,cmap=\"bone\")\n",
    "        axs[1].set_title(f\"Slice {i+1} Z\")\n",
    "        axs[2].imshow(nonZ,cmap=\"bone\")\n",
    "        axs[2].set_title(f\"Slice {i+1} nonZ\")\n",
    "        axs[3].imshow(nonZ_keep,cmap=\"bone\")\n",
    "        axs[3].set_title(f\"Slice {i+1} nonZ_keep\")\n",
    "        axs[4].imshow(prefatseg1_R2,cmap=\"bone\")\n",
    "        axs[4].set_title(f\"Slice {i+1} R2 Final Mask\")\n",
    "        axs[5].imshow(fatseg1_R2,cmap=\"bone\")\n",
    "        axs[5].set_title(f\"Slice {i+1} R2 Final \")\n",
    "        k+=1\n",
    "        if k==50:\n",
    "            break\n",
    "    thresholds_R2=ThRev_R2\n",
    "    return prefatseg1_R2,fatseg1_R2, thresholds_R2\n",
    "prefatseg1_R2,fatseg1_R2,thresholds_R2=optimize_threshold1_R2(7,roivol[7],zcheck_Th2R1)\n",
    "\n",
    "\n",
    "print (np.sum(fatseg1_R2>0))\n"
   ]
  },
  {
   "cell_type": "code",
   "execution_count": null,
   "metadata": {
    "colab": {
     "base_uri": "https://localhost:8080/",
     "height": 1000
    },
    "colab_type": "code",
    "id": "C5dtd-La_sAt",
    "outputId": "0ed1acfe-016a-4595-96ce-8cdc4b5777fb"
   },
   "outputs": [],
   "source": [
    "#Th2 R2\n",
    "\n",
    "i=7\n",
    "roi2_R2=roivol[i]-fatseg1_R2 \n",
    "\n",
    "prefatseg2_R2,fatseg2_R2, thresholds2_R2=optimize_threshold1_R2(7,roi2_R2,zcheck_Th2R1)\n",
    "\n"
   ]
  },
  {
   "cell_type": "code",
   "execution_count": null,
   "metadata": {
    "colab": {
     "base_uri": "https://localhost:8080/",
     "height": 353
    },
    "colab_type": "code",
    "id": "Hh_M03Imj4en",
    "outputId": "47c89cbd-d980-4648-c314-9d6792e5d713"
   },
   "outputs": [],
   "source": [
    "fig, ax= plt.subplots(1, 2, figsize=(12, 6))\n",
    "ax[0].imshow(fatseg1vol_R1[7],cmap='bone')\n",
    "#ax[0].set_title(f\"Slice 8; no 3D; Th= {thresholds[7]} \")\n",
    "ax[1].imshow(fatseg1_R2, cmap='bone')\n",
    "#ax[1].set_title(f\"Slice 8; 3D connected; Th= {thresholds_R2} \")\n"
   ]
  },
  {
   "cell_type": "markdown",
   "metadata": {
    "colab_type": "text",
    "id": "xsTdWQfqUcLu"
   },
   "source": [
    "####Volume"
   ]
  },
  {
   "cell_type": "markdown",
   "metadata": {
    "colab_type": "text",
    "id": "YN5Z57SWND1B"
   },
   "source": [
    "#####Threshold Optimization #1"
   ]
  },
  {
   "cell_type": "code",
   "execution_count": null,
   "metadata": {
    "colab": {
     "base_uri": "https://localhost:8080/",
     "height": 1000
    },
    "colab_type": "code",
    "id": "BgHh0mZNE95Y",
    "outputId": "994c0ab9-ed30-4849-f4bd-a42d536b9b93"
   },
   "outputs": [],
   "source": [
    "# initial threshold \n",
    "initial_th1_R2=[]\n",
    "\n",
    "for i in range(j):\n",
    "  initial_th1_R2.append([])\n",
    "  initial_th1_R2[i]=multi_otsu(roivol[i])"
   ]
  },
  {
   "cell_type": "code",
   "execution_count": null,
   "metadata": {
    "colab": {},
    "colab_type": "code",
    "id": "GANNjkapU1bY"
   },
   "outputs": [],
   "source": [
    "def optimize_thresholdvol_R2(i, roivar, ots, zcheck):\n",
    "     \n",
    "    k=1\n",
    "    ThPrev_R2=0 \n",
    "    ThRev_R2= ots[i] \n",
    "    x=0\n",
    "    y=0\n",
    "    while ThRev_R2!=ThPrev_R2:\n",
    "        ThPrev_R2=ThRev_R2\n",
    "\n",
    "        prefatmask_R2 = (roivar[i]>ThRev_R2)\n",
    "        prefatmask_R2 = np.uint8(prefatmask_R2)\n",
    "        ret, fatmask_R2 = cv2.threshold(prefatmask_R2,0,1,cv2.THRESH_BINARY)  #need this??\n",
    "\n",
    "        if i==0:\n",
    "            fatcombined_next=zcheck[i+1]+fatmask_R2\n",
    "            ret, fatconnectedparts_next= cv2.threshold(fatcombined_next,1,1,cv2.THRESH_BINARY)\n",
    "            z_connection=fatconnectedparts_next\n",
    "   \n",
    "        elif i==(j-1):\n",
    "            fatcombined_prev=zcheck[i-1]+fatmask_R2\n",
    "            ret, fatconnectedparts_prev= cv2.threshold(fatcombined_prev,1,1,cv2.THRESH_BINARY)\n",
    "            z_connection=fatconnectedparts_prev\n",
    "   \n",
    "        else:\n",
    "            fatcombined_prev=zcheck[i-1]+fatmask_R2\n",
    "            fatcombined_next=fatmask_R2+zcheck[i+1]\n",
    "            ret, fatconnectedparts_prev= cv2.threshold(fatcombined_prev,1,1,cv2.THRESH_BINARY)\n",
    "            ret, fatconnectedparts_next= cv2.threshold(fatcombined_next,1,1,cv2.THRESH_BINARY)\n",
    "\n",
    "            z_connection=fatconnectedparts_prev+fatconnectedparts_next\n",
    "            ret, z_connection= cv2.threshold(z_connection,0,1,cv2.THRESH_BINARY) \n",
    "        \n",
    "        #NEW: find XY connections to Z connected parts\n",
    "        coordinates= np.argwhere(z_connection ==1) #put coordinates of Z-connections into a list      \n",
    "        im_ff=fatmask_R2.copy()\n",
    "        h, w = im_ff.shape[:2] #added\n",
    "        mask = np.zeros((h+2, w+2), np.uint8)\n",
    "        for item in range(len(coordinates)):\n",
    "            cv2.floodFill(im_ff, mask, (coordinates[item][1],coordinates[item][0]), 2)\n",
    "        \n",
    "        #Remove small islands for Non-Z parts\n",
    "        nonZ =label(im_ff==1)\n",
    "        nonZ_keep = (morphology.remove_small_objects(nonZ,min_size=8, connectivity=1))\n",
    "        ret, nonZ_keep= cv2.threshold(np.uint8(nonZ_keep),0,1,cv2.THRESH_BINARY)\n",
    "\n",
    "        Z = (im_ff==2)\n",
    "  \n",
    "        prefatseg1_R2=(Z+nonZ_keep) #do we need int cus boolean??\n",
    "        fatseg1_R2=prefatseg1_R2*Ivol8c_roi[i]\n",
    "        #Fat and Muscle Quantification\n",
    "        preMuscSegP_R2=roivol[i]-fatseg1_R2\n",
    "        MuscSegP_R2=np.ma.masked_where(preMuscSegP_R2 == 0, preMuscSegP_R2)\n",
    "        FatSegP_R2=np.ma.masked_where(fatseg1_R2==0,fatseg1_R2) \n",
    "        MuscSegI_R2=np.mean(MuscSegP_R2)\n",
    "        FatSegI_R2=np.mean(FatSegP_R2)\n",
    "        ThRev_R2=(1+((FatSegI_R2-MuscSegI_R2)/FatSegI_R2))*MuscSegI_R2 \n",
    "        print (f\"Slice {i+1} Iteration={k}\\n\\tThPrev={ThPrev_R2}\\n\\tThRev={ThRev_R2}\\n\")\n",
    "\n",
    "        k+=1\n",
    "        if k==50:\n",
    "            break\n",
    "    #  if i==8:\n",
    "    #       fig, axs = plt.subplots (1,9, figsize=(15,10))\n",
    "    #       axs[0].imshow(zcheck[i-1],cmap=\"bone\")\n",
    "    #       axs[0].set_title(f\"Slice {i} R1\")     \n",
    "    #       axs[1].imshow(fatmask_R2,cmap=\"bone\")\n",
    "    #       axs[1].set_title(f\"Slice {i+1} raw threshold\")\n",
    "    #       axs[2].imshow(zcheck[i+1],cmap=\"bone\")\n",
    "    #       axs[2].set_title(f\"Slice {i+2} raw threshold\")\n",
    "\n",
    "    #       axs[3].imshow(im_ff)\n",
    "    #       axs[3].set_title(f\"Slice {i+1} SOI FF\")\n",
    "    #       axs[4].imshow(Z,cmap=\"bone\")\n",
    "    #       axs[4].set_title(f\"Slice {i+1} Z\")\n",
    "    #       axs[5].imshow(nonZ,cmap=\"bone\")\n",
    "    #       axs[5].set_title(f\"Slice {i+1} nonZ\")\n",
    "    #       axs[6].imshow(nonZ_keep,cmap=\"bone\")\n",
    "    #       axs[6].set_title(f\"Slice {i+1} nonZ_keep\")\n",
    "    #       axs[7].imshow(prefatseg1_R2,cmap=\"bone\")\n",
    "    #       axs[7].set_title(f\"Slice {i+1} R2 Final Mask\")\n",
    "    #       axs[8].imshow(fatseg1_R2,cmap=\"bone\")\n",
    "    #       axs[8].set_title(f\"Slice {i+1} R2 Final \")\n",
    "    # fig, axs = plt.subplots (1,7, figsize=(27,20))  \n",
    "    # if i>0:  \n",
    "    #     axs[0].imshow(zcheck[i-1],cmap=\"bone\")\n",
    "    # else:\n",
    "    #     axs[0].imshow(np.zeros([Ivol8c_roi.shape[1], Ivol8c_roi.shape[2]]),cmap=\"bone\")\n",
    "    # axs[0].set_title(f\"Slice {i} R1\")     \n",
    "    # axs[1].imshow(fatmask_R2,cmap=\"bone\")\n",
    "    # axs[1].set_title(f\"Slice {i+1} raw threshold\")\n",
    "    \n",
    "    # if i<(j-1):  \n",
    "    #     axs[2].imshow(zcheck[i+1],cmap=\"bone\")\n",
    "    # else:\n",
    "    #     axs[2].imshow(np.zeros([Ivol8c_roi.shape[1], Ivol8c_roi.shape[2]]),cmap=\"bone\")           \n",
    "    # axs[2].set_title(f\"Slice {i+2} R1\")\n",
    "    # axs[3].imshow(im_ff)\n",
    "    # axs[3].set_title(f\"Slice {i+1} SOI FF\")\n",
    "    # axs[4].imshow(prefatseg1_R2,cmap=\"bone\")\n",
    "    # axs[4].set_title(f\"Slice {i+1} R2 Final Mask\")\n",
    "    # axs[5].imshow(fatseg1_R2,cmap=\"bone\")\n",
    "    # axs[5].set_title(f\"Slice {i+1} R2 Final \")\n",
    "    # axs[6].imshow(fatsegfinalvol_mask_R1[i],cmap=\"bone\")\n",
    "    # axs[6].set_title(f\"Slice {i+1} R1 Final \")\n",
    "    thresholds_R2=ThRev_R2\n",
    "    return prefatseg1_R2, fatseg1_R2, thresholds_R2"
   ]
  },
  {
   "cell_type": "code",
   "execution_count": null,
   "metadata": {
    "colab": {
     "base_uri": "https://localhost:8080/",
     "height": 1000
    },
    "colab_type": "code",
    "id": "J1MCtvEFNkcm",
    "outputId": "98b01785-bd80-46a0-9b5c-73600fcfa34d"
   },
   "outputs": [],
   "source": [
    "#Original + Original Revised\n",
    "#Th1 R2\n",
    "fatseg1vol_mask_R2_OG_rev=np.zeros([Ivol8c_roi.shape[0], Ivol8c_roi.shape[1], Ivol8c_roi.shape[2]], dtype='uint8')\n",
    "fatseg1vol_R2_OG_rev=np.zeros([Ivol8c_roi.shape[0], Ivol8c_roi.shape[1], Ivol8c_roi.shape[2]], dtype='uint8') #change name\n",
    "\n",
    "thresholds_R2_OG_rev=[] #change name compared to single slice?\n",
    "for i in range(j):\n",
    "    thresholds_R2_OG_rev.append([])\n",
    "    fatseg1vol_mask_R2_OG_rev[i],fatseg1vol_R2_OG_rev[i], thresholds_R2_OG_rev[i]=optimize_thresholdvol_R2(i, roivol,initial_th1_R2,fatsegfinalvol_mask_R1)  #fatsegfinalvol_mask_R1=round 1 final fat mask with islands REMOVED\n",
    "    print (f\"Slice {i+1} Th1 R2 = {thresholds_R2_OG_rev[i]}\")\n",
    "    print (\"-----------------------------------------------------------\")\n",
    "\n",
    "for i in range(j):\n",
    "    print (f\"Slice {i+1} Th1 R2 OG/Rev={thresholds_R2_OG_rev[i]}\")"
   ]
  },
  {
   "cell_type": "code",
   "execution_count": null,
   "metadata": {
    "colab": {
     "base_uri": "https://localhost:8080/",
     "height": 1000
    },
    "colab_type": "code",
    "id": "iXPL10gAWAha",
    "outputId": "8505216b-282a-42f2-8015-e25ed0a95e1f"
   },
   "outputs": [],
   "source": [
    "#Kenneth's\n",
    "#Th1 R2\n",
    "fatseg1vol_mask_R2_ken=np.zeros([Ivol8c_roi.shape[0], Ivol8c_roi.shape[1], Ivol8c_roi.shape[2]], dtype='uint8')\n",
    "fatseg1vol_R2_ken=np.zeros([Ivol8c_roi.shape[0], Ivol8c_roi.shape[1], Ivol8c_roi.shape[2]], dtype='uint8') #change name\n",
    "\n",
    "thresholds_R2_ken=[] \n",
    "for i in range(j):\n",
    "    thresholds_R2_ken.append([])\n",
    "    fatseg1vol_mask_R2_ken[i],fatseg1vol_R2_ken[i], thresholds_R2_ken[i]=optimize_thresholdvol_R2(i, roivol, initial_th1_R2, zcheck_Th2R1)  #zcheck_Th2R1= round 1 final fat islands NOT removed\n",
    "    print (f\"Slice {i+1} Th1 R2 = {thresholds_R2_ken[i]}\")\n",
    "    print (\"-----------------------------------------------------------\")\n",
    "\n",
    "for i in range(j):\n",
    "    print (f\"Slice {i+1} Th1 R2 Ken={thresholds_R2_ken[i]}\")"
   ]
  },
  {
   "cell_type": "markdown",
   "metadata": {
    "colab_type": "text",
    "id": "fa3ghSeeNTyU"
   },
   "source": [
    "#####Threshold Optimization #2"
   ]
  },
  {
   "cell_type": "code",
   "execution_count": null,
   "metadata": {
    "colab": {
     "base_uri": "https://localhost:8080/",
     "height": 601
    },
    "colab_type": "code",
    "id": "aEn9CvBlOYX8",
    "outputId": "58b12e6b-e1fc-4495-9b86-b0667358b36d"
   },
   "outputs": [],
   "source": [
    "#Original + Original Revised\n",
    "roi2vol_R2_OG_rev=np.empty([Ivol8c_roi.shape[0], Ivol8c_roi.shape[1], Ivol8c_roi.shape[2]], dtype='uint8') #change name\n",
    "roi2vol_R2_OG_rev=roivol-fatseg1vol_R2_OG_rev\n",
    "\n",
    "stackimages(roi2vol_R2_OG_rev)"
   ]
  },
  {
   "cell_type": "code",
   "execution_count": null,
   "metadata": {
    "colab": {
     "base_uri": "https://localhost:8080/",
     "height": 601
    },
    "colab_type": "code",
    "id": "hHQ97dgDXJnF",
    "outputId": "4de811db-3eed-43b3-9d2d-a82e333d029e"
   },
   "outputs": [],
   "source": [
    "#Kenneth's\n",
    "\n",
    "roi2vol_R2_ken=roivol-fatseg1vol_R2_ken\n",
    "\n",
    "stackimages(roi2vol_R2_ken)"
   ]
  },
  {
   "cell_type": "code",
   "execution_count": null,
   "metadata": {
    "colab": {
     "base_uri": "https://localhost:8080/",
     "height": 1000
    },
    "colab_type": "code",
    "id": "MUGGEXjACtm9",
    "outputId": "7c4fe1f5-1f1f-495d-973b-4cb40def7fd7"
   },
   "outputs": [],
   "source": [
    "#Original + Original Revised\n",
    "initial_th2_R2_OGrev=[]\n",
    "for i in range(j):\n",
    "  initial_th2_R2_OGrev.append([])\n",
    "  initial_th2_R2_OGrev[i]=multi_otsu(roi2vol_R2_OG_rev[i])\n"
   ]
  },
  {
   "cell_type": "code",
   "execution_count": null,
   "metadata": {
    "colab": {
     "base_uri": "https://localhost:8080/",
     "height": 1000
    },
    "colab_type": "code",
    "id": "ESOrZoWSOwJ4",
    "outputId": "45f16b47-dc2f-4c54-ff22-49d00131e2ba"
   },
   "outputs": [],
   "source": [
    "\n",
    "#Th2 R2\n",
    "fatseg2vol_mask_R2_OG_rev=np.empty([Ivol8c_roi.shape[0], Ivol8c_roi.shape[1], Ivol8c_roi.shape[2]], dtype='uint8') \n",
    "fatseg2vol_R2_OG_rev=np.empty([Ivol8c_roi.shape[0], Ivol8c_roi.shape[1], Ivol8c_roi.shape[2]], dtype='uint8') \n",
    "\n",
    "thresholds2_R2_OG_rev=[]\n",
    "for i in range(j):\n",
    "    thresholds2_R2_OG_rev.append([])\n",
    "    fatseg2vol_R2_OG_rev[i],fatseg2vol_mask_R2_OG_rev[i], thresholds2_R2_OG_rev[i]=optimize_thresholdvol_R2(i, roi2vol_R2_OG_rev, initial_th2_R2_OGrev, fatsegfinalvol_mask_R1) \n",
    "    print (f\"Slice {i+1} Th2 R2 = {thresholds2_R2_OG_rev[i]}\")\n",
    "    print (\"--------------------------------------------------\")\n",
    "for i in range(j):\n",
    "    print (f\"Slice {i+1} Th2 R2 OG/Rev={thresholds2_R2_OG_rev[i]}\")"
   ]
  },
  {
   "cell_type": "code",
   "execution_count": null,
   "metadata": {
    "colab": {
     "base_uri": "https://localhost:8080/",
     "height": 1000
    },
    "colab_type": "code",
    "id": "CaeIulxKEGHh",
    "outputId": "0dabd5d0-a7e4-436e-f3c8-40bcbf7f8c9a"
   },
   "outputs": [],
   "source": [
    "#Kenneth's \n",
    "initial_th2_R2_ken=[]\n",
    "for i in range(j):\n",
    "  initial_th2_R2_ken.append([])\n",
    "  initial_th2_R2_ken[i]=multi_otsu(roi2vol_R2_ken[i])"
   ]
  },
  {
   "cell_type": "code",
   "execution_count": null,
   "metadata": {
    "colab": {
     "base_uri": "https://localhost:8080/",
     "height": 1000
    },
    "colab_type": "code",
    "id": "NDeyTdBpXvUx",
    "outputId": "34168b44-9984-41be-c771-306f0a239692"
   },
   "outputs": [],
   "source": [
    "#Th2 R2\n",
    "fatseg2vol_mask_R2_ken=np.empty([Ivol8c_roi.shape[0], Ivol8c_roi.shape[1], Ivol8c_roi.shape[2]], dtype='uint8') \n",
    "fatseg2vol_R2_ken=np.empty([Ivol8c_roi.shape[0], Ivol8c_roi.shape[1], Ivol8c_roi.shape[2]], dtype='uint8') \n",
    "\n",
    "thresholds2_R2_ken=[]\n",
    "for i in range(j):\n",
    "    thresholds2_R2_ken.append([])\n",
    "    fatseg2vol_R2_ken[i],fatseg2vol_mask_R2_ken[i], thresholds2_R2_ken[i]=optimize_thresholdvol_R2(i, roi2vol_R2_ken, initial_th2_R2_ken, zcheck_Th2R1) \n",
    "    print (f\"Slice {i+1} Th2 R2 = {thresholds2_R2_ken[i]}\")\n",
    "\n",
    "for i in range(j):\n",
    "    print (f\"Slice {i+1} Th2 R2 Ken={thresholds2_R2_ken[i]}\")"
   ]
  },
  {
   "cell_type": "markdown",
   "metadata": {
    "colab_type": "text",
    "id": "VzlCl8V5QWHM"
   },
   "source": [
    "##Round 3: Final Z-Connectivity Check"
   ]
  },
  {
   "cell_type": "code",
   "execution_count": null,
   "metadata": {
    "colab": {
     "base_uri": "https://localhost:8080/",
     "height": 286
    },
    "colab_type": "code",
    "id": "XGBhtda3PmUP",
    "outputId": "66d37c14-10fa-476a-c6c5-30d6f00991ad"
   },
   "outputs": [],
   "source": [
    "#Original Revised\n",
    "\n",
    "zcheck_Th2R2_rev=np.zeros([Ivol8c_roi.shape[0], Ivol8c_roi.shape[1], Ivol8c_roi.shape[2]], dtype='uint8')\n",
    "\n",
    "for i in range(j):\n",
    "    zcheck_Th2R2_rev[i] = (roivol[i]>thresholds2_R2_OG_rev[i]).astype(int) \n",
    "plt.imshow(zcheck_Th2R2_rev[7],cmap=\"bone\")"
   ]
  },
  {
   "cell_type": "code",
   "execution_count": null,
   "metadata": {
    "colab": {
     "base_uri": "https://localhost:8080/",
     "height": 286
    },
    "colab_type": "code",
    "id": "Y4coXLYmZpsR",
    "outputId": "c90bfd31-9c09-4e5e-ab67-d59ff3031acc"
   },
   "outputs": [],
   "source": [
    "#Kenneth's\n",
    "\n",
    "zcheck_Th2R2_ken=np.zeros([Ivol8c_roi.shape[0], Ivol8c_roi.shape[1], Ivol8c_roi.shape[2]], dtype='uint8')\n",
    "\n",
    "for i in range(j):\n",
    "    zcheck_Th2R2_ken[i] = (roivol[i]>thresholds2_R2_ken[i]).astype(int) \n",
    "plt.imshow(zcheck_Th2R2_ken[7],cmap=\"bone\")"
   ]
  },
  {
   "cell_type": "code",
   "execution_count": null,
   "metadata": {
    "colab": {},
    "colab_type": "code",
    "id": "mu0TEJ9aaJJx"
   },
   "outputs": [],
   "source": [
    "def R3_zcheck(threshold,zcheck):\n",
    "    prefatmask_R3 = (roivol[i]>threshold[i])\n",
    "    fatmask_R3 = np.uint8(prefatmask_R3)\n",
    "\n",
    "    if i==0:\n",
    "        fatcombined_next=zcheck[i+1]+fatmask_R3\n",
    "        ret, fatconnectedparts_next= cv2.threshold(fatcombined_next,1,1,cv2.THRESH_BINARY)\n",
    "        z_connection=fatconnectedparts_next      \n",
    "    elif i==(j-1):\n",
    "        fatcombined_prev=zcheck[i-1]+fatmask_R3  \n",
    "        ret, fatconnectedparts_prev= cv2.threshold(fatcombined_prev,1,1,cv2.THRESH_BINARY)\n",
    "        z_connection=fatconnectedparts_prev    \n",
    "    else:\n",
    "        fatcombined_prev=zcheck[i-1]+fatmask_R3\n",
    "        fatcombined_next=zcheck[i+1]+fatmask_R3 \n",
    "\n",
    "        ret, fatconnectedparts_prev= cv2.threshold(fatcombined_prev,1,1,cv2.THRESH_BINARY)\n",
    "        ret, fatconnectedparts_next= cv2.threshold(fatcombined_next,1,1,cv2.THRESH_BINARY)\n",
    "\n",
    "        z_connection=fatconnectedparts_prev+fatconnectedparts_next\n",
    "        ret, z_connection= cv2.threshold(z_connection,0,1,cv2.THRESH_BINARY)      \n",
    "\n",
    "        \n",
    "    coordinates= np.argwhere(z_connection ==1) #put coordinates of Z-connections into a list      \n",
    "    im_ff=fatmask_R3.copy()\n",
    "    h, w = im_ff.shape[:2] \n",
    "    mask = np.zeros((h+2, w+2), np.uint8)\n",
    "    for item in range(len(coordinates)):\n",
    "        cv2.floodFill(im_ff, mask, (coordinates[item][1],coordinates[item][0]), 2)\n",
    "\n",
    "    #Remove small islands for Non-Z parts\n",
    "    nonZ =label(im_ff==1)\n",
    "    nonZ_keep = (morphology.remove_small_objects(nonZ,min_size=8, connectivity=1))\n",
    "    ret, nonZ_keep= cv2.threshold(np.uint8(nonZ_keep),0,1,cv2.THRESH_BINARY)\n",
    "\n",
    "    Z = (im_ff==2)\n",
    "   \n",
    "    final_fat_mask=(Z+nonZ_keep) \n",
    "    final_fat=final_fat_mask*Ivol8c_roi[i] \n",
    "    \n",
    "    def check1(im,to_overlay,x):\n",
    "        overlay = np.ma.masked_where(to_overlay == 0, to_overlay)\n",
    "        axs[x].imshow(im, cmap=\"bone\")\n",
    "        axs[x].imshow(overlay, cmap=\"hsv\", vmin=0, vmax=1)\n",
    "    \n",
    "    fig,axs=plt.subplots(1,4,figsize=(15,10))\n",
    "    check1(fatmask_R3, z_connection,0)\n",
    "    axs[0].set_title(f\"Overlay Z-connection on Slice {i+1}\")\n",
    "    axs[1].imshow(nonZ,cmap=\"bone\")\n",
    "    axs[1].set_title(f\"Slice {i+1} nonZ\")\n",
    "    axs[2].imshow(nonZ_keep,cmap=\"bone\")\n",
    "    axs[2].set_title(f\"Slice {i+1} nonZ_keep\")\n",
    "    axs[3].imshow(final_fat_mask,cmap=\"bone\")\n",
    "    axs[3].set_title(f\"Slice {i+1} final_fat_mask\")\n",
    "    \n",
    "    print(f\"Slice {i+1} final sum={np.sum(final_fat>0)}\")\n",
    "  \n",
    "    return final_fat_mask, final_fat"
   ]
  },
  {
   "cell_type": "code",
   "execution_count": null,
   "metadata": {
    "colab": {
     "base_uri": "https://localhost:8080/",
     "height": 1000
    },
    "colab_type": "code",
    "id": "wCiPA8-sP0uB",
    "outputId": "c4c68ac4-9fa0-4d74-d667-aaf38b3c0860"
   },
   "outputs": [],
   "source": [
    "#Original\n",
    "final_fat_mask_OG=np.zeros([Ivol8c_roi.shape[0], Ivol8c_roi.shape[1], Ivol8c_roi.shape[2]], dtype='uint8')\n",
    "final_fat_OG=np.zeros([Ivol8c_roi.shape[0], Ivol8c_roi.shape[1], Ivol8c_roi.shape[2]], dtype='uint8')\n",
    "\n",
    "for i in range(j):\n",
    "    final_fat_mask_OG[i], final_fat_OG[i]=R3_zcheck(thresholds2_R2_OG_rev,fatsegfinalvol_mask_R1) \n",
    "    final_fat_OG[i]=final_fat_mask_OG[i]*Ivol8c_roi[i]"
   ]
  },
  {
   "cell_type": "code",
   "execution_count": null,
   "metadata": {
    "colab": {
     "base_uri": "https://localhost:8080/",
     "height": 1000
    },
    "colab_type": "code",
    "id": "xwl5CjWuslvy",
    "outputId": "5461162c-a6f2-4116-8fe0-60c87e115c3a"
   },
   "outputs": [],
   "source": [
    "fatseg1vol_mask_R3_OG=np.zeros([Ivol8c_roi.shape[0], Ivol8c_roi.shape[1], Ivol8c_roi.shape[2]], dtype='uint8')\n",
    "fatseg2_refinedvol_mask_R3_OG=np.zeros([Ivol8c_roi.shape[0], Ivol8c_roi.shape[1], Ivol8c_roi.shape[2]], dtype='uint8')\n",
    "fatseg2_refinedvol_R3_OG=np.zeros([Ivol8c_roi.shape[0], Ivol8c_roi.shape[1], Ivol8c_roi.shape[2]], dtype='uint8')\n",
    "\n",
    "for i in range(j):\n",
    "  fatseg1vol_mask_R3_OG[i]=final_fat_OG[i]>thresholds_R2_OG_rev[i] \n",
    "  fatseg2_refinedvol_mask_R3_OG[i]= (fatseg1vol_mask_R3_OG[i]!=final_fat_mask_OG[i])\n",
    "  fatseg2_refinedvol_R3_OG[i]=fatseg2_refinedvol_mask_R3_OG[i]*Ivol8c_roi[i] \n",
    "\n",
    "stackimages(fatseg1vol_mask_R3_OG)\n",
    "stackimages(fatseg2_refinedvol_mask_R3_OG)"
   ]
  },
  {
   "cell_type": "code",
   "execution_count": null,
   "metadata": {
    "colab": {
     "base_uri": "https://localhost:8080/",
     "height": 1000
    },
    "colab_type": "code",
    "id": "9B3WbUCQQHpK",
    "outputId": "70a10e90-812a-4bdb-ceef-b23434e922e0"
   },
   "outputs": [],
   "source": [
    "#Original Revised\n",
    "\n",
    "final_fat_mask_rev=np.zeros([Ivol8c_roi.shape[0], Ivol8c_roi.shape[1], Ivol8c_roi.shape[2]], dtype='uint8')\n",
    "final_fat_rev=np.zeros([Ivol8c_roi.shape[0], Ivol8c_roi.shape[1], Ivol8c_roi.shape[2]], dtype='uint8')\n",
    "\n",
    "for i in range(j):\n",
    "    final_fat_mask_rev[i], final_fat_rev[i]=R3_zcheck(thresholds2_R2_OG_rev,zcheck_Th2R2_rev) \n",
    "    final_fat_rev[i]=final_fat_mask_rev[i]*Ivol8c_roi[i]\n"
   ]
  },
  {
   "cell_type": "code",
   "execution_count": null,
   "metadata": {
    "colab": {
     "base_uri": "https://localhost:8080/",
     "height": 1000
    },
    "colab_type": "code",
    "id": "4n6MyyPArAqY",
    "outputId": "a5d1beed-6490-4ed6-85b0-b6bcd7119ea5"
   },
   "outputs": [],
   "source": [
    "fatseg1vol_mask_R3_rev=np.zeros([Ivol8c_roi.shape[0], Ivol8c_roi.shape[1], Ivol8c_roi.shape[2]], dtype='uint8')\n",
    "fatseg2_refinedvol_mask_R3_rev=np.zeros([Ivol8c_roi.shape[0], Ivol8c_roi.shape[1], Ivol8c_roi.shape[2]], dtype='uint8')\n",
    "fatseg2_refinedvol_R3_rev=np.zeros([Ivol8c_roi.shape[0], Ivol8c_roi.shape[1], Ivol8c_roi.shape[2]], dtype='uint8')\n",
    "\n",
    "for i in range(j):\n",
    "  fatseg1vol_mask_R3_rev[i]=final_fat_rev[i]>thresholds_R2_OG_rev[i] \n",
    "  fatseg2_refinedvol_mask_R3_rev[i]= (fatseg1vol_mask_R3_rev[i]!=final_fat_mask_rev[i])\n",
    "  fatseg2_refinedvol_R3_rev[i]=fatseg2_refinedvol_mask_R3_rev[i]*Ivol8c_roi[i] \n",
    "\n",
    "stackimages(fatseg1vol_mask_R3_rev)\n",
    "stackimages(fatseg2_refinedvol_mask_R3_rev)"
   ]
  },
  {
   "cell_type": "code",
   "execution_count": null,
   "metadata": {
    "colab": {
     "base_uri": "https://localhost:8080/",
     "height": 1000
    },
    "colab_type": "code",
    "id": "uHFttmCVbGiS",
    "outputId": "0e771917-eeb3-46f3-a000-9e20cf48eba1"
   },
   "outputs": [],
   "source": [
    "#Kenneth's\n",
    "final_fat_mask_ken=np.zeros([Ivol8c_roi.shape[0], Ivol8c_roi.shape[1], Ivol8c_roi.shape[2]], dtype='uint8')\n",
    "final_fat_ken=np.zeros([Ivol8c_roi.shape[0], Ivol8c_roi.shape[1], Ivol8c_roi.shape[2]], dtype='uint8')\n",
    "\n",
    "for i in range(j):\n",
    "    final_fat_mask_ken[i], final_fat_ken[i]=R3_zcheck(thresholds2_R2_ken,zcheck_Th2R2_ken) \n",
    "    final_fat_ken[i]=final_fat_mask_ken[i]*Ivol8c_roi[i]\n"
   ]
  },
  {
   "cell_type": "code",
   "execution_count": null,
   "metadata": {
    "colab": {
     "base_uri": "https://localhost:8080/",
     "height": 1000
    },
    "colab_type": "code",
    "id": "8UuG1HWfuvKr",
    "outputId": "5b00acc3-62f4-414b-f73a-b2c359e0c03d"
   },
   "outputs": [],
   "source": [
    "#Kenneth's\n",
    "\n",
    "fatseg1vol_mask_R3_ken=np.zeros([Ivol8c_roi.shape[0], Ivol8c_roi.shape[1], Ivol8c_roi.shape[2]], dtype='uint8')\n",
    "fatseg2_refinedvol_mask_R3_ken=np.zeros([Ivol8c_roi.shape[0], Ivol8c_roi.shape[1], Ivol8c_roi.shape[2]], dtype='uint8')\n",
    "fatseg2_refinedvol_R3_ken=np.zeros([Ivol8c_roi.shape[0], Ivol8c_roi.shape[1], Ivol8c_roi.shape[2]], dtype='uint8')\n",
    "\n",
    "\n",
    "for i in range(j):\n",
    "  fatseg1vol_mask_R3_ken[i]=final_fat_ken[i]>thresholds_R2_ken[i]\n",
    "  fatseg2_refinedvol_mask_R3_ken[i]= (fatseg1vol_mask_R3_ken[i]!=final_fat_mask_ken[i])\n",
    "  fatseg2_refinedvol_R3_ken[i]=fatseg2_refinedvol_mask_R3_ken[i]*Ivol8c_roi[i] #for calculations later\n",
    "\n",
    "stackimages(fatseg1vol_mask_R3_ken)\n",
    "stackimages(fatseg2_refinedvol_mask_R3_ken)\n",
    "# stackimages(fatseg2_refinedvol_R3_ken)\n",
    "\n"
   ]
  },
  {
   "cell_type": "markdown",
   "metadata": {
    "colab_type": "text",
    "id": "Nylx_d5Dkw1E"
   },
   "source": [
    "###Final Product"
   ]
  },
  {
   "cell_type": "code",
   "execution_count": null,
   "metadata": {
    "colab": {
     "base_uri": "https://localhost:8080/",
     "height": 1000
    },
    "colab_type": "code",
    "id": "2bn5NEyUSLYd",
    "outputId": "2fd7af34-9327-49a8-8977-194b0ad44e0c"
   },
   "outputs": [],
   "source": [
    "for i in range(j): \n",
    "    def check2(im, roi,x):    \n",
    "      overlay = np.ma.masked_where(roi == 0, roi)\n",
    "      axs[x].imshow(im, cmap=\"bone\")\n",
    "      axs[x].imshow(overlay, cmap=\"hsv\", vmin=0, vmax=1, alpha=0.4)\n",
    "      \n",
    "    def fats(thigh, fat2, fat3,x):    \n",
    "      overlay = np.ma.masked_where(fat2 == 0, fat2)\n",
    "      overlay2= np.ma.masked_where(fat3 == 0, fat3)\n",
    "      axs[x].imshow(thigh, cmap=\"bone\")\n",
    "      axs[x].imshow(overlay, cmap=\"autumn\", vmin=0, vmax=1)\n",
    "      axs[x].imshow(overlay2, cmap=\"bwr\", vmin=0, vmax=1, alpha=1)\n",
    "    \n",
    "    fig, axs = plt.subplots (1, 5, figsize=(17,55))\n",
    "    axs[0].set_title(f\"slice {i+1}\")\n",
    "    axs[0].imshow(Ivol8[i], cmap='bone')\n",
    "    axs[1].imshow(Ivol8c_roi[i], cmap='bone')\n",
    "    check2(Ivol8c_roi[i], roimaskvol[i],2)\n",
    "    fats(Ivol8c_roi[i], fatseg1vol_mask_R3_ken[i], fatseg2_refinedvol_mask_R3_ken[i],3)\n",
    "    axs[3].set_title(\"with Z connectivity\")\n",
    "    axs[4].imshow(final_fat_ken[i], cmap='bone')\n",
    "    axs[4].set_title(\"with Z connectivity\")\n",
    "           \n",
    "    \n"
   ]
  },
  {
   "cell_type": "code",
   "execution_count": null,
   "metadata": {
    "colab": {
     "base_uri": "https://localhost:8080/",
     "height": 1000
    },
    "colab_type": "code",
    "id": "byF-XQoWSjA6",
    "outputId": "05f4b5ea-086f-4e1a-98ab-41cbb2e1ef55"
   },
   "outputs": [],
   "source": [
    "#compare Z-connection check vs no check (R3 vs R1 fat)\n",
    "\n",
    "for i in range(j): \n",
    "    fig, axs = plt.subplots (1, 5, figsize=(17,55))\n",
    "    axs[0].imshow(Ivol8c_roi[i], cmap='bone')\n",
    "    axs[0].set_title(f\"Slice {i+1} Ivol8c_roi\")\n",
    "\n",
    "    fats(Ivol8c_roi[i], fatseg1vol_mask_R1[i], fatseg2_refinedvol_mask[i],1)\n",
    "    axs[1].set_title(\"WITHOUT Z connections\")\n",
    "    axs[2].imshow(fatsegfinalvol_R1[i], cmap='bone')\n",
    "    axs[2].set_title(\"WITHOUT Z connections\")\n",
    "\n",
    "    fats(Ivol8c_roi[i], fatseg1vol_mask_R3_ken[i], fatseg2_refinedvol_mask_R3_ken[i],3)\n",
    "    axs[3].set_title(\"WITH Z connections\")\n",
    "    axs[4].imshow(final_fat_ken[i], cmap='bone')\n",
    "    axs[4].set_title(\"WITH Z connections\")"
   ]
  },
  {
   "cell_type": "markdown",
   "metadata": {
    "colab_type": "text",
    "id": "W-ahK8Zzk4nW"
   },
   "source": [
    "##Fat/Muscle Data"
   ]
  },
  {
   "cell_type": "markdown",
   "metadata": {
    "colab_type": "text",
    "id": "x-yfRJd9lFJh"
   },
   "source": [
    "### Calculations"
   ]
  },
  {
   "cell_type": "markdown",
   "metadata": {
    "colab_type": "text",
    "id": "LSvZKzLZUNMR"
   },
   "source": [
    "#####Threshold 1 + 2 Separated"
   ]
  },
  {
   "cell_type": "code",
   "execution_count": null,
   "metadata": {
    "colab": {
     "base_uri": "https://localhost:8080/",
     "height": 458
    },
    "colab_type": "code",
    "id": "jfdwncZbRt7P",
    "outputId": "385f7676-b981-4e67-dfe8-ff10f7be4b39"
   },
   "outputs": [],
   "source": [
    "#test area calculation between mask vs no mask \n",
    "print(np.sum(roimaskvol[7]>0))\n",
    "print(np.sum(roivol[7]>0))\n",
    "\n",
    "fig, axs = plt.subplots (1, 2, figsize=(15,10))\n",
    "axs[0].imshow(roimaskvol[7],cmap=\"bone\")\n",
    "axs[1].imshow(roivol[7],cmap=\"bone\")"
   ]
  },
  {
   "cell_type": "code",
   "execution_count": null,
   "metadata": {
    "colab": {},
    "colab_type": "code",
    "id": "IAFd22zS9sa6"
   },
   "outputs": [],
   "source": [
    "\n",
    "muscleroi=muscleroi2=np.empty([Ivol8.shape[0], Ivol8.shape[1], Ivol8.shape[2]], dtype='uint8')\n",
    "\n",
    "def calc_vol(fat):\n",
    "    im_spacing = image.GetSpacing() #get spacing for original image - for calculations later\n",
    "    for i in range(j):\n",
    "        muscleroi[i]=roimaskvol[i]-fat[i] \n",
    "        #MUSCLE AND FAT AREA\n",
    "        MuscFatAreaPix=np.sum(roimaskvol[i]>0) #same result as roivol>0 #not musclemask>0 cus musclemask INCLUDES bone area! roimaskvol is ONLY muscle+fat. #Also don’t just do roi, need roi>0\n",
    "        MuscFatAreaMM=MuscFatAreaPix*im_spacing[0]*im_spacing[1] #multiply by x and y to convert to mm:  1 pixel here= spacing 0.9765625,0.9765625,5.0\n",
    "        #FAT AREA\n",
    "        FatAreaPix=np.sum(fat[i]>0) \n",
    "        FatAreaMM=FatAreaPix*im_spacing[0]*im_spacing[1]\n",
    "        #MUSCLE AREA\n",
    "        MuscAreaPix=np.sum(muscleroi[i]>0)\n",
    "        MuscAreaMM=MuscAreaPix*im_spacing[0]*im_spacing[1]\n",
    "        #FAT PERCENTAGE\n",
    "        FatPerc=FatAreaPix*100/MuscFatAreaPix #adding 2 dashes rounds it DOWN to whole number\n",
    "        #VOLUME OF EACH SLICE\n",
    "        MuscFatVolMM=MuscFatAreaMM*im_spacing[2]\n",
    "        FatVolMM=FatAreaMM*im_spacing[2] #multiply by z -slice thickness\n",
    "        MuscVolMM=MuscAreaMM*im_spacing[2]\n",
    "        print(f\"\\nSlice {i+1}\\n\")\n",
    "        print(tabulate([['Musc + Fat Area', \"%.1f\" % MuscFatAreaPix,'pixels'], ['Musc + Fat Area',\"%.1f\" % MuscFatAreaMM,'mm^2'],\n",
    "                ['Fat Area', \"%.1f\" % FatAreaPix,'pixels'],  ['Fat Area', \"%.1f\" % FatAreaMM,'mm^2'], ['Musc Area',\"%.1f\" % MuscAreaPix,'pixels'],['Musc Area',\"%.1f\" % MuscAreaMM,'mm^2'],\n",
    "                ['Fat Perc', \"%.1f\" % FatPerc,'%'],['Musc + Fat Vol', \"%.1f\" % MuscFatVolMM,'mm^3'],['Fat Vol', \"%.1f\" % FatVolMM,'mm^3'],['Musc Vol', \"%.1f\" % MuscVolMM,'mm^3']],\n",
    "                headers=['Data', 'Value','Units']))\n",
    "        print (\"------------------------------------------------------------\")\n",
    "\n",
    "#calc_vol(fatseg1vol_R1) # R1 threshold 1 fat - no 3D check\n",
    "#calc_vol(fatsegfinalvol_R1) #R1 threshold 2 fat - no 3D check\n",
    "#calc_vol(final_fat) #R2 threshold 2 fat WITH final 3D check (final fat from R2)"
   ]
  },
  {
   "cell_type": "markdown",
   "metadata": {
    "colab_type": "text",
    "id": "1DUTZrc9USjU"
   },
   "source": [
    "#####Threshold 1 + 2 Combined + Fat Correction"
   ]
  },
  {
   "cell_type": "code",
   "execution_count": null,
   "metadata": {
    "colab": {
     "base_uri": "https://localhost:8080/",
     "height": 1000
    },
    "colab_type": "code",
    "id": "Ysks2LkiRShp",
    "outputId": "a0d1bd0d-e819-40e4-c8dc-415cfb9548fe"
   },
   "outputs": [],
   "source": [
    "\n",
    "muscleroi=muscleroi2=np.empty([Ivol8.shape[0], Ivol8.shape[1], Ivol8.shape[2]], dtype='uint8')\n",
    "\n",
    "#problem - printing float separately works (354.0) but not in table\n",
    "def calc(fat1,fat2,fat3):\n",
    "    im_spacing = image.GetSpacing() #get spacing for original image - for calculations later\n",
    "    for i in range(j):\n",
    "    #MUSCLE + FAT AREA\n",
    "        MuscFatAreaPix=np.sum(roivol[i]>0)   \n",
    "        MuscFatAreaMM=MuscFatAreaPix*im_spacing[0]*im_spacing[1] \n",
    "        MuscFatVolMM=MuscFatAreaMM*im_spacing[2]\n",
    "    #THRESHOLD 1 FAT\n",
    "        muscleroi1=roivol[i]-fat1[i] \n",
    "        #plt.imshow(muscleroi1,cmap=\"bone\")\n",
    "        #plt.imshow(roivol[i],cmap=\"bone\")\n",
    "        #FAT AREA\n",
    "        FatAreaPix1=np.sum(fat1[i]>0) \n",
    "        FatAreaMM1=FatAreaPix1*im_spacing[0]*im_spacing[1]\n",
    "        #MUSCLE AREA\n",
    "        MuscAreaPix1=np.sum(muscleroi1>0)\n",
    "        MuscAreaMM1=MuscAreaPix1*im_spacing[0]*im_spacing[1]\n",
    "        #FAT PERCENTAGE\n",
    "        FatPerc1=FatAreaPix1*100/MuscFatAreaPix #adding 2 dashes rounds it DOWN to whole number\n",
    "        #VOLUME OF EACH SLICE\n",
    "        FatVolMM1=FatAreaMM1*im_spacing[2] #multiply by z -slice thickness\n",
    "        MuscVolMM1=MuscAreaMM1*im_spacing[2]\n",
    "        print(f\"\\nSlice {i+1} Threshold #1 \\n\")\n",
    "    \n",
    "        print(tabulate([['Musc + Fat Area', \"%.1f\" % MuscFatAreaPix,'pixels'], ['Musc + Fat Area',\"%.1f\" % MuscFatAreaMM,'mm^2'],['Musc + Fat Vol', \"%.1f\" % MuscFatVolMM,'mm^3'],[],\n",
    "                ['Musc Area 1',\"%.1f\" % MuscAreaPix1,'pixels'],['Musc Area 1',\"%.1f\" % MuscAreaMM1,'mm^2'],['Musc Vol 1', \"%.1f\" % MuscVolMM1,'mm^3'],[],\n",
    "                ['Fat Area 1', \"%.1f\" % FatAreaPix1,'pixels'],  ['Fat Area 1', \"%.1f\" % FatAreaMM1,'mm^2'], \n",
    "                ['Fat Perc 1', \"%.1f\" % FatPerc1,'%'],['Fat Vol 1', \"%.1f\" % FatVolMM1,'mm^3']],\n",
    "                headers=['Data', 'Value','Units']))\n",
    "        print (f\"\\n\")\n",
    "        \n",
    "    #THRESHOLD 2 FAT\n",
    "        #NOT including threshold 1 fat----------------------------------------------\n",
    "        muscleroi2=roivol[i]-fat2[i] \n",
    "        #FAT AREA\n",
    "        FatAreaPix2=np.sum(fat2[i]>0)\n",
    "        FatAreaMM2=FatAreaPix2*im_spacing[0]*im_spacing[1]\n",
    "        #MUSCLE AREA\n",
    "        MuscAreaPix2=np.sum(muscleroi2>0)\n",
    "        MuscAreaMM2=MuscAreaPix2*im_spacing[0]*im_spacing[1]\n",
    "        #FAT PERCENTAGE\n",
    "        FatPerc2=FatAreaPix2*100/MuscFatAreaPix\n",
    "        #VOLUME OF EACH SLICE\n",
    "        FatVolMM2=FatAreaMM2*im_spacing[2]\n",
    "        MuscVolMM2=MuscAreaMM2*im_spacing[2]\n",
    "        \n",
    "      \n",
    "        #FAT CORRECTION \n",
    "        Fat1masked=np.ma.masked_where(fat1[i]==0,fat1[i]) #brighter fat\n",
    "        Fat2masked=np.ma.masked_where(fat2[i]==0,fat2[i]) #less bright fat\n",
    "        FatSegI_1=np.mean(Fat1masked) \n",
    "        FatSegI_2=np.mean(Fat2masked)\n",
    "        cfactor=(FatSegI_2/FatSegI_1) #fat correction factor\n",
    "        \n",
    "        \n",
    "        FatVolCombined=FatVolMM1+FatVolMM2 #final volume not corrected\n",
    "        FatVolMM2_C=FatVolMM2*cfactor \n",
    "        FatVolCombined_C=FatVolMM1+FatVolMM2_C #final volume corrected\n",
    "        FatPerc2_C=FatPerc2*cfactor\n",
    "        \n",
    "        print(f\"\\nSlice {i+1} Threshold #2 NOT including fat 1  \\n\")\n",
    "        print(tabulate([['Musc Area 2',\"%.1f\" % MuscAreaPix2,'pixels'],['Musc Area 2',\"%.1f\" % MuscAreaMM2,'mm^2'],['Musc Vol 2', \"%.1f\" % MuscVolMM2,'mm^3'],[],\n",
    "                ['Fat Area 2', \"%.1f\" % FatAreaPix2,'pixels'],['Fat Area 2 ', \"%.1f\" % FatAreaMM2,'mm^2'],\n",
    "                ['Fat Perc 2', \"%.1f\" % FatPerc2,'%'],['Fat Perc 2 Corrected', FatPerc2_C,'%'],['Fat Vol 2 Not Corrected', \"%.1f\" % FatVolMM2,'mm^3'],['Fat Vol 2 Corrected', \"%.1f\" % FatVolMM2_C,'mm^3']],\n",
    "                headers=['Data', 'Value','Units']))\n",
    "        print (f\"\\n\")\n",
    "        print(f\"\\nSlice {i+1} Fat Correction \\n\")\n",
    "        print(tabulate([['Fat 1 Intensity', FatSegI_1,'pixels'],['Fat 2 Intensity', FatSegI_2,'mm^2'],['Fat Correction Factor', cfactor],[],],\n",
    "                headers=['Data', 'Value','Units']))\n",
    "        print (f\"\\n\")\n",
    "        \n",
    "    \n",
    "    #FINAL FAT using Threshold 2 ----------------------------------------------------\n",
    "        muscleroi3=roivol[i]-fat3[i]\n",
    "        #FAT AREA\n",
    "        FatAreaPix3=np.sum(fat3[i]>0)\n",
    "        FatAreaMM3=FatAreaPix3*im_spacing[0]*im_spacing[1]\n",
    "        #MUSCLE AREA\n",
    "        MuscAreaPix3=np.sum(muscleroi3>0)\n",
    "        MuscAreaMM3=MuscAreaPix3*im_spacing[0]*im_spacing[1]\n",
    "        #FAT PERCENTAGE\n",
    "        FatPerc3=FatAreaPix3*100/MuscFatAreaPix\n",
    "        #VOLUME OF EACH SLICE\n",
    "        FatVolMM3=FatAreaMM3*im_spacing[2] #this is same as FatVolCombined NOT corrected- use this as a check\n",
    "        MuscVolMM3=MuscAreaMM3*im_spacing[2]\n",
    "        \n",
    "        \n",
    "        print(f\"\\nSlice {i+1} Threshold #2 INCLUDING fat 1 \\n\")\n",
    "        print(tabulate([['Musc Area 3',\"%.1f\" % MuscAreaPix3,'pixels'],['Musc Area 3',\"%.1f\" % MuscAreaMM3,'mm^2'],['Musc Vol 3', \"%.1f\" % MuscVolMM3,'mm^3'],[],\n",
    "                ['Fat Area 3', \"%.1f\" % FatAreaPix3,'pixels'],['Fat Area 3 ', \"%.1f\" % FatAreaMM3,'mm^2'],\n",
    "                ['Fat Perc 3', \"%.1f\" % FatPerc3,'%'],['Fat Vol 3', \"%.1f\" % FatVolMM3,'mm^3'],[],\n",
    "                ['Fat Volume Combined Not Corrected', \"%.1f\" % FatVolCombined,'MM^3'],['Fat Volume Combined Corrected', \"%.1f\" % FatVolCombined_C,'MM^3']],\n",
    "                headers=['Data', 'Value','Units']))\n",
    "    \n",
    "        \n",
    "        print (\"------------------------------------------------------------\")\n",
    "    \n",
    "    \n",
    "# calc(fatseg1vol_R1,fatseg2_refinedvol,fatsegfinalvol_R1)\n",
    "calc(fatseg1vol_R2_ken,fatseg2_refinedvol_R3_ken,final_fat_ken)\n",
    "\n"
   ]
  },
  {
   "cell_type": "markdown",
   "metadata": {
    "colab_type": "text",
    "id": "sk2-_6NTADjG"
   },
   "source": []
  },
  {
   "cell_type": "code",
   "execution_count": null,
   "metadata": {
    "colab": {
     "base_uri": "https://localhost:8080/",
     "height": 119
    },
    "colab_type": "code",
    "id": "Fpi33UjUV6n6",
    "outputId": "cd82ee1a-f085-4c45-afb8-723e36514305"
   },
   "outputs": [],
   "source": [
    "#Checking for one slice \n",
    "def fat_correction(i):\n",
    "    im_spacing = image.GetSpacing() \n",
    "    fat1masked=np.ma.masked_where(fatseg1vol_R1[i]==0,fatseg1vol_R1[i])\n",
    "    fat2masked=np.ma.masked_where(fatseg2_refinedvol[i]==0,fatseg2_refinedvol[i])\n",
    "    FatSegI_1=np.mean(fat1masked) \n",
    "    FatSegI_2=np.mean(fat2masked)\n",
    "    cfactor=(FatSegI_2/FatSegI_1)\n",
    "\n",
    "    #FAT AREA\n",
    "    FatAreaPix1=np.sum(fatseg1vol_R1[i]>0)\n",
    "    FatAreaMM1=FatAreaPix1*im_spacing[0]*im_spacing[1]\n",
    "    FatVolMM1=FatAreaMM1*im_spacing[2]\n",
    "    \n",
    "    FatAreaPix2=np.sum(fatseg2_refinedvol[i]>0)\n",
    "    FatAreaMM2=FatAreaPix2*im_spacing[0]*im_spacing[1]\n",
    "    FatVolMM2=FatAreaMM2*im_spacing[2]\n",
    "    FatVolMM2_C=FatAreaMM2*im_spacing[2]*cfactor\n",
    "    \n",
    "    FatAreaPix3=np.sum(fatsegfinalvol_R1[i]>0)\n",
    "    FatAreaMM3=FatAreaPix3*im_spacing[0]*im_spacing[1]\n",
    "\n",
    "    #VOLUME OF EACH SLICE\n",
    "    FatVolMM3=FatAreaMM3*im_spacing[2] #this is same as FatVolCombined NOT corrected\n",
    "    FatVolMM12_notC=FatVolMM1+FatVolMM2 \n",
    "    FatVolMM3_C=FatVolMM1+FatVolMM2_C #should be same as FatVolMM12_notC\n",
    "\n",
    "    print (f\"Fat 1 intensity = {np.mean(fat1masked)}\\nFat 2 intensity={np.mean(fat2masked)}\\nFat Correction Factor={cfactor}\\nFat3 volume NOT corrected={FatVolMM3}\\nFat1+2 NOT corrected={FatVolMM12_notC}\\nFat corrected={FatVolMM3_C}\")\n",
    "\n",
    "fat_correction(7)"
   ]
  },
  {
   "cell_type": "markdown",
   "metadata": {
    "colab_type": "text",
    "id": "m7TWTnDZljK0"
   },
   "source": [
    "### Summary tables + Graphs"
   ]
  },
  {
   "cell_type": "markdown",
   "metadata": {
    "colab_type": "text",
    "id": "unnetHIdSTyl"
   },
   "source": [
    "# EXPERIMENTATION"
   ]
  },
  {
   "cell_type": "markdown",
   "metadata": {
    "colab_type": "text",
    "id": "38F635xshw2W"
   },
   "source": [
    "#For Siwen\n",
    "\n"
   ]
  },
  {
   "cell_type": "code",
   "execution_count": null,
   "metadata": {
    "colab": {
     "base_uri": "https://localhost:8080/",
     "height": 353
    },
    "colab_type": "code",
    "id": "qt4ySqMih24j",
    "outputId": "11d02def-5d01-4265-fb4d-e8e04eb7ee9e"
   },
   "outputs": [],
   "source": [
    "zcheck1vol=np.zeros([Ivol8c_roi.shape[0], Ivol8c_roi.shape[1], Ivol8c_roi.shape[2]], dtype='uint8')\n",
    "zcheck_Th2R1=np.zeros([Ivol8c_roi.shape[0], Ivol8c_roi.shape[1], Ivol8c_roi.shape[2]], dtype='uint8')\n",
    "\n",
    "\n",
    "\n",
    "overlay1=[]\n",
    "overlay2=[]\n",
    "\n",
    "for i in range(j):\n",
    "    overlay1.append([])\n",
    "    overlay2.append([])\n",
    "    \n",
    "    zcheck1vol[i]=(roivol[i]>thresholds[i]).astype(int)\n",
    "    zcheck_Th2R1[i]=(roivol[i]>thresholds2[i]).astype(int)\n",
    "      \n",
    "    overlay1[i]= np.ma.masked_where(zcheck1vol[i] == 0, zcheck1vol[i])\n",
    "    overlay2[i]= np.ma.masked_where(zcheck_Th2R1[i] == 0, zcheck_Th2R1[i])  \n",
    "    \n",
    "num=7\n",
    "\n",
    "fig, axs = plt.subplots(1, 2, figsize=(12, 6))\n",
    "axs[0].imshow(roivol[num], cmap='bone')\n",
    "axs[1].imshow(roivol[num], cmap='bone')\n",
    "axs[1].imshow(overlay2[num], cmap=\"bwr\", vmin=0, vmax=1)\n",
    "axs[1].imshow(overlay1[num], cmap=\"autumn\", vmin=0, vmax=1) "
   ]
  },
  {
   "cell_type": "code",
   "execution_count": null,
   "metadata": {
    "colab": {
     "base_uri": "https://localhost:8080/",
     "height": 230
    },
    "colab_type": "code",
    "id": "leG9LPSLiA4Q",
    "outputId": "bb37b40c-a7c1-4cfc-fea8-7d8838cda0f9"
   },
   "outputs": [],
   "source": [
    "#Test for Slice 8  - one threshold \n",
    "\n",
    "#1. Get Z connections\n",
    "fatsegotsvol=prefatmask=fatmask_R2=fatseg=preMuscSegM=fatcombined=np.zeros([Ivol8c_roi.shape[0], Ivol8c_roi.shape[1], Ivol8c_roi.shape[2]], dtype='uint8')\n",
    "prefatmask[7]= label(roivol[7]>thresholds[7]).astype(bool)\n",
    "fatmask_R2[7] = cv2.normalize(src=prefatmask[7], dst=None, alpha=0.0, beta=1.0, norm_type=cv2.NORM_MINMAX, dtype=cv2.CV_8U) \n",
    "\n",
    "fatcombined_prev=zcheck_Th2R1[6]+fatmask_R2[7]\n",
    "fatcombined_next=fatmask_R2[7]+zcheck_Th2R1[8]\n",
    "ret, fatconnectedparts_prev= cv2.threshold(fatcombined_prev,1,1,cv2.THRESH_BINARY)\n",
    "ret, fatconnectedparts_next= cv2.threshold(fatcombined_next,1,1,cv2.THRESH_BINARY)\n",
    "fatconnected_either=fatconnectedparts_prev+fatconnectedparts_next\n",
    "ret, fatconnectedparts_either= cv2.threshold(fatconnected_either,0,1,cv2.THRESH_BINARY)\n",
    "\n",
    "\n",
    "fig, axs=plt.subplots (1,6,figsize=(20,20))\n",
    "axs[0].imshow(zcheck_Th2R1[6])\n",
    "axs[0].set_title(f\"slice 7 raw threshold #2\", fontsize=12)\n",
    "axs[1].imshow(fatmask_R2[7],cmap=\"bone\")\n",
    "axs[1].set_title(\"slice 8 raw threshold #1\", fontsize=12) \n",
    "axs[2].imshow(zcheck_Th2R1[8])\n",
    "axs[2].set_title(\"slice 9 raw threshold #2\", fontsize=12) \n",
    "axs[3].imshow(fatconnectedparts_prev)\n",
    "axs[3].set_title(\"z-connection-prev #1\", fontsize=12) \n",
    "axs[4].imshow(fatconnectedparts_next)\n",
    "axs[4].set_title(\"z-connection-next #1\", fontsize=12) \n",
    "axs[5].imshow(fatconnectedparts_either)\n",
    "axs[5].set_title(\"combine next and prev\", fontsize=12) \n"
   ]
  },
  {
   "cell_type": "code",
   "execution_count": null,
   "metadata": {
    "colab": {
     "base_uri": "https://localhost:8080/",
     "height": 286
    },
    "colab_type": "code",
    "id": "KRmrX8rpiG75",
    "outputId": "eccf5d8a-10a4-4787-dd7b-8acf51c457c8"
   },
   "outputs": [],
   "source": [
    "t=fatmask_R2[7]*roivol[7]\n",
    "\n",
    "t2=roivol[7]-t\n",
    "plt.imshow(t2, cmap='bone', vmax=255)"
   ]
  },
  {
   "cell_type": "code",
   "execution_count": null,
   "metadata": {
    "colab": {},
    "colab_type": "code",
    "id": "_sn1ZJa1iHh3"
   },
   "outputs": [],
   "source": [
    "#2. Put Z-connection coordinates into list \n",
    "coordinates= np.argwhere(fatconnectedparts_either ==1)"
   ]
  },
  {
   "cell_type": "code",
   "execution_count": null,
   "metadata": {
    "colab": {
     "base_uri": "https://localhost:8080/",
     "height": 1000
    },
    "colab_type": "code",
    "id": "hm_EhsbviJX7",
    "outputId": "7ee818f8-fe97-4661-a6b6-0a15ab10dcf5"
   },
   "outputs": [],
   "source": [
    "#this is separate from the above.\n",
    "#need to establish teh Z-connection for every iteration, instead of just pulling from the thresholds[i]\n",
    "\n",
    "def optimize_threshold1_R2(i):\n",
    "    otsuth2_R2, fatsegots_R2 = cv2.threshold(roivol[i],0,255,cv2.THRESH_BINARY+cv2.THRESH_OTSU) \n",
    "    print (\"Otsu Threshold =\",otsuth2_R2)\n",
    "    fatth_R2 = 70 #Change this to a variable \"scientific\" initiatior with otsu\n",
    "    k=1\n",
    "    ThPrev_R2=0 \n",
    "    ThRev_R2=fatth_R2 \n",
    "\n",
    "    while ThRev_R2!=ThPrev_R2:\n",
    "\n",
    "        ThPrev_R2=ThRev_R2\n",
    "        \n",
    "        prefatmask_R2 = label(roivol[i]>ThRev_R2).astype(bool).astype(int)\n",
    "        prefatmask_R2 = cv2.normalize(src=prefatmask_R2, dst=None, alpha=0.0, beta=255.0, norm_type=cv2.NORM_MINMAX, dtype=cv2.CV_8U)\n",
    "        ret, fatmask_R2 = cv2.threshold(prefatmask_R2,0,1,cv2.THRESH_BINARY) \n",
    "\n",
    "        #NEW: find Z-connection\n",
    "        fatcombined_prev=zcheck_Th2R1[i-1]+fatmask_R2\n",
    "        fatcombined_next=fatmask_R2+zcheck_Th2R1[i+1]\n",
    "        ret, fatconnectedparts_prev= cv2.threshold(fatcombined_prev,1,1,cv2.THRESH_BINARY)\n",
    "        ret, fatconnectedparts_next= cv2.threshold(fatcombined_next,1,1,cv2.THRESH_BINARY)\n",
    "        \n",
    "        z_connection=fatconnectedparts_prev+fatconnectedparts_next\n",
    "        ret, z_connection= cv2.threshold(z_connection,0,1,cv2.THRESH_BINARY)\n",
    "\n",
    "        #NEW: find XY connections to Z connected parts\n",
    "        coordinates= np.argwhere(z_connection ==1) #put coordinates of Z-connections into a list      \n",
    "        im_ff=fatmask_R2.copy()\n",
    "        mask = np.zeros((h+2, w+2), np.uint8)\n",
    "        for item in range(len(coordinates)):\n",
    "            cv2.floodFill(im_ff, mask, (coordinates[item][1],coordinates[item][0]), 2)\n",
    "        \n",
    "        #Remove small islands for Non-Z parts\n",
    "        nonZ =(im_ff==1)\n",
    "        Z = (im_ff==2)\n",
    "        nonZ_keep = (morphology.remove_small_objects(nonZ,min_size=8, connectivity=1))\n",
    "        prefatseg1_R2=Z+nonZ_keep #added int cus was boolean\n",
    "        fatseg1_R2=prefatseg1_R2*Ivol8c_roi[i] #don't need to make a mask first \n",
    " \n",
    "        #Fat and Muscle Quantification\n",
    "        preMuscSegM_R2=roivol[i]-fatseg1_R2\n",
    "        MuscSegM_R2=np.ma.masked_where(preMuscSegM_R2 == 0, preMuscSegM_R2)\n",
    "        FatSegM_R2=np.ma.masked_where(fatseg1_R2==0,fatseg1_R2) \n",
    "        MuscSegI_R2=np.mean(MuscSegM_R2)\n",
    "        FatSegI_R2=np.mean(FatSegM_R2)\n",
    "\n",
    "        ThRev_R2=(1+((FatSegI_R2-MuscSegI_R2)/FatSegI_R2))*MuscSegI_R2 \n",
    "        \n",
    "        def check(im,to_overlay,x):\n",
    "            overlay = np.ma.masked_where(to_overlay == 0, roi)\n",
    "            axs[x].imshow(im, cmap=\"bone\")\n",
    "            axs[x].imshow(overlay, cmap=\"hsv\", vmin=0, vmax=1)\n",
    "\n",
    "        print (f\"Iteration={k}\\n\\tThPrev={ThPrev_R2}\\n\\tThRev={ThRev_R2}\")\n",
    "\n",
    "        fig, axs = plt.subplots (1,7, figsize=(27,20))  \n",
    "        axs[0].imshow(zcheck_Th2R1[i], cmap='bone') \n",
    "        axs[0].set_title(f\"Slice {i} R1\")     \n",
    "        axs[1].imshow(fatmask_R2,cmap=\"bone\")\n",
    "        axs[1].set_title(f\"Slice {i+1} raw threshold\")\n",
    "        axs[2].imshow(zcheck_Th2R1[i+1],cmap=\"bone\")\n",
    "        axs[2].set_title(f\"Slice {i+2} R1\")\n",
    "        axs[3].imshow(z_connection,cmap=\"bone\")\n",
    "        axs[3].set_title(f\"Slice{i},{i+1},{i+2} Z-connections\")\n",
    "        check(fatmask_R2, z_connection,4)\n",
    "        axs[4].set_title(f\"connected_on_soi\")\n",
    "        axs[5].imshow(im_ff)\n",
    "        axs[5].set_title(f\"Slice {i+1} SOI FF\")\n",
    "        axs[6].imshow(prefatseg1_R2)\n",
    "        axs[6].set_title(f\"Slice {i+1} R2 Final Mask\")\n",
    "\n",
    "        k+=1\n",
    "        if k==50:\n",
    "            break\n",
    "    \n",
    "    thresholds_R2=ThRev_R2\n",
    "    return fatseg1_R2,prefatseg1_R2, thresholds_R2\n",
    "\n",
    "fatseg1_R2,prefatseg1_R2, th_R2=optimize_threshold1_R2(7)"
   ]
  },
  {
   "cell_type": "code",
   "execution_count": null,
   "metadata": {
    "colab": {
     "base_uri": "https://localhost:8080/",
     "height": 353
    },
    "colab_type": "code",
    "id": "83dwvpN8iOWb",
    "outputId": "7f9995f0-be2c-499d-bcbb-d2f97a7238ab"
   },
   "outputs": [],
   "source": [
    "fig, ax = plt.subplots(1, 2, figsize = (12, 12))\n",
    "ax[0].imshow(roivol[7], cmap='bone')\n",
    "ax[1].imshow(t, cmap='bone')"
   ]
  },
  {
   "cell_type": "code",
   "execution_count": null,
   "metadata": {
    "colab": {
     "base_uri": "https://localhost:8080/",
     "height": 286
    },
    "colab_type": "code",
    "id": "X4kF-sXOiQjS",
    "outputId": "f0cf6509-22a2-41d6-9c2e-01820e614d0a"
   },
   "outputs": [],
   "source": [
    "t=fatmask_R2[7]*roivol[7]\n",
    "plt.imshow(t, cmap='bone')"
   ]
  },
  {
   "cell_type": "code",
   "execution_count": null,
   "metadata": {
    "colab": {
     "base_uri": "https://localhost:8080/",
     "height": 366
    },
    "colab_type": "code",
    "id": "IlPS6DhRiTff",
    "outputId": "1cfd15f8-0157-4a07-a2e5-e3598f3a43e0"
   },
   "outputs": [],
   "source": [
    "fig, ax= plt.subplots(1, 2, figsize=(12, 6))\n",
    "ax[0].imshow(fatseg1vol_R1[7],cmap='bone')\n",
    "ax[0].set_title(f\"Slice 8; no 3D; Th= {thresholds[7]} \")\n",
    "ax[1].imshow(fatseg1_R2, cmap='bone')\n",
    "ax[1].set_title(f\"Slice 8; 3D connected; Th= {th_R2} \")\n"
   ]
  },
  {
   "cell_type": "code",
   "execution_count": null,
   "metadata": {
    "colab": {},
    "colab_type": "code",
    "id": "ll72_NHkiXjB"
   },
   "outputs": [],
   "source": [
    "def optimize_threshold1_R2_vol(i, roi, zcheck):\n",
    "    \n",
    "    pixels=[]\n",
    "\n",
    "    for a in range(len(roi[i])):\n",
    "        for b in range(len(roi[i][a])):\n",
    "            if roi[i][a,b]!=0:          \n",
    "                pixels.append(roi[i][a,b])\n",
    "\n",
    "    pixels=np.array(pixels)\n",
    "    pixels=np.uint8(pixels)\n",
    "\n",
    "    otsuth2, fatots = cv2.threshold(pixels,0,1,cv2.THRESH_BINARY+cv2.THRESH_OTSU)\n",
    "\n",
    "    \n",
    "     \n",
    "    print (\"Otsu Threshold =\",otsuth2)\n",
    "    fatth_R2 = otsuth2\n",
    "\n",
    "    k=1\n",
    "    ThPrev_R2=0 \n",
    "    ThRev_R2=fatth_R2 \n",
    "    x=0\n",
    "    y=0\n",
    "    while ThRev_R2!=ThPrev_R2:\n",
    "\n",
    "        ThPrev_R2=ThRev_R2\n",
    "        \n",
    "        prefatmask_R2 = label(roi[i]>ThRev_R2).astype(bool).astype(int)\n",
    "        prefatmask_R2 = cv2.normalize(src=prefatmask_R2, dst=None, alpha=0.0, beta=255.0, norm_type=cv2.NORM_MINMAX, dtype=cv2.CV_8U)\n",
    "        ret, fatmask_R2 = cv2.threshold(prefatmask_R2,0,1,cv2.THRESH_BINARY) \n",
    "\n",
    "        \n",
    "        if i==0:\n",
    "            fatcombined_next=zcheck[i+1]+fatmask_R2\n",
    "            ret, fatconnectedparts_next= cv2.threshold(fatcombined_next,1,1,cv2.THRESH_BINARY)\n",
    "            z_connection=fatconnectedparts_next\n",
    "   \n",
    "        elif i==(j-1):\n",
    "            fatcombined_prev=zcheck[i-1]+fatmask_R2\n",
    "            ret, fatconnectedparts_prev= cv2.threshold(fatcombined_prev,1,1,cv2.THRESH_BINARY)\n",
    "            z_connection=fatconnectedparts_prev\n",
    "   \n",
    "        else:\n",
    "            fatcombined_prev=zcheck_Th2R1[i-1]+fatmask_R2\n",
    "            fatcombined_next=fatmask_R2+zcheck_Th2R1[i+1]\n",
    "            ret, fatconnectedparts_prev= cv2.threshold(fatcombined_prev,1,1,cv2.THRESH_BINARY)\n",
    "            ret, fatconnectedparts_next= cv2.threshold(fatcombined_next,1,1,cv2.THRESH_BINARY)\n",
    "\n",
    "            z_connection=fatconnectedparts_prev+fatconnectedparts_next\n",
    "            ret, z_connection= cv2.threshold(z_connection,0,1,cv2.THRESH_BINARY) \n",
    "        \n",
    "        #NEW: find XY connections to Z connected parts\n",
    "        coordinates= np.argwhere(z_connection ==1) #put coordinates of Z-connections into a list      \n",
    "        im_ff=fatmask_R2.copy()\n",
    "        mask = np.zeros((h+2, w+2), np.uint8)\n",
    "        for item in range(len(coordinates)):\n",
    "            cv2.floodFill(im_ff, mask, (coordinates[item][1],coordinates[item][0]), 2)\n",
    "        \n",
    "        #Remove small islands for Non-Z parts\n",
    "        nonZ =(im_ff==1)\n",
    "        Z = (im_ff==2)\n",
    "        nonZ_keep = (morphology.remove_small_objects(nonZ,min_size=8, connectivity=1))\n",
    "        prefatseg1_R2=Z+nonZ_keep #added int cus was boolean\n",
    "        fatseg1_R2=prefatseg1_R2*Ivol8c_roi[i] #don't need to make a mask first \n",
    " \n",
    "        #Fat and Muscle Quantification\n",
    "        preMuscSegM_R2=roivol[i]-fatseg1_R2\n",
    "        MuscSegM_R2=np.ma.masked_where(preMuscSegM_R2 == 0, preMuscSegM_R2)\n",
    "        FatSegM_R2=np.ma.masked_where(fatseg1_R2==0,fatseg1_R2) \n",
    "        MuscSegI_R2=np.mean(MuscSegM_R2)\n",
    "        FatSegI_R2=np.mean(FatSegM_R2)\n",
    "\n",
    "        ThRev_R2=(1+((FatSegI_R2-MuscSegI_R2)/FatSegI_R2))*MuscSegI_R2 \n",
    "\n",
    "        print (f\"Iteration={k}\\n\\tThPrev={ThPrev_R2}\\n\\tThRev={ThRev_R2}\")\n",
    "\n",
    "        k+=1\n",
    "        if k==50:\n",
    "            break\n",
    "            \n",
    "    fig, axs = plt.subplots (1,5, figsize=(27,20))  \n",
    "   \n",
    "    if i>0:  \n",
    "        axs[0].imshow(zcheck_Th2R1[i-1],cmap=\"bone\")\n",
    "    else:\n",
    "        axs[0].imshow(np.zeros([Ivol8c_roi.shape[1], Ivol8c_roi.shape[2]]),cmap=\"bone\")\n",
    "        \n",
    "    axs[0].set_title(f\"Slice {i} R1\")     \n",
    "    axs[1].imshow(fatmask_R2,cmap=\"bone\")\n",
    "    axs[1].set_title(f\"Slice {i+1} raw threshold\")\n",
    "    \n",
    "    if i<(j-1):  \n",
    "        axs[2].imshow(zcheck_Th2R1[i+1],cmap=\"bone\")\n",
    "    else:\n",
    "        axs[2].imshow(np.zeros([Ivol8c_roi.shape[1], Ivol8c_roi.shape[2]]),cmap=\"bone\")\n",
    "                      \n",
    "    axs[2].set_title(f\"Slice {i+2} R1\")\n",
    "    axs[3].imshow(im_ff)\n",
    "    axs[3].set_title(f\"Slice {i+1} SOI FF\")\n",
    "    axs[4].imshow(prefatseg1_R2)\n",
    "    axs[4].set_title(f\"Slice {i+1} R2 Final Mask\")\n",
    "    thresholds_R2=ThRev_R2\n",
    "    return fatseg1_R2,prefatseg1_R2, thresholds_R2"
   ]
  },
  {
   "cell_type": "code",
   "execution_count": null,
   "metadata": {
    "colab": {
     "base_uri": "https://localhost:8080/",
     "height": 1000
    },
    "colab_type": "code",
    "id": "TuwTQd8OibsK",
    "outputId": "3d70d964-242c-406e-f3da-e29dcb38f1b4"
   },
   "outputs": [],
   "source": [
    "fatseg1vol_R2=np.zeros([Ivol8c_roi.shape[0], Ivol8c_roi.shape[1], Ivol8c_roi.shape[2]], dtype='uint8')\n",
    "fatseg1vol_mask_R2=np.zeros([Ivol8c_roi.shape[0], Ivol8c_roi.shape[1], Ivol8c_roi.shape[2]], dtype='uint8')\n",
    "\n",
    "thresholds_R2=[]\n",
    "for i in range(j):\n",
    "    thresholds_R2.append([])\n",
    "    fatseg1vol_R2[i],fatseg1vol_mask_R2[i], thresholds_R2[i]=optimize_threshold1_R2_vol(i, roivol, zcheck_Th2R1)"
   ]
  },
  {
   "cell_type": "code",
   "execution_count": null,
   "metadata": {
    "colab": {
     "base_uri": "https://localhost:8080/",
     "height": 1000
    },
    "colab_type": "code",
    "id": "no-AQzLtieUU",
    "outputId": "6c366025-5b06-4c31-dc67-5ba605511df5"
   },
   "outputs": [],
   "source": [
    "roi2vol_R2=fatseg2vol_R2=fatseg2vol_mask_R2=np.empty([Ivol8c_roi.shape[0], Ivol8c_roi.shape[1], Ivol8c_roi.shape[2]], dtype='uint8')\n",
    "zcheck3vol=np.empty([Ivol8c_roi.shape[0], Ivol8c_roi.shape[1], Ivol8c_roi.shape[2]], dtype='uint8')\n",
    "zcheck4vol=np.empty([Ivol8c_roi.shape[0], Ivol8c_roi.shape[1], Ivol8c_roi.shape[2]], dtype='uint8')\n",
    "\n",
    "roi2vol_R2=roivol-fatseg1vol_R2\n",
    "\n",
    "for i in range(j):  \n",
    "    zcheck3vol[i]=(roi2vol_R2[i]>thresholds[i]).astype(int)\n",
    "    zcheck4vol[i]=(roi2vol_R2[i]>thresholds2[i]).astype(int)\n",
    "    \n",
    "thresholds2_R2=[]\n",
    "for i in range(j):\n",
    "    thresholds2_R2.append([])\n",
    "    fatseg2vol_R2[i],fatseg2vol_mask_R2[i], thresholds2_R2[i]=optimize_threshold1_R2_vol(i, roi2vol_R2, zcheck_Th2R1)"
   ]
  },
  {
   "cell_type": "code",
   "execution_count": null,
   "metadata": {
    "colab": {},
    "colab_type": "code",
    "id": "4p5XzGZyigXG"
   },
   "outputs": [],
   "source": [
    "thresholds2_R2\n",
    "\n",
    "\n",
    "#1. Get Z connections\n",
    "fatsegotsvol=prefatmask=fatmask_R3=fatseg=preMuscSegM=fatcombined=np.zeros([Ivol8c_roi.shape[0], Ivol8c_roi.shape[1], Ivol8c_roi.shape[2]], dtype='uint8')\n",
    "\n",
    "zcheck5vol=np.zeros([Ivol8c_roi.shape[0], Ivol8c_roi.shape[1], Ivol8c_roi.shape[2]], dtype='uint8')\n",
    "zcheck6vol=np.zeros([Ivol8c_roi.shape[0], Ivol8c_roi.shape[1], Ivol8c_roi.shape[2]], dtype='uint8')\n",
    "\n",
    "\n",
    "for i in range(j):\n",
    "    zcheck6vol[i] = (roivol[i]>thresholds2_R2[i]).astype(int)\n",
    "    \n",
    "def R3_Zcheck(i):\n",
    "     \n",
    "    prefatmask[i] = label(roivol[i]>thresholds2_R2[i]).astype(bool)\n",
    "    fatmask_R3[i] = cv2.normalize(src=prefatmask[i], dst=None, alpha=0.0, beta=1.0, norm_type=cv2.NORM_MINMAX, dtype=cv2.CV_8U) \n",
    "\n",
    "    \n",
    "    if i==0:\n",
    "        \n",
    "        fatcombined_next=zcheck6vol[i+1]+fatmask_R3[i]\n",
    "        ret, fatconnectedparts_next= cv2.threshold(fatcombined_next,1,1,cv2.THRESH_BINARY)\n",
    "        z_connection=fatconnectedparts_next      \n",
    "        \n",
    "    elif i==(j-1):\n",
    "        \n",
    "        fatcombined_prev=zcheck6vol[i-1]+fatmask_R3[i]  \n",
    "        ret, fatconnectedparts_prev= cv2.threshold(fatcombined_prev,1,1,cv2.THRESH_BINARY)\n",
    "        z_connection=fatconnectedparts_prev    \n",
    "        \n",
    "    else:\n",
    "    \n",
    "        fatcombined_prev=zcheck6vol[i-1]+fatmask_R3[i]\n",
    "        fatcombined_next=zcheck6vol[i+1]+fatmask_R3[i] \n",
    "        \n",
    "        ret, fatconnectedparts_prev= cv2.threshold(fatcombined_prev,1,1,cv2.THRESH_BINARY)\n",
    "        ret, fatconnectedparts_next= cv2.threshold(fatcombined_next,1,1,cv2.THRESH_BINARY)\n",
    "\n",
    "        z_connection=fatconnectedparts_prev+fatconnectedparts_next\n",
    "        ret, z_connection= cv2.threshold(z_connection,0,1,cv2.THRESH_BINARY)      \n",
    "\n",
    "     \n",
    "    fig, axs=plt.subplots (1,4,figsize=(20,20))\n",
    "    if i>0:  \n",
    "        axs[0].imshow(zcheck6vol[i-1],cmap=\"bone\")\n",
    "    else:\n",
    "        axs[0].imshow(np.zeros([Ivol8c_roi.shape[1], Ivol8c_roi.shape[2]]),cmap=\"bone\")\n",
    "        \n",
    "    axs[0].set_title(f\"Slice {i} raw threshold\", fontsize=12)\n",
    "    axs[1].imshow(fatmask_R3[i],cmap=\"bone\")\n",
    "    axs[1].set_title(f\"Slice {i+1} raw threshold\", fontsize=12) \n",
    "    \n",
    "    if i<(j-1):  \n",
    "        axs[2].imshow(zcheck6vol[i+1],cmap=\"bone\")\n",
    "    else:\n",
    "        axs[2].imshow(np.zeros([Ivol8c_roi.shape[1], Ivol8c_roi.shape[2]]),cmap=\"bone\")\n",
    "        \n",
    "    axs[2].set_title(f\"Slice {i+2} raw threshold\", fontsize=12) \n",
    "    axs[3].imshow(z_connection)\n",
    "    axs[3].set_title(\"z connection\", fontsize=12) \n",
    "    \n",
    "    return z_connection\n",
    "\n"
   ]
  },
  {
   "cell_type": "code",
   "execution_count": null,
   "metadata": {
    "colab": {
     "base_uri": "https://localhost:8080/",
     "height": 1000
    },
    "colab_type": "code",
    "id": "0KMMiKMhiisn",
    "outputId": "b28a5e47-5c2f-496a-9bf2-95d14c7598f0"
   },
   "outputs": [],
   "source": [
    "z_connection_list=[]\n",
    "\n",
    "for i in range(j):\n",
    "    z_connection_list.append([])\n",
    "    z_connection_list[i]=R3_Zcheck(i)"
   ]
  },
  {
   "cell_type": "code",
   "execution_count": null,
   "metadata": {
    "colab": {
     "base_uri": "https://localhost:8080/",
     "height": 1000
    },
    "colab_type": "code",
    "id": "6g4S9DPuijrN",
    "outputId": "5ef3726e-d01a-484f-f62f-6c4333b043f5"
   },
   "outputs": [],
   "source": [
    "#make list of z conenctions, then floodfill at those coordinates\n",
    "\n",
    "z_connection_final=[]\n",
    "im_ff_R3=np.zeros([Ivol8c_roi.shape[0], Ivol8c_roi.shape[1], Ivol8c_roi.shape[2]], dtype='uint8')\n",
    "\n",
    "for i in range(j):\n",
    "    z_connection_final.append([])\n",
    "    z_connection_final[i] = np.argwhere(z_connection_list[i] ==1) #put coordinates of Z-connections into a list \n",
    "    \n",
    "    im_ff_R3[i]=fatmask_R3[i].copy()\n",
    "    mask = np.zeros((h+2, w+2), np.uint8)\n",
    "    \n",
    "    for item in range(len(z_connection_final[i])):\n",
    "        cv2.floodFill(im_ff_R3[i], mask, (z_connection_final[i][item][1],z_connection_final[i][item][0]), 2)\n",
    "\n",
    "def check_z(i):\n",
    "    fig, ax = plt.subplots(1, 2, figsize = (7, 7))\n",
    "    ax[0].imshow(roivol[i], cmap='bone')\n",
    "    ax[1].imshow(im_ff_R3[i])\n",
    "\n",
    "for i in range(j):\n",
    "    check_z(i)"
   ]
  },
  {
   "cell_type": "code",
   "execution_count": null,
   "metadata": {
    "colab": {
     "base_uri": "https://localhost:8080/",
     "height": 320
    },
    "colab_type": "code",
    "id": "g4Dd1vMfil5A",
    "outputId": "99b44ace-fcc4-4954-fbfa-34461dfe175f"
   },
   "outputs": [],
   "source": [
    "#Remove small islands for Non-Z parts\n",
    "\n",
    "nonZ_R3= np.zeros([Ivol8c_roi.shape[0], Ivol8c_roi.shape[1], Ivol8c_roi.shape[2]], dtype='uint8')\n",
    "Z_R3 = np.zeros([Ivol8c_roi.shape[0], Ivol8c_roi.shape[1], Ivol8c_roi.shape[2]], dtype='uint8')\n",
    "nonZ_keep_R3 =np.zeros([Ivol8c_roi.shape[0], Ivol8c_roi.shape[1], Ivol8c_roi.shape[2]], dtype='uint8')\n",
    "final_fat_mask=np.zeros([Ivol8c_roi.shape[0], Ivol8c_roi.shape[1], Ivol8c_roi.shape[2]], dtype='uint8')\n",
    "final_fat=np.zeros([Ivol8c_roi.shape[0], Ivol8c_roi.shape[1], Ivol8c_roi.shape[2]], dtype='uint8')\n",
    "\n",
    "for i in range(j):\n",
    "    nonZ_R3[i] =(im_ff_R3[i]==1)\n",
    "    Z_R3[i] = (im_ff_R3[i]==2)\n",
    "    nonZ_keep_R3[i] = (morphology.remove_small_objects(nonZ_R3[i],min_size=8, connectivity=1)).astype(int)\n",
    "    final_fat_mask[i]=Z_R3[i]+nonZ_keep_R3[i] #added int cus was boolean\n",
    "    final_fat[i]=final_fat_mask[i]*roivol[i] #don't need to make a mask first \n",
    "\n",
    "plt.imshow(final_fat[7], cmap='bone')"
   ]
  },
  {
   "cell_type": "code",
   "execution_count": null,
   "metadata": {
    "colab": {
     "base_uri": "https://localhost:8080/",
     "height": 286
    },
    "colab_type": "code",
    "id": "M-lzR5Tuip5Z",
    "outputId": "14c9a041-2f81-43d8-f1a9-5a3383cda375"
   },
   "outputs": [],
   "source": [
    "#divide final_fat into th1 and th2 components\n",
    "fat_th1_mask=np.zeros([Ivol8c_roi.shape[0], Ivol8c_roi.shape[1], Ivol8c_roi.shape[2]], dtype='uint8')\n",
    "prefat_th2_mask=np.zeros([Ivol8c_roi.shape[0], Ivol8c_roi.shape[1], Ivol8c_roi.shape[2]], dtype='uint8')\n",
    "fat_th2_mask=np.zeros([Ivol8c_roi.shape[0], Ivol8c_roi.shape[1], Ivol8c_roi.shape[2]], dtype='uint8')\n",
    "\n",
    "for i in range(j):\n",
    "    fat_th1_mask[i]=final_fat[i]>thresholds_R2[i]\n",
    "    \n",
    "    prefat_th2_mask[i]=final_fat[i]>thresholds2_R2[i]\n",
    "    fat_th2_mask[i]=prefat_th2_mask[i]!=fat_th1_mask[i]\n",
    "    \n",
    "plt.imshow(prefat_th2_mask[7])"
   ]
  },
  {
   "cell_type": "code",
   "execution_count": null,
   "metadata": {
    "colab": {
     "base_uri": "https://localhost:8080/",
     "height": 286
    },
    "colab_type": "code",
    "id": "qmyRFRHXiwng",
    "outputId": "1ecf1bc4-1967-4df2-b026-f0ec6ce6983e"
   },
   "outputs": [],
   "source": [
    "fat_th1=fat_th1_mask*roivol\n",
    "fat_th2=fat_th2_mask*roivol\n",
    "fat_th=fat_th1+fat_th2\n",
    "\n",
    "plt.imshow(fat_th[7], cmap='bone', vmax=255)"
   ]
  }
 ],
 "metadata": {
  "colab": {
   "collapsed_sections": [
    "unnetHIdSTyl"
   ],
   "name": "Colab - ITSA Fat Segmentation.ipynb",
   "provenance": []
  },
  "kernelspec": {
   "display_name": "Python 3",
   "language": "python",
   "name": "python3"
  },
  "language_info": {
   "codemirror_mode": {
    "name": "ipython",
    "version": 3
   },
   "file_extension": ".py",
   "mimetype": "text/x-python",
   "name": "python",
   "nbconvert_exporter": "python",
   "pygments_lexer": "ipython3",
   "version": "3.8.5"
  }
 },
 "nbformat": 4,
 "nbformat_minor": 1
}
